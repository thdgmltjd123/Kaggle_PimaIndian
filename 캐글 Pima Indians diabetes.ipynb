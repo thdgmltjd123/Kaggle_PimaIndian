{
 "cells": [
  {
   "cell_type": "markdown",
   "metadata": {},
   "source": [
    "### 피마 당뇨병 데이터"
   ]
  },
  {
   "cell_type": "code",
   "execution_count": 215,
   "metadata": {},
   "outputs": [],
   "source": [
    "library(tidyverse)\n",
    "library(data.table)\n",
    "library(gridExtra)\n",
    "library(ggplot2)\n",
    "library(RColorBrewer)\n",
    "library(gridExtra)\n",
    "library(reshape2)"
   ]
  },
  {
   "cell_type": "code",
   "execution_count": 73,
   "metadata": {},
   "outputs": [],
   "source": [
    "data<-fread(\"diabetes.csv\")"
   ]
  },
  {
   "cell_type": "markdown",
   "metadata": {},
   "source": [
    "# 기술통계량 Outline 및 간단한 전처리"
   ]
  },
  {
   "cell_type": "markdown",
   "metadata": {},
   "source": [
    "데이터에 있는 모든 개체들은 여자들임"
   ]
  },
  {
   "cell_type": "code",
   "execution_count": 74,
   "metadata": {
    "scrolled": true
   },
   "outputs": [
    {
     "data": {
      "text/html": [
       "<table>\n",
       "<caption>A data.table: 6 × 9</caption>\n",
       "<thead>\n",
       "\t<tr><th scope=col>Pregnancies</th><th scope=col>Glucose</th><th scope=col>BloodPressure</th><th scope=col>SkinThickness</th><th scope=col>Insulin</th><th scope=col>BMI</th><th scope=col>DiabetesPedigreeFunction</th><th scope=col>Age</th><th scope=col>Outcome</th></tr>\n",
       "\t<tr><th scope=col>&lt;int&gt;</th><th scope=col>&lt;int&gt;</th><th scope=col>&lt;int&gt;</th><th scope=col>&lt;int&gt;</th><th scope=col>&lt;int&gt;</th><th scope=col>&lt;dbl&gt;</th><th scope=col>&lt;dbl&gt;</th><th scope=col>&lt;int&gt;</th><th scope=col>&lt;int&gt;</th></tr>\n",
       "</thead>\n",
       "<tbody>\n",
       "\t<tr><td>6</td><td>148</td><td>72</td><td>35</td><td>  0</td><td>33.6</td><td>0.627</td><td>50</td><td>1</td></tr>\n",
       "\t<tr><td>1</td><td> 85</td><td>66</td><td>29</td><td>  0</td><td>26.6</td><td>0.351</td><td>31</td><td>0</td></tr>\n",
       "\t<tr><td>8</td><td>183</td><td>64</td><td> 0</td><td>  0</td><td>23.3</td><td>0.672</td><td>32</td><td>1</td></tr>\n",
       "\t<tr><td>1</td><td> 89</td><td>66</td><td>23</td><td> 94</td><td>28.1</td><td>0.167</td><td>21</td><td>0</td></tr>\n",
       "\t<tr><td>0</td><td>137</td><td>40</td><td>35</td><td>168</td><td>43.1</td><td>2.288</td><td>33</td><td>1</td></tr>\n",
       "\t<tr><td>5</td><td>116</td><td>74</td><td> 0</td><td>  0</td><td>25.6</td><td>0.201</td><td>30</td><td>0</td></tr>\n",
       "</tbody>\n",
       "</table>\n"
      ],
      "text/latex": [
       "A data.table: 6 × 9\n",
       "\\begin{tabular}{lllllllll}\n",
       " Pregnancies & Glucose & BloodPressure & SkinThickness & Insulin & BMI & DiabetesPedigreeFunction & Age & Outcome\\\\\n",
       " <int> & <int> & <int> & <int> & <int> & <dbl> & <dbl> & <int> & <int>\\\\\n",
       "\\hline\n",
       "\t 6 & 148 & 72 & 35 &   0 & 33.6 & 0.627 & 50 & 1\\\\\n",
       "\t 1 &  85 & 66 & 29 &   0 & 26.6 & 0.351 & 31 & 0\\\\\n",
       "\t 8 & 183 & 64 &  0 &   0 & 23.3 & 0.672 & 32 & 1\\\\\n",
       "\t 1 &  89 & 66 & 23 &  94 & 28.1 & 0.167 & 21 & 0\\\\\n",
       "\t 0 & 137 & 40 & 35 & 168 & 43.1 & 2.288 & 33 & 1\\\\\n",
       "\t 5 & 116 & 74 &  0 &   0 & 25.6 & 0.201 & 30 & 0\\\\\n",
       "\\end{tabular}\n"
      ],
      "text/markdown": [
       "\n",
       "A data.table: 6 × 9\n",
       "\n",
       "| Pregnancies &lt;int&gt; | Glucose &lt;int&gt; | BloodPressure &lt;int&gt; | SkinThickness &lt;int&gt; | Insulin &lt;int&gt; | BMI &lt;dbl&gt; | DiabetesPedigreeFunction &lt;dbl&gt; | Age &lt;int&gt; | Outcome &lt;int&gt; |\n",
       "|---|---|---|---|---|---|---|---|---|\n",
       "| 6 | 148 | 72 | 35 |   0 | 33.6 | 0.627 | 50 | 1 |\n",
       "| 1 |  85 | 66 | 29 |   0 | 26.6 | 0.351 | 31 | 0 |\n",
       "| 8 | 183 | 64 |  0 |   0 | 23.3 | 0.672 | 32 | 1 |\n",
       "| 1 |  89 | 66 | 23 |  94 | 28.1 | 0.167 | 21 | 0 |\n",
       "| 0 | 137 | 40 | 35 | 168 | 43.1 | 2.288 | 33 | 1 |\n",
       "| 5 | 116 | 74 |  0 |   0 | 25.6 | 0.201 | 30 | 0 |\n",
       "\n"
      ],
      "text/plain": [
       "  Pregnancies Glucose BloodPressure SkinThickness Insulin BMI \n",
       "1 6           148     72            35              0     33.6\n",
       "2 1            85     66            29              0     26.6\n",
       "3 8           183     64             0              0     23.3\n",
       "4 1            89     66            23             94     28.1\n",
       "5 0           137     40            35            168     43.1\n",
       "6 5           116     74             0              0     25.6\n",
       "  DiabetesPedigreeFunction Age Outcome\n",
       "1 0.627                    50  1      \n",
       "2 0.351                    31  0      \n",
       "3 0.672                    32  1      \n",
       "4 0.167                    21  0      \n",
       "5 2.288                    33  1      \n",
       "6 0.201                    30  0      "
      ]
     },
     "metadata": {},
     "output_type": "display_data"
    }
   ],
   "source": [
    "head(data)"
   ]
  },
  {
   "cell_type": "code",
   "execution_count": 75,
   "metadata": {},
   "outputs": [
    {
     "data": {
      "text/plain": [
       "  Pregnancies        Glucose      BloodPressure    SkinThickness  \n",
       " Min.   : 0.000   Min.   :  0.0   Min.   :  0.00   Min.   : 0.00  \n",
       " 1st Qu.: 1.000   1st Qu.: 99.0   1st Qu.: 62.00   1st Qu.: 0.00  \n",
       " Median : 3.000   Median :117.0   Median : 72.00   Median :23.00  \n",
       " Mean   : 3.845   Mean   :120.9   Mean   : 69.11   Mean   :20.54  \n",
       " 3rd Qu.: 6.000   3rd Qu.:140.2   3rd Qu.: 80.00   3rd Qu.:32.00  \n",
       " Max.   :17.000   Max.   :199.0   Max.   :122.00   Max.   :99.00  \n",
       "    Insulin           BMI        DiabetesPedigreeFunction      Age       \n",
       " Min.   :  0.0   Min.   : 0.00   Min.   :0.0780           Min.   :21.00  \n",
       " 1st Qu.:  0.0   1st Qu.:27.30   1st Qu.:0.2437           1st Qu.:24.00  \n",
       " Median : 30.5   Median :32.00   Median :0.3725           Median :29.00  \n",
       " Mean   : 79.8   Mean   :31.99   Mean   :0.4719           Mean   :33.24  \n",
       " 3rd Qu.:127.2   3rd Qu.:36.60   3rd Qu.:0.6262           3rd Qu.:41.00  \n",
       " Max.   :846.0   Max.   :67.10   Max.   :2.4200           Max.   :81.00  \n",
       "    Outcome     \n",
       " Min.   :0.000  \n",
       " 1st Qu.:0.000  \n",
       " Median :0.000  \n",
       " Mean   :0.349  \n",
       " 3rd Qu.:1.000  \n",
       " Max.   :1.000  "
      ]
     },
     "metadata": {},
     "output_type": "display_data"
    }
   ],
   "source": [
    "summary(data)"
   ]
  },
  {
   "attachments": {
    "image.png": {
     "image/png": "[encoded data removed]"
    }
   },
   "cell_type": "markdown",
   "metadata": {},
   "source": [
    "![image.png](attachment:image.png)"
   ]
  },
  {
   "attachments": {
    "image.png": {
     "image/png": "[encoded data removed]"
    }
   },
   "cell_type": "markdown",
   "metadata": {},
   "source": [
    "![image.png](attachment:image.png)"
   ]
  },
  {
   "cell_type": "code",
   "execution_count": null,
   "metadata": {},
   "outputs": [],
   "source": [
    "# 나이 그룹별로 통게량 확인을 위해 나이 열 추가\n",
    "data[,AgeGroup := Age %/% 10]"
   ]
  },
  {
   "cell_type": "code",
   "execution_count": 77,
   "metadata": {},
   "outputs": [],
   "source": [
    "#고령자들 데이터 3개 제거.\n",
    "data <- data[AgeGroup<7]"
   ]
  },
  {
   "cell_type": "code",
   "execution_count": 121,
   "metadata": {},
   "outputs": [],
   "source": [
    "scatter_d <- function(df, col1, col2, ...) {\n",
    "    graph <- ggplot(df, aes(x = get(col1), y = get(col2))) + \n",
    "    geom_point(shape = 20, size = 5, aes(colour = factor(get(...)))) + \n",
    "    ggtitle(paste(\"Scatter Plot :\",col1,\"between\",col2)) + \n",
    "    labs(colour = paste(...), x = col1, y = col2)\n",
    "    \n",
    "    graph + scale_fill_brewer(palette = \"Set1\")\n",
    "    return(graph)\n",
    "}"
   ]
  },
  {
   "cell_type": "code",
   "execution_count": 115,
   "metadata": {},
   "outputs": [],
   "source": [
    "Boxplot <- function(df, col1) {\n",
    "    graph <- ggplot(df, aes(x = 1, y = get(col1))) +\n",
    "    geom_boxplot() +\n",
    "    ggtitle(paste(\"Boxplot of\",col1)) + \n",
    "    labs(x = \"value\", y = col1)\n",
    "    \n",
    "    return(graph)\n",
    "}"
   ]
  },
  {
   "cell_type": "code",
   "execution_count": 111,
   "metadata": {
    "scrolled": true
   },
   "outputs": [
    {
     "data": {
      "image/png": "[encoded data removed]",
      "text/plain": [
       "plot without title"
      ]
     },
     "metadata": {
      "image/png": {
       "height": 420,
       "width": 420
      }
     },
     "output_type": "display_data"
    }
   ],
   "source": [
    "sca_graph_list <- list()\n",
    "cols <- c(\"Glucose\", \"Pregnancies\", \"Insulin\", \"BloodPressure\",\n",
    "         \"SkinThickness\")\n",
    "\n",
    "for (i in 1:length(cols)){\n",
    "  sca_graph_list[[i]] = scatter_d(data, \"idx\", cols[i], \"Outcome\")\n",
    "}\n",
    "\n",
    "do.call(\"grid.arrange\", c(sca_graph_list, ncol = 3, nrow = 2))"
   ]
  },
  {
   "cell_type": "code",
   "execution_count": 118,
   "metadata": {},
   "outputs": [
    {
     "data": {
      "image/png": "[encoded data removed]",
      "text/plain": [
       "plot without title"
      ]
     },
     "metadata": {
      "image/png": {
       "height": 420,
       "width": 420
      }
     },
     "output_type": "display_data"
    }
   ],
   "source": [
    "box_graph_list <- list()\n",
    "cols <- c(\"Glucose\", \"Pregnancies\", \"Insulin\", \"BloodPressure\",\n",
    "         \"SkinThickness\")\n",
    "\n",
    "for (i in 1:length(cols)){\n",
    "  box_graph_list[[i]] = Boxplot(data, cols[i])\n",
    "}\n",
    "\n",
    "do.call(\"grid.arrange\", c(box_graph_list, ncol = 3, nrow = 2))"
   ]
  },
  {
   "cell_type": "markdown",
   "metadata": {},
   "source": [
    "# 혈압 및 BMI 변수 처리"
   ]
  },
  {
   "cell_type": "markdown",
   "metadata": {},
   "source": [
    "혈압의 연령별 평균이 다르고,   \n",
    "2~40대의 경우 혈압의 결측값이 많기 때문에,    \n",
    "혈압 결측값 연령별 혈압 중위수로 대체    \n",
    "why 중위수? 평균과 그렇게 차이 안나고 깔끔한 값  "
   ]
  },
  {
   "cell_type": "code",
   "execution_count": 78,
   "metadata": {},
   "outputs": [
    {
     "data": {
      "text/html": [
       "<table>\n",
       "<caption>A data.table: 5 × 2</caption>\n",
       "<thead>\n",
       "\t<tr><th scope=col>AgeGroup</th><th scope=col>V1</th></tr>\n",
       "\t<tr><th scope=col>&lt;dbl&gt;</th><th scope=col>&lt;dbl&gt;</th></tr>\n",
       "</thead>\n",
       "<tbody>\n",
       "\t<tr><td>2</td><td>68.82447</td></tr>\n",
       "\t<tr><td>3</td><td>73.68590</td></tr>\n",
       "\t<tr><td>4</td><td>77.21239</td></tr>\n",
       "\t<tr><td>5</td><td>79.80702</td></tr>\n",
       "\t<tr><td>6</td><td>78.27586</td></tr>\n",
       "</tbody>\n",
       "</table>\n"
      ],
      "text/latex": [
       "A data.table: 5 × 2\n",
       "\\begin{tabular}{ll}\n",
       " AgeGroup & V1\\\\\n",
       " <dbl> & <dbl>\\\\\n",
       "\\hline\n",
       "\t 2 & 68.82447\\\\\n",
       "\t 3 & 73.68590\\\\\n",
       "\t 4 & 77.21239\\\\\n",
       "\t 5 & 79.80702\\\\\n",
       "\t 6 & 78.27586\\\\\n",
       "\\end{tabular}\n"
      ],
      "text/markdown": [
       "\n",
       "A data.table: 5 × 2\n",
       "\n",
       "| AgeGroup &lt;dbl&gt; | V1 &lt;dbl&gt; |\n",
       "|---|---|\n",
       "| 2 | 68.82447 |\n",
       "| 3 | 73.68590 |\n",
       "| 4 | 77.21239 |\n",
       "| 5 | 79.80702 |\n",
       "| 6 | 78.27586 |\n",
       "\n"
      ],
      "text/plain": [
       "  AgeGroup V1      \n",
       "1 2        68.82447\n",
       "2 3        73.68590\n",
       "3 4        77.21239\n",
       "4 5        79.80702\n",
       "5 6        78.27586"
      ]
     },
     "metadata": {},
     "output_type": "display_data"
    },
    {
     "data": {
      "text/html": [
       "<table>\n",
       "<caption>A data.table: 5 × 2</caption>\n",
       "<thead>\n",
       "\t<tr><th scope=col>AgeGroup</th><th scope=col>V1</th></tr>\n",
       "\t<tr><th scope=col>&lt;dbl&gt;</th><th scope=col>&lt;dbl&gt;</th></tr>\n",
       "</thead>\n",
       "<tbody>\n",
       "\t<tr><td>2</td><td>68</td></tr>\n",
       "\t<tr><td>3</td><td>74</td></tr>\n",
       "\t<tr><td>4</td><td>78</td></tr>\n",
       "\t<tr><td>5</td><td>78</td></tr>\n",
       "\t<tr><td>6</td><td>78</td></tr>\n",
       "</tbody>\n",
       "</table>\n"
      ],
      "text/latex": [
       "A data.table: 5 × 2\n",
       "\\begin{tabular}{ll}\n",
       " AgeGroup & V1\\\\\n",
       " <dbl> & <dbl>\\\\\n",
       "\\hline\n",
       "\t 2 & 68\\\\\n",
       "\t 3 & 74\\\\\n",
       "\t 4 & 78\\\\\n",
       "\t 5 & 78\\\\\n",
       "\t 6 & 78\\\\\n",
       "\\end{tabular}\n"
      ],
      "text/markdown": [
       "\n",
       "A data.table: 5 × 2\n",
       "\n",
       "| AgeGroup &lt;dbl&gt; | V1 &lt;dbl&gt; |\n",
       "|---|---|\n",
       "| 2 | 68 |\n",
       "| 3 | 74 |\n",
       "| 4 | 78 |\n",
       "| 5 | 78 |\n",
       "| 6 | 78 |\n",
       "\n"
      ],
      "text/plain": [
       "  AgeGroup V1\n",
       "1 2        68\n",
       "2 3        74\n",
       "3 4        78\n",
       "4 5        78\n",
       "5 6        78"
      ]
     },
     "metadata": {},
     "output_type": "display_data"
    }
   ],
   "source": [
    "data[BloodPressure!=0,mean(BloodPressure),AgeGroup][order(AgeGroup)]\n",
    "data[BloodPressure!=0,median(BloodPressure),AgeGroup][order(AgeGroup)]"
   ]
  },
  {
   "cell_type": "code",
   "execution_count": 81,
   "metadata": {},
   "outputs": [],
   "source": [
    "data[BloodPressure == 0 & AgeGroup == 2, BloodPressure := 68]\n",
    "data[BloodPressure == 0 & AgeGroup == 3, BloodPressure := 74]\n",
    "data[BloodPressure == 0 & AgeGroup == 4, BloodPressure := 78]"
   ]
  },
  {
   "cell_type": "markdown",
   "metadata": {},
   "source": [
    "BMI 0으로 나온 값들 다 연령별 평균으로 대체    \n",
    "정규분포모양으로 생겨서 평균으로 대체하였음"
   ]
  },
  {
   "cell_type": "code",
   "execution_count": 39,
   "metadata": {},
   "outputs": [
    {
     "data": {
      "text/html": [
       "<table>\n",
       "<caption>A data.table: 5 × 2</caption>\n",
       "<thead>\n",
       "\t<tr><th scope=col>AgeGroup</th><th scope=col>V1</th></tr>\n",
       "\t<tr><th scope=col>&lt;dbl&gt;</th><th scope=col>&lt;dbl&gt;</th></tr>\n",
       "</thead>\n",
       "<tbody>\n",
       "\t<tr><td>2</td><td>32.03763</td></tr>\n",
       "\t<tr><td>3</td><td>32.67012</td></tr>\n",
       "\t<tr><td>4</td><td>34.61780</td></tr>\n",
       "\t<tr><td>5</td><td>31.89821</td></tr>\n",
       "\t<tr><td>6</td><td>29.73571</td></tr>\n",
       "</tbody>\n",
       "</table>\n"
      ],
      "text/latex": [
       "A data.table: 5 × 2\n",
       "\\begin{tabular}{ll}\n",
       " AgeGroup & V1\\\\\n",
       " <dbl> & <dbl>\\\\\n",
       "\\hline\n",
       "\t 2 & 32.03763\\\\\n",
       "\t 3 & 32.67012\\\\\n",
       "\t 4 & 34.61780\\\\\n",
       "\t 5 & 31.89821\\\\\n",
       "\t 6 & 29.73571\\\\\n",
       "\\end{tabular}\n"
      ],
      "text/markdown": [
       "\n",
       "A data.table: 5 × 2\n",
       "\n",
       "| AgeGroup &lt;dbl&gt; | V1 &lt;dbl&gt; |\n",
       "|---|---|\n",
       "| 2 | 32.03763 |\n",
       "| 3 | 32.67012 |\n",
       "| 4 | 34.61780 |\n",
       "| 5 | 31.89821 |\n",
       "| 6 | 29.73571 |\n",
       "\n"
      ],
      "text/plain": [
       "  AgeGroup V1      \n",
       "1 2        32.03763\n",
       "2 3        32.67012\n",
       "3 4        34.61780\n",
       "4 5        31.89821\n",
       "5 6        29.73571"
      ]
     },
     "metadata": {},
     "output_type": "display_data"
    },
    {
     "data": {
      "text/html": [
       "<table>\n",
       "<caption>A data.table: 5 × 2</caption>\n",
       "<thead>\n",
       "\t<tr><th scope=col>AgeGroup</th><th scope=col>V1</th></tr>\n",
       "\t<tr><th scope=col>&lt;dbl&gt;</th><th scope=col>&lt;dbl&gt;</th></tr>\n",
       "</thead>\n",
       "<tbody>\n",
       "\t<tr><td>2</td><td>31.60</td></tr>\n",
       "\t<tr><td>3</td><td>32.00</td></tr>\n",
       "\t<tr><td>4</td><td>33.95</td></tr>\n",
       "\t<tr><td>5</td><td>33.05</td></tr>\n",
       "\t<tr><td>6</td><td>29.30</td></tr>\n",
       "</tbody>\n",
       "</table>\n"
      ],
      "text/latex": [
       "A data.table: 5 × 2\n",
       "\\begin{tabular}{ll}\n",
       " AgeGroup & V1\\\\\n",
       " <dbl> & <dbl>\\\\\n",
       "\\hline\n",
       "\t 2 & 31.60\\\\\n",
       "\t 3 & 32.00\\\\\n",
       "\t 4 & 33.95\\\\\n",
       "\t 5 & 33.05\\\\\n",
       "\t 6 & 29.30\\\\\n",
       "\\end{tabular}\n"
      ],
      "text/markdown": [
       "\n",
       "A data.table: 5 × 2\n",
       "\n",
       "| AgeGroup &lt;dbl&gt; | V1 &lt;dbl&gt; |\n",
       "|---|---|\n",
       "| 2 | 31.60 |\n",
       "| 3 | 32.00 |\n",
       "| 4 | 33.95 |\n",
       "| 5 | 33.05 |\n",
       "| 6 | 29.30 |\n",
       "\n"
      ],
      "text/plain": [
       "  AgeGroup V1   \n",
       "1 2        31.60\n",
       "2 3        32.00\n",
       "3 4        33.95\n",
       "4 5        33.05\n",
       "5 6        29.30"
      ]
     },
     "metadata": {},
     "output_type": "display_data"
    }
   ],
   "source": [
    "data[BMI != 0, mean(BMI), AgeGroup][order(AgeGroup)]\n",
    "data[BMI != 0, median(BMI), AgeGroup][order(AgeGroup)]"
   ]
  },
  {
   "cell_type": "code",
   "execution_count": 84,
   "metadata": {},
   "outputs": [],
   "source": [
    "data[BMI==0 & AgeGroup == 2, BMI:=32.04]\n",
    "data[BMI==0 & AgeGroup == 3, BMI:=32.67]\n",
    "data[BMI==0 & AgeGroup == 5, BMI:=31.90]\n",
    "data[BMI==0 & AgeGroup == 6, BMI:=29.74]"
   ]
  },
  {
   "cell_type": "code",
   "execution_count": 86,
   "metadata": {},
   "outputs": [],
   "source": [
    "# BMI 그룹별로 나누는 변수 추가\n",
    "data[,BMI_cat := ifelse(BMI < 18.5,\"uw\",ifelse(BMI<25,\"nm\",ifelse(BMI<30,\"ow\",\"ob\")))]\n",
    "# row index 추가\n",
    "data[, idx := seq(1,764)]"
   ]
  },
  {
   "cell_type": "markdown",
   "metadata": {},
   "source": [
    "# Glucose 결측값 처리"
   ]
  },
  {
   "cell_type": "code",
   "execution_count": 120,
   "metadata": {
    "scrolled": true
   },
   "outputs": [
    {
     "data": {
      "text/html": [
       "<table>\n",
       "<caption>A data.table: 0 × 12</caption>\n",
       "<thead>\n",
       "\t<tr><th scope=col>Pregnancies</th><th scope=col>Glucose</th><th scope=col>BloodPressure</th><th scope=col>SkinThickness</th><th scope=col>Insulin</th><th scope=col>BMI</th><th scope=col>DiabetesPedigreeFunction</th><th scope=col>Age</th><th scope=col>Outcome</th><th scope=col>AgeGroup</th><th scope=col>BMI_cat</th><th scope=col>idx</th></tr>\n",
       "\t<tr><th scope=col>&lt;int&gt;</th><th scope=col>&lt;int&gt;</th><th scope=col>&lt;int&gt;</th><th scope=col>&lt;int&gt;</th><th scope=col>&lt;int&gt;</th><th scope=col>&lt;dbl&gt;</th><th scope=col>&lt;dbl&gt;</th><th scope=col>&lt;int&gt;</th><th scope=col>&lt;int&gt;</th><th scope=col>&lt;dbl&gt;</th><th scope=col>&lt;chr&gt;</th><th scope=col>&lt;int&gt;</th></tr>\n",
       "</thead>\n",
       "<tbody>\n",
       "</tbody>\n",
       "</table>\n"
      ],
      "text/latex": [
       "A data.table: 0 × 12\n",
       "\\begin{tabular}{llllllllllll}\n",
       " Pregnancies & Glucose & BloodPressure & SkinThickness & Insulin & BMI & DiabetesPedigreeFunction & Age & Outcome & AgeGroup & BMI\\_cat & idx\\\\\n",
       " <int> & <int> & <int> & <int> & <int> & <dbl> & <dbl> & <int> & <int> & <dbl> & <chr> & <int>\\\\\n",
       "\\hline\n",
       "\\end{tabular}\n"
      ],
      "text/markdown": [
       "\n",
       "A data.table: 0 × 12\n",
       "\n",
       "| Pregnancies &lt;int&gt; | Glucose &lt;int&gt; | BloodPressure &lt;int&gt; | SkinThickness &lt;int&gt; | Insulin &lt;int&gt; | BMI &lt;dbl&gt; | DiabetesPedigreeFunction &lt;dbl&gt; | Age &lt;int&gt; | Outcome &lt;int&gt; | AgeGroup &lt;dbl&gt; | BMI_cat &lt;chr&gt; | idx &lt;int&gt; |\n",
       "|---|---|---|---|---|---|---|---|---|---|---|---|\n",
       "\n"
      ],
      "text/plain": [
       "     Pregnancies Glucose BloodPressure SkinThickness Insulin BMI\n",
       "     DiabetesPedigreeFunction Age Outcome AgeGroup BMI_cat idx"
      ]
     },
     "metadata": {},
     "output_type": "display_data"
    }
   ],
   "source": [
    "data[Glucose == 0]"
   ]
  },
  {
   "cell_type": "code",
   "execution_count": 119,
   "metadata": {},
   "outputs": [],
   "source": [
    "data[Glucose == 0 & BloodPressure == 48, Glucose:=98]\n",
    "data[Glucose == 0 & BloodPressure == 74, Glucose:=89]\n",
    "data[Glucose == 0 & BMI == 32.0, Glucose:=109]\n",
    "data[Glucose == 0 & BMI == 39, Glucose:=158]\n",
    "data[Glucose == 0 & BloodPressure == 80, Glucose:=140]"
   ]
  },
  {
   "cell_type": "markdown",
   "metadata": {},
   "source": [
    "글루코오스 같은 경우, 결측치가 5개 행밖에 없기 때문에  \n",
    "가장 결측 행과 비슷한 행의 값들을 찾아 단일일 땐 그 값을 적고  \n",
    "그 외에는 평균을 하고, 반올림 처리 하여 결측을 채웠다.   \n",
    "\n",
    "추가적으로 알아낸 사실은 인슐린과 글루코오스간 관계가 있어보여서 히스토그램을 그려볼 것이다.  \n",
    "만일 관계가 있다면 Insulin의 많은 결측값도 채워볼 수 있지 않을까 싶다.  "
   ]
  },
  {
   "cell_type": "markdown",
   "metadata": {},
   "source": [
    "# Insulin 변수 처리 .. 난관..\n",
    "\n",
    "일단 변수에 0이 너무 많아서 분명 결측치도 있을 것이라고 생각하지만   \n",
    "일단 스킵한다.  "
   ]
  },
  {
   "cell_type": "code",
   "execution_count": 125,
   "metadata": {},
   "outputs": [
    {
     "data": {
      "image/png": "[encoded data removed]",
      "text/plain": [
       "plot without title"
      ]
     },
     "metadata": {
      "image/png": {
       "height": 420,
       "width": 420
      }
     },
     "output_type": "display_data"
    }
   ],
   "source": [
    "scatter_d(data[Insulin != 0], \"Glucose\", \"Insulin\", \"Outcome\")"
   ]
  },
  {
   "cell_type": "code",
   "execution_count": 195,
   "metadata": {},
   "outputs": [
    {
     "data": {
      "image/png": "[encoded data removed]",
      "text/plain": [
       "plot without title"
      ]
     },
     "metadata": {
      "image/png": {
       "height": 420,
       "width": 420
      }
     },
     "output_type": "display_data"
    }
   ],
   "source": [
    "scatter_d(data, \"Glucose\", \"Insulin\", \"Outcome\") + geom_vline(xintercept = 126, col = \"green\", size = 1)"
   ]
  },
  {
   "cell_type": "code",
   "execution_count": 194,
   "metadata": {},
   "outputs": [
    {
     "data": {
      "image/png": "[encoded data removed]",
      "text/plain": [
       "plot without title"
      ]
     },
     "metadata": {
      "image/png": {
       "height": 420,
       "width": 420
      }
     },
     "output_type": "display_data"
    }
   ],
   "source": [
    "scatter_d(data[Insulin != 0], \"BMI\", \"Insulin\", \"Outcome\") + geom_vline(xintercept = 30, col = \"green\", size = 1)"
   ]
  },
  {
   "cell_type": "markdown",
   "metadata": {},
   "source": [
    "모르겠고,, insulin은 당뇨 아닌사람과 당뇨인 사람의 값의 메디안을 채우겠다."
   ]
  },
  {
   "cell_type": "code",
   "execution_count": 179,
   "metadata": {
    "scrolled": true
   },
   "outputs": [
    {
     "data": {
      "text/html": [
       "<table>\n",
       "<caption>A data.table: 2 × 2</caption>\n",
       "<thead>\n",
       "\t<tr><th scope=col>Outcome</th><th scope=col>V1</th></tr>\n",
       "\t<tr><th scope=col>&lt;int&gt;</th><th scope=col>&lt;dbl&gt;</th></tr>\n",
       "</thead>\n",
       "<tbody>\n",
       "\t<tr><td>0</td><td>105.0</td></tr>\n",
       "\t<tr><td>1</td><td>169.5</td></tr>\n",
       "</tbody>\n",
       "</table>\n"
      ],
      "text/latex": [
       "A data.table: 2 × 2\n",
       "\\begin{tabular}{ll}\n",
       " Outcome & V1\\\\\n",
       " <int> & <dbl>\\\\\n",
       "\\hline\n",
       "\t 0 & 105.0\\\\\n",
       "\t 1 & 169.5\\\\\n",
       "\\end{tabular}\n"
      ],
      "text/markdown": [
       "\n",
       "A data.table: 2 × 2\n",
       "\n",
       "| Outcome &lt;int&gt; | V1 &lt;dbl&gt; |\n",
       "|---|---|\n",
       "| 0 | 105.0 |\n",
       "| 1 | 169.5 |\n",
       "\n"
      ],
      "text/plain": [
       "  Outcome V1   \n",
       "1 0       105.0\n",
       "2 1       169.5"
      ]
     },
     "metadata": {},
     "output_type": "display_data"
    }
   ],
   "source": [
    "data[Insulin != 0, median(Insulin), by = Outcome]"
   ]
  },
  {
   "cell_type": "code",
   "execution_count": 182,
   "metadata": {},
   "outputs": [],
   "source": [
    "data[Insulin == 0 & Outcome == 0, Insulin:= 105.0]\n",
    "data[Insulin == 0 & Outcome == 1, Insulin:= 169.0]"
   ]
  },
  {
   "cell_type": "markdown",
   "metadata": {},
   "source": [
    "인슐린의 정상 수치 범위는 공복 시 5\\~15이며, 인슐린 저항성이   \n",
    "있는 경우 15\\~40"
   ]
  },
  {
   "cell_type": "markdown",
   "metadata": {},
   "source": [
    "# SkinThickness 변수 처리\n",
    "\n",
    "이런 경우는 BMI수치에 따라 SkinThickness가 관계를 가지므로,   \n",
    "회귀분석을 실행하여 SkinThickness값을 채워주도록 하겠음..!!  "
   ]
  },
  {
   "cell_type": "code",
   "execution_count": 165,
   "metadata": {},
   "outputs": [],
   "source": [
    "rline <- lm(data[SkinThickness!=0,SkinThickness]~data[SkinThickness!=0,BMI])"
   ]
  },
  {
   "cell_type": "code",
   "execution_count": 166,
   "metadata": {},
   "outputs": [
    {
     "data": {
      "text/plain": [
       "\n",
       "Call:\n",
       "lm(formula = data[SkinThickness != 0, SkinThickness] ~ data[SkinThickness != \n",
       "    0, BMI])\n",
       "\n",
       "Coefficients:\n",
       "                  (Intercept)  data[SkinThickness != 0, BMI]  \n",
       "                      -3.4650                         0.9878  \n"
      ]
     },
     "metadata": {},
     "output_type": "display_data"
    }
   ],
   "source": [
    "rline"
   ]
  },
  {
   "cell_type": "code",
   "execution_count": 167,
   "metadata": {},
   "outputs": [
    {
     "data": {
      "image/png": "[encoded data removed]",
      "text/plain": [
       "plot without title"
      ]
     },
     "metadata": {
      "image/png": {
       "height": 420,
       "width": 420
      }
     },
     "output_type": "display_data"
    }
   ],
   "source": [
    "scatter_d(data[SkinThickness!=0], \"BMI\", \"SkinThickness\", \"Outcome\") +\n",
    "    geom_smooth(method = 'lm', formula = y~x, color = \"green\")"
   ]
  },
  {
   "cell_type": "code",
   "execution_count": 162,
   "metadata": {},
   "outputs": [],
   "source": [
    "# 아웃라이어 제거\n",
    "data <- data[idx != 578]"
   ]
  },
  {
   "cell_type": "code",
   "execution_count": 171,
   "metadata": {
    "scrolled": true
   },
   "outputs": [],
   "source": [
    "# StickThickness 값 채우기\n",
    "data[SkinThickness == 0 , SkinThickness := round(-3.4650 + 0.9878*BMI)]"
   ]
  },
  {
   "cell_type": "code",
   "execution_count": 184,
   "metadata": {
    "scrolled": true
   },
   "outputs": [
    {
     "data": {
      "text/html": [
       "<table>\n",
       "<caption>A data.table: 6 × 12</caption>\n",
       "<thead>\n",
       "\t<tr><th scope=col>Pregnancies</th><th scope=col>Glucose</th><th scope=col>BloodPressure</th><th scope=col>SkinThickness</th><th scope=col>Insulin</th><th scope=col>BMI</th><th scope=col>DiabetesPedigreeFunction</th><th scope=col>Age</th><th scope=col>Outcome</th><th scope=col>AgeGroup</th><th scope=col>BMI_cat</th><th scope=col>idx</th></tr>\n",
       "\t<tr><th scope=col>&lt;int&gt;</th><th scope=col>&lt;int&gt;</th><th scope=col>&lt;int&gt;</th><th scope=col>&lt;int&gt;</th><th scope=col>&lt;int&gt;</th><th scope=col>&lt;dbl&gt;</th><th scope=col>&lt;dbl&gt;</th><th scope=col>&lt;int&gt;</th><th scope=col>&lt;int&gt;</th><th scope=col>&lt;dbl&gt;</th><th scope=col>&lt;chr&gt;</th><th scope=col>&lt;int&gt;</th></tr>\n",
       "</thead>\n",
       "<tbody>\n",
       "\t<tr><td>6</td><td>148</td><td>72</td><td>35</td><td>169</td><td>33.6</td><td>0.627</td><td>50</td><td>1</td><td>5</td><td>ob</td><td>1</td></tr>\n",
       "\t<tr><td>1</td><td> 85</td><td>66</td><td>29</td><td>105</td><td>26.6</td><td>0.351</td><td>31</td><td>0</td><td>3</td><td>ow</td><td>2</td></tr>\n",
       "\t<tr><td>8</td><td>183</td><td>64</td><td>19</td><td>169</td><td>23.3</td><td>0.672</td><td>32</td><td>1</td><td>3</td><td>nm</td><td>3</td></tr>\n",
       "\t<tr><td>1</td><td> 89</td><td>66</td><td>23</td><td> 94</td><td>28.1</td><td>0.167</td><td>21</td><td>0</td><td>2</td><td>ow</td><td>4</td></tr>\n",
       "\t<tr><td>0</td><td>137</td><td>40</td><td>35</td><td>168</td><td>43.1</td><td>2.288</td><td>33</td><td>1</td><td>3</td><td>ob</td><td>5</td></tr>\n",
       "\t<tr><td>5</td><td>116</td><td>74</td><td>21</td><td>105</td><td>25.6</td><td>0.201</td><td>30</td><td>0</td><td>3</td><td>ow</td><td>6</td></tr>\n",
       "</tbody>\n",
       "</table>\n"
      ],
      "text/latex": [
       "A data.table: 6 × 12\n",
       "\\begin{tabular}{llllllllllll}\n",
       " Pregnancies & Glucose & BloodPressure & SkinThickness & Insulin & BMI & DiabetesPedigreeFunction & Age & Outcome & AgeGroup & BMI\\_cat & idx\\\\\n",
       " <int> & <int> & <int> & <int> & <int> & <dbl> & <dbl> & <int> & <int> & <dbl> & <chr> & <int>\\\\\n",
       "\\hline\n",
       "\t 6 & 148 & 72 & 35 & 169 & 33.6 & 0.627 & 50 & 1 & 5 & ob & 1\\\\\n",
       "\t 1 &  85 & 66 & 29 & 105 & 26.6 & 0.351 & 31 & 0 & 3 & ow & 2\\\\\n",
       "\t 8 & 183 & 64 & 19 & 169 & 23.3 & 0.672 & 32 & 1 & 3 & nm & 3\\\\\n",
       "\t 1 &  89 & 66 & 23 &  94 & 28.1 & 0.167 & 21 & 0 & 2 & ow & 4\\\\\n",
       "\t 0 & 137 & 40 & 35 & 168 & 43.1 & 2.288 & 33 & 1 & 3 & ob & 5\\\\\n",
       "\t 5 & 116 & 74 & 21 & 105 & 25.6 & 0.201 & 30 & 0 & 3 & ow & 6\\\\\n",
       "\\end{tabular}\n"
      ],
      "text/markdown": [
       "\n",
       "A data.table: 6 × 12\n",
       "\n",
       "| Pregnancies &lt;int&gt; | Glucose &lt;int&gt; | BloodPressure &lt;int&gt; | SkinThickness &lt;int&gt; | Insulin &lt;int&gt; | BMI &lt;dbl&gt; | DiabetesPedigreeFunction &lt;dbl&gt; | Age &lt;int&gt; | Outcome &lt;int&gt; | AgeGroup &lt;dbl&gt; | BMI_cat &lt;chr&gt; | idx &lt;int&gt; |\n",
       "|---|---|---|---|---|---|---|---|---|---|---|---|\n",
       "| 6 | 148 | 72 | 35 | 169 | 33.6 | 0.627 | 50 | 1 | 5 | ob | 1 |\n",
       "| 1 |  85 | 66 | 29 | 105 | 26.6 | 0.351 | 31 | 0 | 3 | ow | 2 |\n",
       "| 8 | 183 | 64 | 19 | 169 | 23.3 | 0.672 | 32 | 1 | 3 | nm | 3 |\n",
       "| 1 |  89 | 66 | 23 |  94 | 28.1 | 0.167 | 21 | 0 | 2 | ow | 4 |\n",
       "| 0 | 137 | 40 | 35 | 168 | 43.1 | 2.288 | 33 | 1 | 3 | ob | 5 |\n",
       "| 5 | 116 | 74 | 21 | 105 | 25.6 | 0.201 | 30 | 0 | 3 | ow | 6 |\n",
       "\n"
      ],
      "text/plain": [
       "  Pregnancies Glucose BloodPressure SkinThickness Insulin BMI \n",
       "1 6           148     72            35            169     33.6\n",
       "2 1            85     66            29            105     26.6\n",
       "3 8           183     64            19            169     23.3\n",
       "4 1            89     66            23             94     28.1\n",
       "5 0           137     40            35            168     43.1\n",
       "6 5           116     74            21            105     25.6\n",
       "  DiabetesPedigreeFunction Age Outcome AgeGroup BMI_cat idx\n",
       "1 0.627                    50  1       5        ob      1  \n",
       "2 0.351                    31  0       3        ow      2  \n",
       "3 0.672                    32  1       3        nm      3  \n",
       "4 0.167                    21  0       2        ow      4  \n",
       "5 2.288                    33  1       3        ob      5  \n",
       "6 0.201                    30  0       3        ow      6  "
      ]
     },
     "metadata": {},
     "output_type": "display_data"
    }
   ],
   "source": [
    "head(data)"
   ]
  },
  {
   "cell_type": "code",
   "execution_count": 226,
   "metadata": {},
   "outputs": [
    {
     "data": {
      "text/html": [
       "<table>\n",
       "<caption>A matrix: 8 × 8 of type dbl</caption>\n",
       "<thead>\n",
       "\t<tr><th></th><th scope=col>Pregnancies</th><th scope=col>Glucose</th><th scope=col>BloodPressure</th><th scope=col>SkinThickness</th><th scope=col>Insulin</th><th scope=col>BMI</th><th scope=col>DiabetesPedigreeFunction</th><th scope=col>Age</th></tr>\n",
       "</thead>\n",
       "<tbody>\n",
       "\t<tr><th scope=row>Pregnancies</th><td> 1.00</td><td>0.13</td><td>0.21</td><td>0.08</td><td>0.06</td><td>0.02</td><td>-0.03</td><td>0.56</td></tr>\n",
       "\t<tr><th scope=row>Glucose</th><td> 0.13</td><td>1.00</td><td>0.23</td><td>0.20</td><td>0.49</td><td>0.24</td><td> 0.14</td><td>0.27</td></tr>\n",
       "\t<tr><th scope=row>BloodPressure</th><td> 0.21</td><td>0.23</td><td>1.00</td><td>0.23</td><td>0.07</td><td>0.29</td><td> 0.00</td><td>0.34</td></tr>\n",
       "\t<tr><th scope=row>SkinThickness</th><td> 0.08</td><td>0.20</td><td>0.23</td><td>1.00</td><td>0.20</td><td>0.74</td><td> 0.13</td><td>0.08</td></tr>\n",
       "\t<tr><th scope=row>Insulin</th><td> 0.06</td><td>0.49</td><td>0.07</td><td>0.20</td><td>1.00</td><td>0.23</td><td> 0.15</td><td>0.13</td></tr>\n",
       "\t<tr><th scope=row>BMI</th><td> 0.02</td><td>0.24</td><td>0.29</td><td>0.74</td><td>0.23</td><td>1.00</td><td> 0.16</td><td>0.04</td></tr>\n",
       "\t<tr><th scope=row>DiabetesPedigreeFunction</th><td>-0.03</td><td>0.14</td><td>0.00</td><td>0.13</td><td>0.15</td><td>0.16</td><td> 1.00</td><td>0.03</td></tr>\n",
       "\t<tr><th scope=row>Age</th><td> 0.56</td><td>0.27</td><td>0.34</td><td>0.08</td><td>0.13</td><td>0.04</td><td> 0.03</td><td>1.00</td></tr>\n",
       "</tbody>\n",
       "</table>\n"
      ],
      "text/latex": [
       "A matrix: 8 × 8 of type dbl\n",
       "\\begin{tabular}{r|llllllll}\n",
       "  & Pregnancies & Glucose & BloodPressure & SkinThickness & Insulin & BMI & DiabetesPedigreeFunction & Age\\\\\n",
       "\\hline\n",
       "\tPregnancies &  1.00 & 0.13 & 0.21 & 0.08 & 0.06 & 0.02 & -0.03 & 0.56\\\\\n",
       "\tGlucose &  0.13 & 1.00 & 0.23 & 0.20 & 0.49 & 0.24 &  0.14 & 0.27\\\\\n",
       "\tBloodPressure &  0.21 & 0.23 & 1.00 & 0.23 & 0.07 & 0.29 &  0.00 & 0.34\\\\\n",
       "\tSkinThickness &  0.08 & 0.20 & 0.23 & 1.00 & 0.20 & 0.74 &  0.13 & 0.08\\\\\n",
       "\tInsulin &  0.06 & 0.49 & 0.07 & 0.20 & 1.00 & 0.23 &  0.15 & 0.13\\\\\n",
       "\tBMI &  0.02 & 0.24 & 0.29 & 0.74 & 0.23 & 1.00 &  0.16 & 0.04\\\\\n",
       "\tDiabetesPedigreeFunction & -0.03 & 0.14 & 0.00 & 0.13 & 0.15 & 0.16 &  1.00 & 0.03\\\\\n",
       "\tAge &  0.56 & 0.27 & 0.34 & 0.08 & 0.13 & 0.04 &  0.03 & 1.00\\\\\n",
       "\\end{tabular}\n"
      ],
      "text/markdown": [
       "\n",
       "A matrix: 8 × 8 of type dbl\n",
       "\n",
       "| <!--/--> | Pregnancies | Glucose | BloodPressure | SkinThickness | Insulin | BMI | DiabetesPedigreeFunction | Age |\n",
       "|---|---|---|---|---|---|---|---|---|\n",
       "| Pregnancies |  1.00 | 0.13 | 0.21 | 0.08 | 0.06 | 0.02 | -0.03 | 0.56 |\n",
       "| Glucose |  0.13 | 1.00 | 0.23 | 0.20 | 0.49 | 0.24 |  0.14 | 0.27 |\n",
       "| BloodPressure |  0.21 | 0.23 | 1.00 | 0.23 | 0.07 | 0.29 |  0.00 | 0.34 |\n",
       "| SkinThickness |  0.08 | 0.20 | 0.23 | 1.00 | 0.20 | 0.74 |  0.13 | 0.08 |\n",
       "| Insulin |  0.06 | 0.49 | 0.07 | 0.20 | 1.00 | 0.23 |  0.15 | 0.13 |\n",
       "| BMI |  0.02 | 0.24 | 0.29 | 0.74 | 0.23 | 1.00 |  0.16 | 0.04 |\n",
       "| DiabetesPedigreeFunction | -0.03 | 0.14 | 0.00 | 0.13 | 0.15 | 0.16 |  1.00 | 0.03 |\n",
       "| Age |  0.56 | 0.27 | 0.34 | 0.08 | 0.13 | 0.04 |  0.03 | 1.00 |\n",
       "\n"
      ],
      "text/plain": [
       "                         Pregnancies Glucose BloodPressure SkinThickness\n",
       "Pregnancies               1.00       0.13    0.21          0.08         \n",
       "Glucose                   0.13       1.00    0.23          0.20         \n",
       "BloodPressure             0.21       0.23    1.00          0.23         \n",
       "SkinThickness             0.08       0.20    0.23          1.00         \n",
       "Insulin                   0.06       0.49    0.07          0.20         \n",
       "BMI                       0.02       0.24    0.29          0.74         \n",
       "DiabetesPedigreeFunction -0.03       0.14    0.00          0.13         \n",
       "Age                       0.56       0.27    0.34          0.08         \n",
       "                         Insulin BMI  DiabetesPedigreeFunction Age \n",
       "Pregnancies              0.06    0.02 -0.03                    0.56\n",
       "Glucose                  0.49    0.24  0.14                    0.27\n",
       "BloodPressure            0.07    0.29  0.00                    0.34\n",
       "SkinThickness            0.20    0.74  0.13                    0.08\n",
       "Insulin                  1.00    0.23  0.15                    0.13\n",
       "BMI                      0.23    1.00  0.16                    0.04\n",
       "DiabetesPedigreeFunction 0.15    0.16  1.00                    0.03\n",
       "Age                      0.13    0.04  0.03                    1.00"
      ]
     },
     "metadata": {},
     "output_type": "display_data"
    }
   ],
   "source": [
    "#상관계수 heatmap 그리기..!!\n",
    "temp <- data[, c(1,2,3,4,5,6,7,8)]\n",
    "cormat <- round(cor(temp),2)\n",
    "cormat"
   ]
  },
  {
   "cell_type": "code",
   "execution_count": 227,
   "metadata": {},
   "outputs": [],
   "source": [
    "get_lower_tri <- function(cormat){\n",
    "    cormat[upper.tri(cormat)] <- NA\n",
    "    return(cormat)\n",
    "}\n",
    "get_upper_tri <- function(cormat){\n",
    "    cormat[lower.tri(cormat)] <- NA\n",
    "    return(cormat)\n",
    "}\n",
    "reorder_cormat <- function(cormat){\n",
    "    # Use correlation between variables as distance\n",
    "    dd <- as.dist((1-cormat)/2)\n",
    "    hc <- hclust(dd)\n",
    "    cormat <-cormat[hc$order, hc$order]\n",
    "}\n",
    "upper_tri <- get_upper_tri(cormat)\n",
    "melted_cormat <- melt(upper_tri,na.rm = TRUE)"
   ]
  },
  {
   "cell_type": "code",
   "execution_count": 228,
   "metadata": {},
   "outputs": [],
   "source": [
    "heatmap <- function(melted_data){\n",
    "    graph <- ggplot(data = melted_data, aes(Var2, Var1, fill = value)) +\n",
    "    geom_tile(color = \"white\") + \n",
    "    scale_fill_gradient2(low = \"blue\", high = \"red\", mid = \"white\",\n",
    "                        midpoint = 0, limit = c(-1,1), space = \"Lab\",\n",
    "                        name = \"Pearson\\nCorrelation\") + \n",
    "    theme_minimal() +\n",
    "    theme(axis.text.x = element_text(angle = 45, vjust = 1, size = 12, hjust = 1)) +\n",
    "    coord_fixed()\n",
    "    return(graph)\n",
    "} "
   ]
  },
  {
   "cell_type": "code",
   "execution_count": 229,
   "metadata": {
    "scrolled": false
   },
   "outputs": [
    {
     "data": {
      "image/png": "[encoded data removed]",
      "text/plain": [
       "plot without title"
      ]
     },
     "metadata": {
      "image/png": {
       "height": 420,
       "width": 420
      }
     },
     "output_type": "display_data"
    }
   ],
   "source": [
    "cormat <- reorder_cormat(cormat)\n",
    "upper_tri <- get_upper_tri(cormat)\n",
    "melted_cormat <- melt(upper_tri, na.rm = TRUE)\n",
    "heatmap(melted_cormat) + \n",
    "geom_text(aes(Var2, Var1, label = value), color = \"black\", size = 4) +\n",
    "theme(\n",
    "  axis.title.x = element_blank(),\n",
    "  axis.title.y = element_blank(),\n",
    "  panel.grid.major = element_blank(),\n",
    "  panel.border = element_blank(),\n",
    "  panel.background = element_blank(),\n",
    "  axis.ticks = element_blank(),\n",
    "  legend.justification = c(1, 0),\n",
    "  legend.position = c(0.6, 0.7),\n",
    "  legend.direction = \"horizontal\")+\n",
    "  guides(fill = guide_colorbar(barwidth = 7, barheight = 1,\n",
    "                title.position = \"top\", title.hjust = 0.5))"
   ]
  },
  {
   "cell_type": "markdown",
   "metadata": {},
   "source": [
    "+ 이전에 EDA로 살펴보았던 그래프들이 역시 상관계수가 높게 나왔음.   \n",
    "+ Pregnancy와 Age는 한번 봐볼 필요가 있음."
   ]
  },
  {
   "cell_type": "code",
   "execution_count": 236,
   "metadata": {},
   "outputs": [
    {
     "data": {
      "image/png": "[encoded data removed]",
      "text/plain": [
       "plot without title"
      ]
     },
     "metadata": {
      "image/png": {
       "height": 420,
       "width": 420
      }
     },
     "output_type": "display_data"
    }
   ],
   "source": [
    "scatter_d(data, \"Age\",\"Pregnancies\",\"Outcome\") + \n",
    "    geom_vline(xintercept = 34.5, col = \"green\", size = 1) + \n",
    "    geom_hline(yintercept = 6.5, col = \"green\", size = 1)"
   ]
  },
  {
   "cell_type": "markdown",
   "metadata": {},
   "source": [
    "좌측 하단을 보면 대부분의 데이터가 몰려있는 것을 확인할 수 있고,     \n",
    "당뇨가 아닌 사람들이 집중적으로 포진되어 있음   \n",
    "따라서 이 부분을 새로운 변수로 만들어볼만 함 !!"
   ]
  },
  {
   "cell_type": "markdown",
   "metadata": {},
   "source": [
    "# 추가로 더해줄만한 변수"
   ]
  },
  {
   "cell_type": "code",
   "execution_count": 190,
   "metadata": {
    "scrolled": false
   },
   "outputs": [
    {
     "data": {
      "text/html": [
       "<table>\n",
       "<caption>A data.table: 5 × 1</caption>\n",
       "<thead>\n",
       "\t<tr><th scope=col>N</th></tr>\n",
       "\t<tr><th scope=col>&lt;dbl&gt;</th></tr>\n",
       "</thead>\n",
       "<tbody>\n",
       "\t<tr><td>0.2121212</td></tr>\n",
       "\t<tr><td>0.4606061</td></tr>\n",
       "\t<tr><td>0.5508475</td></tr>\n",
       "\t<tr><td>0.5964912</td></tr>\n",
       "\t<tr><td>0.2500000</td></tr>\n",
       "</tbody>\n",
       "</table>\n"
      ],
      "text/latex": [
       "A data.table: 5 × 1\n",
       "\\begin{tabular}{l}\n",
       " N\\\\\n",
       " <dbl>\\\\\n",
       "\\hline\n",
       "\t 0.2121212\\\\\n",
       "\t 0.4606061\\\\\n",
       "\t 0.5508475\\\\\n",
       "\t 0.5964912\\\\\n",
       "\t 0.2500000\\\\\n",
       "\\end{tabular}\n"
      ],
      "text/markdown": [
       "\n",
       "A data.table: 5 × 1\n",
       "\n",
       "| N &lt;dbl&gt; |\n",
       "|---|\n",
       "| 0.2121212 |\n",
       "| 0.4606061 |\n",
       "| 0.5508475 |\n",
       "| 0.5964912 |\n",
       "| 0.2500000 |\n",
       "\n"
      ],
      "text/plain": [
       "  N        \n",
       "1 0.2121212\n",
       "2 0.4606061\n",
       "3 0.5508475\n",
       "4 0.5964912\n",
       "5 0.2500000"
      ]
     },
     "metadata": {},
     "output_type": "display_data"
    },
    {
     "data": {
      "text/html": [
       "<table>\n",
       "<caption>A data.table: 5 × 2</caption>\n",
       "<thead>\n",
       "\t<tr><th scope=col>AgeGroup</th><th scope=col>N</th></tr>\n",
       "\t<tr><th scope=col>&lt;dbl&gt;</th><th scope=col>&lt;int&gt;</th></tr>\n",
       "</thead>\n",
       "<tbody>\n",
       "\t<tr><td>2</td><td>396</td></tr>\n",
       "\t<tr><td>3</td><td>165</td></tr>\n",
       "\t<tr><td>4</td><td>118</td></tr>\n",
       "\t<tr><td>5</td><td> 57</td></tr>\n",
       "\t<tr><td>6</td><td> 28</td></tr>\n",
       "</tbody>\n",
       "</table>\n"
      ],
      "text/latex": [
       "A data.table: 5 × 2\n",
       "\\begin{tabular}{ll}\n",
       " AgeGroup & N\\\\\n",
       " <dbl> & <int>\\\\\n",
       "\\hline\n",
       "\t 2 & 396\\\\\n",
       "\t 3 & 165\\\\\n",
       "\t 4 & 118\\\\\n",
       "\t 5 &  57\\\\\n",
       "\t 6 &  28\\\\\n",
       "\\end{tabular}\n"
      ],
      "text/markdown": [
       "\n",
       "A data.table: 5 × 2\n",
       "\n",
       "| AgeGroup &lt;dbl&gt; | N &lt;int&gt; |\n",
       "|---|---|\n",
       "| 2 | 396 |\n",
       "| 3 | 165 |\n",
       "| 4 | 118 |\n",
       "| 5 |  57 |\n",
       "| 6 |  28 |\n",
       "\n"
      ],
      "text/plain": [
       "  AgeGroup N  \n",
       "1 2        396\n",
       "2 3        165\n",
       "3 4        118\n",
       "4 5         57\n",
       "5 6         28"
      ]
     },
     "metadata": {},
     "output_type": "display_data"
    }
   ],
   "source": [
    "# 연령별 당뇨병 비율\n",
    "data[Outcome == 1,.N,by = AgeGroup][order(AgeGroup)][,2] / data[,.N,AgeGroup][order(AgeGroup)][,2]\n",
    "data[AgeGroup != 8][,.N,AgeGroup][order(AgeGroup)]"
   ]
  },
  {
   "cell_type": "code",
   "execution_count": 200,
   "metadata": {},
   "outputs": [],
   "source": [
    "#위험군인 30~50대에 1을 부여\n",
    "data[,D1 := ifelse(AgeGroup %in% c(2,6),0,1)]"
   ]
  },
  {
   "cell_type": "markdown",
   "metadata": {},
   "source": [
    "20대와 60대의 당뇨 비율 낮고 30대와 50대 사이  \n",
    "당뇨 비율이 높음 따라서 20,60 과 30\\~50으로 0,1 더미 변수 만듬"
   ]
  },
  {
   "cell_type": "code",
   "execution_count": 193,
   "metadata": {},
   "outputs": [
    {
     "data": {
      "text/html": [
       "<table>\n",
       "<caption>A data.table: 3 × 1</caption>\n",
       "<thead>\n",
       "\t<tr><th scope=col>N</th></tr>\n",
       "\t<tr><th scope=col>&lt;dbl&gt;</th></tr>\n",
       "</thead>\n",
       "<tbody>\n",
       "\t<tr><td>0.06930693</td></tr>\n",
       "\t<tr><td>0.45625000</td></tr>\n",
       "\t<tr><td>0.22346369</td></tr>\n",
       "</tbody>\n",
       "</table>\n"
      ],
      "text/latex": [
       "A data.table: 3 × 1\n",
       "\\begin{tabular}{l}\n",
       " N\\\\\n",
       " <dbl>\\\\\n",
       "\\hline\n",
       "\t 0.06930693\\\\\n",
       "\t 0.45625000\\\\\n",
       "\t 0.22346369\\\\\n",
       "\\end{tabular}\n"
      ],
      "text/markdown": [
       "\n",
       "A data.table: 3 × 1\n",
       "\n",
       "| N &lt;dbl&gt; |\n",
       "|---|\n",
       "| 0.06930693 |\n",
       "| 0.45625000 |\n",
       "| 0.22346369 |\n",
       "\n"
      ],
      "text/plain": [
       "  N         \n",
       "1 0.06930693\n",
       "2 0.45625000\n",
       "3 0.22346369"
      ]
     },
     "metadata": {},
     "output_type": "display_data"
    },
    {
     "data": {
      "text/html": [
       "<table>\n",
       "<caption>A data.table: 4 × 2</caption>\n",
       "<thead>\n",
       "\t<tr><th scope=col>BMI_cat</th><th scope=col>N</th></tr>\n",
       "\t<tr><th scope=col>&lt;chr&gt;</th><th scope=col>&lt;int&gt;</th></tr>\n",
       "</thead>\n",
       "<tbody>\n",
       "\t<tr><td>nm</td><td>101</td></tr>\n",
       "\t<tr><td>ob</td><td>480</td></tr>\n",
       "\t<tr><td>ow</td><td>179</td></tr>\n",
       "\t<tr><td>uw</td><td>  4</td></tr>\n",
       "</tbody>\n",
       "</table>\n"
      ],
      "text/latex": [
       "A data.table: 4 × 2\n",
       "\\begin{tabular}{ll}\n",
       " BMI\\_cat & N\\\\\n",
       " <chr> & <int>\\\\\n",
       "\\hline\n",
       "\t nm & 101\\\\\n",
       "\t ob & 480\\\\\n",
       "\t ow & 179\\\\\n",
       "\t uw &   4\\\\\n",
       "\\end{tabular}\n"
      ],
      "text/markdown": [
       "\n",
       "A data.table: 4 × 2\n",
       "\n",
       "| BMI_cat &lt;chr&gt; | N &lt;int&gt; |\n",
       "|---|---|\n",
       "| nm | 101 |\n",
       "| ob | 480 |\n",
       "| ow | 179 |\n",
       "| uw |   4 |\n",
       "\n"
      ],
      "text/plain": [
       "  BMI_cat N  \n",
       "1 nm      101\n",
       "2 ob      480\n",
       "3 ow      179\n",
       "4 uw        4"
      ]
     },
     "metadata": {},
     "output_type": "display_data"
    }
   ],
   "source": [
    "# BMI별 당뇨병 비율\n",
    "data[Outcome == 1, .N, by = BMI_cat][order(BMI_cat)][,2] / data[BMI_cat!=\"uw\",.N,by = BMI_cat][order(BMI_cat)][,2]\n",
    "data[, .N, by = BMI_cat][order(BMI_cat)]"
   ]
  },
  {
   "cell_type": "code",
   "execution_count": 204,
   "metadata": {},
   "outputs": [],
   "source": [
    "#위험군인 과체중쪽에 1을 부여\n",
    "data[,D2 := ifelse(BMI_cat %in% c(\"uw\",\"nm\"),0,1)]"
   ]
  },
  {
   "cell_type": "markdown",
   "metadata": {},
   "source": [
    "전반적으로 무게가 많이 나가는 사람이 많이 조사되었고,   \n",
    "피마 인디언은 무게가 많이 나가는 사람이 많은가 보다.  \n",
    "비만 --> 과체중 --> 저체중 --> 정상 순으로   \n",
    "당뇨병 비율이 높았음.\n",
    "\n",
    "(OverWeight, Obese) , (normal, underweight)로 더미변수 만들자"
   ]
  },
  {
   "cell_type": "code",
   "execution_count": 230,
   "metadata": {},
   "outputs": [],
   "source": [
    "# 혈당 수치 126 이상인 부분을 1로 코딩한 더미변수 부여\n",
    "data[,D3 := ifelse(Glucose < 126,0,1)]"
   ]
  },
  {
   "cell_type": "code",
   "execution_count": 237,
   "metadata": {},
   "outputs": [],
   "source": [
    "# 임신여부와 나이를 고려한 추가변수.\n",
    "data[,D4 := ifelse(Age < 35,ifelse(Pregnancies < 7,0,1),1)]"
   ]
  },
  {
   "cell_type": "code",
   "execution_count": 239,
   "metadata": {
    "scrolled": true
   },
   "outputs": [
    {
     "data": {
      "text/html": [
       "<table>\n",
       "<caption>A data.table: 6 × 16</caption>\n",
       "<thead>\n",
       "\t<tr><th scope=col>Pregnancies</th><th scope=col>Glucose</th><th scope=col>BloodPressure</th><th scope=col>SkinThickness</th><th scope=col>Insulin</th><th scope=col>BMI</th><th scope=col>DiabetesPedigreeFunction</th><th scope=col>Age</th><th scope=col>Outcome</th><th scope=col>AgeGroup</th><th scope=col>BMI_cat</th><th scope=col>idx</th><th scope=col>D1</th><th scope=col>D2</th><th scope=col>D3</th><th scope=col>D4</th></tr>\n",
       "\t<tr><th scope=col>&lt;int&gt;</th><th scope=col>&lt;int&gt;</th><th scope=col>&lt;int&gt;</th><th scope=col>&lt;int&gt;</th><th scope=col>&lt;int&gt;</th><th scope=col>&lt;dbl&gt;</th><th scope=col>&lt;dbl&gt;</th><th scope=col>&lt;int&gt;</th><th scope=col>&lt;int&gt;</th><th scope=col>&lt;dbl&gt;</th><th scope=col>&lt;chr&gt;</th><th scope=col>&lt;int&gt;</th><th scope=col>&lt;dbl&gt;</th><th scope=col>&lt;dbl&gt;</th><th scope=col>&lt;dbl&gt;</th><th scope=col>&lt;dbl&gt;</th></tr>\n",
       "</thead>\n",
       "<tbody>\n",
       "\t<tr><td>6</td><td>148</td><td>72</td><td>35</td><td>169</td><td>33.6</td><td>0.627</td><td>50</td><td>1</td><td>5</td><td>ob</td><td>1</td><td>1</td><td>1</td><td>1</td><td>1</td></tr>\n",
       "\t<tr><td>1</td><td> 85</td><td>66</td><td>29</td><td>105</td><td>26.6</td><td>0.351</td><td>31</td><td>0</td><td>3</td><td>ow</td><td>2</td><td>1</td><td>1</td><td>0</td><td>0</td></tr>\n",
       "\t<tr><td>8</td><td>183</td><td>64</td><td>19</td><td>169</td><td>23.3</td><td>0.672</td><td>32</td><td>1</td><td>3</td><td>nm</td><td>3</td><td>1</td><td>0</td><td>1</td><td>1</td></tr>\n",
       "\t<tr><td>1</td><td> 89</td><td>66</td><td>23</td><td> 94</td><td>28.1</td><td>0.167</td><td>21</td><td>0</td><td>2</td><td>ow</td><td>4</td><td>0</td><td>1</td><td>0</td><td>0</td></tr>\n",
       "\t<tr><td>0</td><td>137</td><td>40</td><td>35</td><td>168</td><td>43.1</td><td>2.288</td><td>33</td><td>1</td><td>3</td><td>ob</td><td>5</td><td>1</td><td>1</td><td>1</td><td>0</td></tr>\n",
       "\t<tr><td>5</td><td>116</td><td>74</td><td>21</td><td>105</td><td>25.6</td><td>0.201</td><td>30</td><td>0</td><td>3</td><td>ow</td><td>6</td><td>1</td><td>1</td><td>0</td><td>0</td></tr>\n",
       "</tbody>\n",
       "</table>\n"
      ],
      "text/latex": [
       "A data.table: 6 × 16\n",
       "\\begin{tabular}{llllllllllllllll}\n",
       " Pregnancies & Glucose & BloodPressure & SkinThickness & Insulin & BMI & DiabetesPedigreeFunction & Age & Outcome & AgeGroup & BMI\\_cat & idx & D1 & D2 & D3 & D4\\\\\n",
       " <int> & <int> & <int> & <int> & <int> & <dbl> & <dbl> & <int> & <int> & <dbl> & <chr> & <int> & <dbl> & <dbl> & <dbl> & <dbl>\\\\\n",
       "\\hline\n",
       "\t 6 & 148 & 72 & 35 & 169 & 33.6 & 0.627 & 50 & 1 & 5 & ob & 1 & 1 & 1 & 1 & 1\\\\\n",
       "\t 1 &  85 & 66 & 29 & 105 & 26.6 & 0.351 & 31 & 0 & 3 & ow & 2 & 1 & 1 & 0 & 0\\\\\n",
       "\t 8 & 183 & 64 & 19 & 169 & 23.3 & 0.672 & 32 & 1 & 3 & nm & 3 & 1 & 0 & 1 & 1\\\\\n",
       "\t 1 &  89 & 66 & 23 &  94 & 28.1 & 0.167 & 21 & 0 & 2 & ow & 4 & 0 & 1 & 0 & 0\\\\\n",
       "\t 0 & 137 & 40 & 35 & 168 & 43.1 & 2.288 & 33 & 1 & 3 & ob & 5 & 1 & 1 & 1 & 0\\\\\n",
       "\t 5 & 116 & 74 & 21 & 105 & 25.6 & 0.201 & 30 & 0 & 3 & ow & 6 & 1 & 1 & 0 & 0\\\\\n",
       "\\end{tabular}\n"
      ],
      "text/markdown": [
       "\n",
       "A data.table: 6 × 16\n",
       "\n",
       "| Pregnancies &lt;int&gt; | Glucose &lt;int&gt; | BloodPressure &lt;int&gt; | SkinThickness &lt;int&gt; | Insulin &lt;int&gt; | BMI &lt;dbl&gt; | DiabetesPedigreeFunction &lt;dbl&gt; | Age &lt;int&gt; | Outcome &lt;int&gt; | AgeGroup &lt;dbl&gt; | BMI_cat &lt;chr&gt; | idx &lt;int&gt; | D1 &lt;dbl&gt; | D2 &lt;dbl&gt; | D3 &lt;dbl&gt; | D4 &lt;dbl&gt; |\n",
       "|---|---|---|---|---|---|---|---|---|---|---|---|---|---|---|---|\n",
       "| 6 | 148 | 72 | 35 | 169 | 33.6 | 0.627 | 50 | 1 | 5 | ob | 1 | 1 | 1 | 1 | 1 |\n",
       "| 1 |  85 | 66 | 29 | 105 | 26.6 | 0.351 | 31 | 0 | 3 | ow | 2 | 1 | 1 | 0 | 0 |\n",
       "| 8 | 183 | 64 | 19 | 169 | 23.3 | 0.672 | 32 | 1 | 3 | nm | 3 | 1 | 0 | 1 | 1 |\n",
       "| 1 |  89 | 66 | 23 |  94 | 28.1 | 0.167 | 21 | 0 | 2 | ow | 4 | 0 | 1 | 0 | 0 |\n",
       "| 0 | 137 | 40 | 35 | 168 | 43.1 | 2.288 | 33 | 1 | 3 | ob | 5 | 1 | 1 | 1 | 0 |\n",
       "| 5 | 116 | 74 | 21 | 105 | 25.6 | 0.201 | 30 | 0 | 3 | ow | 6 | 1 | 1 | 0 | 0 |\n",
       "\n"
      ],
      "text/plain": [
       "  Pregnancies Glucose BloodPressure SkinThickness Insulin BMI \n",
       "1 6           148     72            35            169     33.6\n",
       "2 1            85     66            29            105     26.6\n",
       "3 8           183     64            19            169     23.3\n",
       "4 1            89     66            23             94     28.1\n",
       "5 0           137     40            35            168     43.1\n",
       "6 5           116     74            21            105     25.6\n",
       "  DiabetesPedigreeFunction Age Outcome AgeGroup BMI_cat idx D1 D2 D3 D4\n",
       "1 0.627                    50  1       5        ob      1   1  1  1  1 \n",
       "2 0.351                    31  0       3        ow      2   1  1  0  0 \n",
       "3 0.672                    32  1       3        nm      3   1  0  1  1 \n",
       "4 0.167                    21  0       2        ow      4   0  1  0  0 \n",
       "5 2.288                    33  1       3        ob      5   1  1  1  0 \n",
       "6 0.201                    30  0       3        ow      6   1  1  0  0 "
      ]
     },
     "metadata": {},
     "output_type": "display_data"
    }
   ],
   "source": [
    "head(data)"
   ]
  },
  {
   "cell_type": "code",
   "execution_count": 240,
   "metadata": {},
   "outputs": [],
   "source": [
    "setcolorder(data, c(12,1,2,3,4,5,6,7,8,13,14,15,16,9))"
   ]
  },
  {
   "cell_type": "code",
   "execution_count": 242,
   "metadata": {},
   "outputs": [],
   "source": [
    "data <- data[,c(1:14)]"
   ]
  },
  {
   "cell_type": "code",
   "execution_count": 244,
   "metadata": {},
   "outputs": [
    {
     "data": {
      "text/html": [
       "<table>\n",
       "<caption>A data.table: 6 × 14</caption>\n",
       "<thead>\n",
       "\t<tr><th scope=col>idx</th><th scope=col>Pregnancies</th><th scope=col>Glucose</th><th scope=col>BloodPressure</th><th scope=col>SkinThickness</th><th scope=col>Insulin</th><th scope=col>BMI</th><th scope=col>DiabetesPedigreeFunction</th><th scope=col>Age</th><th scope=col>D1</th><th scope=col>D2</th><th scope=col>D3</th><th scope=col>D4</th><th scope=col>Outcome</th></tr>\n",
       "\t<tr><th scope=col>&lt;int&gt;</th><th scope=col>&lt;int&gt;</th><th scope=col>&lt;int&gt;</th><th scope=col>&lt;int&gt;</th><th scope=col>&lt;int&gt;</th><th scope=col>&lt;int&gt;</th><th scope=col>&lt;dbl&gt;</th><th scope=col>&lt;dbl&gt;</th><th scope=col>&lt;int&gt;</th><th scope=col>&lt;dbl&gt;</th><th scope=col>&lt;dbl&gt;</th><th scope=col>&lt;dbl&gt;</th><th scope=col>&lt;dbl&gt;</th><th scope=col>&lt;int&gt;</th></tr>\n",
       "</thead>\n",
       "<tbody>\n",
       "\t<tr><td>1</td><td>6</td><td>148</td><td>72</td><td>35</td><td>169</td><td>33.6</td><td>0.627</td><td>50</td><td>1</td><td>1</td><td>1</td><td>1</td><td>1</td></tr>\n",
       "\t<tr><td>2</td><td>1</td><td> 85</td><td>66</td><td>29</td><td>105</td><td>26.6</td><td>0.351</td><td>31</td><td>1</td><td>1</td><td>0</td><td>0</td><td>0</td></tr>\n",
       "\t<tr><td>3</td><td>8</td><td>183</td><td>64</td><td>19</td><td>169</td><td>23.3</td><td>0.672</td><td>32</td><td>1</td><td>0</td><td>1</td><td>1</td><td>1</td></tr>\n",
       "\t<tr><td>4</td><td>1</td><td> 89</td><td>66</td><td>23</td><td> 94</td><td>28.1</td><td>0.167</td><td>21</td><td>0</td><td>1</td><td>0</td><td>0</td><td>0</td></tr>\n",
       "\t<tr><td>5</td><td>0</td><td>137</td><td>40</td><td>35</td><td>168</td><td>43.1</td><td>2.288</td><td>33</td><td>1</td><td>1</td><td>1</td><td>0</td><td>1</td></tr>\n",
       "\t<tr><td>6</td><td>5</td><td>116</td><td>74</td><td>21</td><td>105</td><td>25.6</td><td>0.201</td><td>30</td><td>1</td><td>1</td><td>0</td><td>0</td><td>0</td></tr>\n",
       "</tbody>\n",
       "</table>\n"
      ],
      "text/latex": [
       "A data.table: 6 × 14\n",
       "\\begin{tabular}{llllllllllllll}\n",
       " idx & Pregnancies & Glucose & BloodPressure & SkinThickness & Insulin & BMI & DiabetesPedigreeFunction & Age & D1 & D2 & D3 & D4 & Outcome\\\\\n",
       " <int> & <int> & <int> & <int> & <int> & <int> & <dbl> & <dbl> & <int> & <dbl> & <dbl> & <dbl> & <dbl> & <int>\\\\\n",
       "\\hline\n",
       "\t 1 & 6 & 148 & 72 & 35 & 169 & 33.6 & 0.627 & 50 & 1 & 1 & 1 & 1 & 1\\\\\n",
       "\t 2 & 1 &  85 & 66 & 29 & 105 & 26.6 & 0.351 & 31 & 1 & 1 & 0 & 0 & 0\\\\\n",
       "\t 3 & 8 & 183 & 64 & 19 & 169 & 23.3 & 0.672 & 32 & 1 & 0 & 1 & 1 & 1\\\\\n",
       "\t 4 & 1 &  89 & 66 & 23 &  94 & 28.1 & 0.167 & 21 & 0 & 1 & 0 & 0 & 0\\\\\n",
       "\t 5 & 0 & 137 & 40 & 35 & 168 & 43.1 & 2.288 & 33 & 1 & 1 & 1 & 0 & 1\\\\\n",
       "\t 6 & 5 & 116 & 74 & 21 & 105 & 25.6 & 0.201 & 30 & 1 & 1 & 0 & 0 & 0\\\\\n",
       "\\end{tabular}\n"
      ],
      "text/markdown": [
       "\n",
       "A data.table: 6 × 14\n",
       "\n",
       "| idx &lt;int&gt; | Pregnancies &lt;int&gt; | Glucose &lt;int&gt; | BloodPressure &lt;int&gt; | SkinThickness &lt;int&gt; | Insulin &lt;int&gt; | BMI &lt;dbl&gt; | DiabetesPedigreeFunction &lt;dbl&gt; | Age &lt;int&gt; | D1 &lt;dbl&gt; | D2 &lt;dbl&gt; | D3 &lt;dbl&gt; | D4 &lt;dbl&gt; | Outcome &lt;int&gt; |\n",
       "|---|---|---|---|---|---|---|---|---|---|---|---|---|---|\n",
       "| 1 | 6 | 148 | 72 | 35 | 169 | 33.6 | 0.627 | 50 | 1 | 1 | 1 | 1 | 1 |\n",
       "| 2 | 1 |  85 | 66 | 29 | 105 | 26.6 | 0.351 | 31 | 1 | 1 | 0 | 0 | 0 |\n",
       "| 3 | 8 | 183 | 64 | 19 | 169 | 23.3 | 0.672 | 32 | 1 | 0 | 1 | 1 | 1 |\n",
       "| 4 | 1 |  89 | 66 | 23 |  94 | 28.1 | 0.167 | 21 | 0 | 1 | 0 | 0 | 0 |\n",
       "| 5 | 0 | 137 | 40 | 35 | 168 | 43.1 | 2.288 | 33 | 1 | 1 | 1 | 0 | 1 |\n",
       "| 6 | 5 | 116 | 74 | 21 | 105 | 25.6 | 0.201 | 30 | 1 | 1 | 0 | 0 | 0 |\n",
       "\n"
      ],
      "text/plain": [
       "  idx Pregnancies Glucose BloodPressure SkinThickness Insulin BMI \n",
       "1 1   6           148     72            35            169     33.6\n",
       "2 2   1            85     66            29            105     26.6\n",
       "3 3   8           183     64            19            169     23.3\n",
       "4 4   1            89     66            23             94     28.1\n",
       "5 5   0           137     40            35            168     43.1\n",
       "6 6   5           116     74            21            105     25.6\n",
       "  DiabetesPedigreeFunction Age D1 D2 D3 D4 Outcome\n",
       "1 0.627                    50  1  1  1  1  1      \n",
       "2 0.351                    31  1  1  0  0  0      \n",
       "3 0.672                    32  1  0  1  1  1      \n",
       "4 0.167                    21  0  1  0  0  0      \n",
       "5 2.288                    33  1  1  1  0  1      \n",
       "6 0.201                    30  1  1  0  0  0      "
      ]
     },
     "metadata": {},
     "output_type": "display_data"
    }
   ],
   "source": [
    "#전처리 끝 최종 dataset\n",
    "head(data)"
   ]
  },
  {
   "cell_type": "markdown",
   "metadata": {},
   "source": [
    "# 학습 모델 RF, SVM, XGBoost, LGBM "
   ]
  },
  {
   "cell_type": "code",
   "execution_count": null,
   "metadata": {},
   "outputs": [],
   "source": []
  }
 ],
 "metadata": {
  "kernelspec": {
   "display_name": "R",
   "language": "R",
   "name": "ir"
  },
  "language_info": {
   "codemirror_mode": "r",
   "file_extension": ".r",
   "mimetype": "text/x-r-source",
   "name": "R",
   "pygments_lexer": "r",
   "version": "4.0.3"
  }
 },
 "nbformat": 4,
 "nbformat_minor": 4
}
