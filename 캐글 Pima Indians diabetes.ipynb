{
 "cells": [
  {
   "cell_type": "markdown",
   "metadata": {},
   "source": [
    "### 피마 당뇨병 데이터"
   ]
  },
  {
   "cell_type": "code",
   "execution_count": 109,
   "metadata": {},
   "outputs": [],
   "source": [
    "library(tidyverse)\n",
    "library(data.table)\n",
    "library(gridExtra)\n",
    "library(ggplot2)\n",
    "library(RColorBrewer)\n",
    "library(gridExtra)"
   ]
  },
  {
   "cell_type": "code",
   "execution_count": 2,
   "metadata": {},
   "outputs": [],
   "source": [
    "data<-fread(\"diabetes.csv\")"
   ]
  },
  {
   "cell_type": "markdown",
   "metadata": {},
   "source": [
    "데이터에 있는 모든 개체들은 여자들임"
   ]
  },
  {
   "cell_type": "code",
   "execution_count": 3,
   "metadata": {
    "scrolled": false
   },
   "outputs": [
    {
     "data": {
      "text/html": [
       "<table>\n",
       "<caption>A data.table: 6 × 9</caption>\n",
       "<thead>\n",
       "\t<tr><th scope=col>Pregnancies</th><th scope=col>Glucose</th><th scope=col>BloodPressure</th><th scope=col>SkinThickness</th><th scope=col>Insulin</th><th scope=col>BMI</th><th scope=col>DiabetesPedigreeFunction</th><th scope=col>Age</th><th scope=col>Outcome</th></tr>\n",
       "\t<tr><th scope=col>&lt;int&gt;</th><th scope=col>&lt;int&gt;</th><th scope=col>&lt;int&gt;</th><th scope=col>&lt;int&gt;</th><th scope=col>&lt;int&gt;</th><th scope=col>&lt;dbl&gt;</th><th scope=col>&lt;dbl&gt;</th><th scope=col>&lt;int&gt;</th><th scope=col>&lt;int&gt;</th></tr>\n",
       "</thead>\n",
       "<tbody>\n",
       "\t<tr><td>6</td><td>148</td><td>72</td><td>35</td><td>  0</td><td>33.6</td><td>0.627</td><td>50</td><td>1</td></tr>\n",
       "\t<tr><td>1</td><td> 85</td><td>66</td><td>29</td><td>  0</td><td>26.6</td><td>0.351</td><td>31</td><td>0</td></tr>\n",
       "\t<tr><td>8</td><td>183</td><td>64</td><td> 0</td><td>  0</td><td>23.3</td><td>0.672</td><td>32</td><td>1</td></tr>\n",
       "\t<tr><td>1</td><td> 89</td><td>66</td><td>23</td><td> 94</td><td>28.1</td><td>0.167</td><td>21</td><td>0</td></tr>\n",
       "\t<tr><td>0</td><td>137</td><td>40</td><td>35</td><td>168</td><td>43.1</td><td>2.288</td><td>33</td><td>1</td></tr>\n",
       "\t<tr><td>5</td><td>116</td><td>74</td><td> 0</td><td>  0</td><td>25.6</td><td>0.201</td><td>30</td><td>0</td></tr>\n",
       "</tbody>\n",
       "</table>\n"
      ],
      "text/latex": [
       "A data.table: 6 × 9\n",
       "\\begin{tabular}{lllllllll}\n",
       " Pregnancies & Glucose & BloodPressure & SkinThickness & Insulin & BMI & DiabetesPedigreeFunction & Age & Outcome\\\\\n",
       " <int> & <int> & <int> & <int> & <int> & <dbl> & <dbl> & <int> & <int>\\\\\n",
       "\\hline\n",
       "\t 6 & 148 & 72 & 35 &   0 & 33.6 & 0.627 & 50 & 1\\\\\n",
       "\t 1 &  85 & 66 & 29 &   0 & 26.6 & 0.351 & 31 & 0\\\\\n",
       "\t 8 & 183 & 64 &  0 &   0 & 23.3 & 0.672 & 32 & 1\\\\\n",
       "\t 1 &  89 & 66 & 23 &  94 & 28.1 & 0.167 & 21 & 0\\\\\n",
       "\t 0 & 137 & 40 & 35 & 168 & 43.1 & 2.288 & 33 & 1\\\\\n",
       "\t 5 & 116 & 74 &  0 &   0 & 25.6 & 0.201 & 30 & 0\\\\\n",
       "\\end{tabular}\n"
      ],
      "text/markdown": [
       "\n",
       "A data.table: 6 × 9\n",
       "\n",
       "| Pregnancies &lt;int&gt; | Glucose &lt;int&gt; | BloodPressure &lt;int&gt; | SkinThickness &lt;int&gt; | Insulin &lt;int&gt; | BMI &lt;dbl&gt; | DiabetesPedigreeFunction &lt;dbl&gt; | Age &lt;int&gt; | Outcome &lt;int&gt; |\n",
       "|---|---|---|---|---|---|---|---|---|\n",
       "| 6 | 148 | 72 | 35 |   0 | 33.6 | 0.627 | 50 | 1 |\n",
       "| 1 |  85 | 66 | 29 |   0 | 26.6 | 0.351 | 31 | 0 |\n",
       "| 8 | 183 | 64 |  0 |   0 | 23.3 | 0.672 | 32 | 1 |\n",
       "| 1 |  89 | 66 | 23 |  94 | 28.1 | 0.167 | 21 | 0 |\n",
       "| 0 | 137 | 40 | 35 | 168 | 43.1 | 2.288 | 33 | 1 |\n",
       "| 5 | 116 | 74 |  0 |   0 | 25.6 | 0.201 | 30 | 0 |\n",
       "\n"
      ],
      "text/plain": [
       "  Pregnancies Glucose BloodPressure SkinThickness Insulin BMI \n",
       "1 6           148     72            35              0     33.6\n",
       "2 1            85     66            29              0     26.6\n",
       "3 8           183     64             0              0     23.3\n",
       "4 1            89     66            23             94     28.1\n",
       "5 0           137     40            35            168     43.1\n",
       "6 5           116     74             0              0     25.6\n",
       "  DiabetesPedigreeFunction Age Outcome\n",
       "1 0.627                    50  1      \n",
       "2 0.351                    31  0      \n",
       "3 0.672                    32  1      \n",
       "4 0.167                    21  0      \n",
       "5 2.288                    33  1      \n",
       "6 0.201                    30  0      "
      ]
     },
     "metadata": {},
     "output_type": "display_data"
    }
   ],
   "source": [
    "head(data)"
   ]
  },
  {
   "cell_type": "code",
   "execution_count": 4,
   "metadata": {},
   "outputs": [
    {
     "data": {
      "text/plain": [
       "  Pregnancies        Glucose      BloodPressure    SkinThickness  \n",
       " Min.   : 0.000   Min.   :  0.0   Min.   :  0.00   Min.   : 0.00  \n",
       " 1st Qu.: 1.000   1st Qu.: 99.0   1st Qu.: 62.00   1st Qu.: 0.00  \n",
       " Median : 3.000   Median :117.0   Median : 72.00   Median :23.00  \n",
       " Mean   : 3.845   Mean   :120.9   Mean   : 69.11   Mean   :20.54  \n",
       " 3rd Qu.: 6.000   3rd Qu.:140.2   3rd Qu.: 80.00   3rd Qu.:32.00  \n",
       " Max.   :17.000   Max.   :199.0   Max.   :122.00   Max.   :99.00  \n",
       "    Insulin           BMI        DiabetesPedigreeFunction      Age       \n",
       " Min.   :  0.0   Min.   : 0.00   Min.   :0.0780           Min.   :21.00  \n",
       " 1st Qu.:  0.0   1st Qu.:27.30   1st Qu.:0.2437           1st Qu.:24.00  \n",
       " Median : 30.5   Median :32.00   Median :0.3725           Median :29.00  \n",
       " Mean   : 79.8   Mean   :31.99   Mean   :0.4719           Mean   :33.24  \n",
       " 3rd Qu.:127.2   3rd Qu.:36.60   3rd Qu.:0.6262           3rd Qu.:41.00  \n",
       " Max.   :846.0   Max.   :67.10   Max.   :2.4200           Max.   :81.00  \n",
       "    Outcome     \n",
       " Min.   :0.000  \n",
       " 1st Qu.:0.000  \n",
       " Median :0.000  \n",
       " Mean   :0.349  \n",
       " 3rd Qu.:1.000  \n",
       " Max.   :1.000  "
      ]
     },
     "metadata": {},
     "output_type": "display_data"
    }
   ],
   "source": [
    "summary(data)"
   ]
  },
  {
   "attachments": {
    "image.png": {
     "image/png": "[encoded data removed]"
    }
   },
   "cell_type": "markdown",
   "metadata": {},
   "source": [
    "![image.png](attachment:image.png)"
   ]
  },
  {
   "attachments": {
    "image.png": {
     "image/png": "[encoded data removed]"
    }
   },
   "cell_type": "markdown",
   "metadata": {},
   "source": [
    "![image.png](attachment:image.png)"
   ]
  },
  {
   "cell_type": "code",
   "execution_count": 5,
   "metadata": {},
   "outputs": [
    {
     "data": {
      "text/html": [
       "<table>\n",
       "<caption>A data.table: 17 × 2</caption>\n",
       "<thead>\n",
       "\t<tr><th scope=col>Pregnancies</th><th scope=col>N</th></tr>\n",
       "\t<tr><th scope=col>&lt;int&gt;</th><th scope=col>&lt;int&gt;</th></tr>\n",
       "</thead>\n",
       "<tbody>\n",
       "\t<tr><td> 1</td><td>135</td></tr>\n",
       "\t<tr><td> 0</td><td>111</td></tr>\n",
       "\t<tr><td> 2</td><td>103</td></tr>\n",
       "\t<tr><td> 3</td><td> 75</td></tr>\n",
       "\t<tr><td> 4</td><td> 68</td></tr>\n",
       "\t<tr><td> 5</td><td> 57</td></tr>\n",
       "\t<tr><td> 6</td><td> 50</td></tr>\n",
       "\t<tr><td> 7</td><td> 45</td></tr>\n",
       "\t<tr><td> 8</td><td> 38</td></tr>\n",
       "\t<tr><td> 9</td><td> 28</td></tr>\n",
       "\t<tr><td>10</td><td> 24</td></tr>\n",
       "\t<tr><td>11</td><td> 11</td></tr>\n",
       "\t<tr><td>13</td><td> 10</td></tr>\n",
       "\t<tr><td>12</td><td>  9</td></tr>\n",
       "\t<tr><td>14</td><td>  2</td></tr>\n",
       "\t<tr><td>15</td><td>  1</td></tr>\n",
       "\t<tr><td>17</td><td>  1</td></tr>\n",
       "</tbody>\n",
       "</table>\n"
      ],
      "text/latex": [
       "A data.table: 17 × 2\n",
       "\\begin{tabular}{ll}\n",
       " Pregnancies & N\\\\\n",
       " <int> & <int>\\\\\n",
       "\\hline\n",
       "\t  1 & 135\\\\\n",
       "\t  0 & 111\\\\\n",
       "\t  2 & 103\\\\\n",
       "\t  3 &  75\\\\\n",
       "\t  4 &  68\\\\\n",
       "\t  5 &  57\\\\\n",
       "\t  6 &  50\\\\\n",
       "\t  7 &  45\\\\\n",
       "\t  8 &  38\\\\\n",
       "\t  9 &  28\\\\\n",
       "\t 10 &  24\\\\\n",
       "\t 11 &  11\\\\\n",
       "\t 13 &  10\\\\\n",
       "\t 12 &   9\\\\\n",
       "\t 14 &   2\\\\\n",
       "\t 15 &   1\\\\\n",
       "\t 17 &   1\\\\\n",
       "\\end{tabular}\n"
      ],
      "text/markdown": [
       "\n",
       "A data.table: 17 × 2\n",
       "\n",
       "| Pregnancies &lt;int&gt; | N &lt;int&gt; |\n",
       "|---|---|\n",
       "|  1 | 135 |\n",
       "|  0 | 111 |\n",
       "|  2 | 103 |\n",
       "|  3 |  75 |\n",
       "|  4 |  68 |\n",
       "|  5 |  57 |\n",
       "|  6 |  50 |\n",
       "|  7 |  45 |\n",
       "|  8 |  38 |\n",
       "|  9 |  28 |\n",
       "| 10 |  24 |\n",
       "| 11 |  11 |\n",
       "| 13 |  10 |\n",
       "| 12 |   9 |\n",
       "| 14 |   2 |\n",
       "| 15 |   1 |\n",
       "| 17 |   1 |\n",
       "\n"
      ],
      "text/plain": [
       "   Pregnancies N  \n",
       "1   1          135\n",
       "2   0          111\n",
       "3   2          103\n",
       "4   3           75\n",
       "5   4           68\n",
       "6   5           57\n",
       "7   6           50\n",
       "8   7           45\n",
       "9   8           38\n",
       "10  9           28\n",
       "11 10           24\n",
       "12 11           11\n",
       "13 13           10\n",
       "14 12            9\n",
       "15 14            2\n",
       "16 15            1\n",
       "17 17            1"
      ]
     },
     "metadata": {},
     "output_type": "display_data"
    }
   ],
   "source": [
    "#임신경험 갯수세기\n",
    "data[,.N,by = Pregnancies][order(desc(N))]"
   ]
  },
  {
   "cell_type": "code",
   "execution_count": 102,
   "metadata": {},
   "outputs": [],
   "source": [
    "# 나이 그룹별로 통게량 확인을 위해 나이 열 추가\n",
    "data[,AgeGroup := Age %/% 10]\n",
    "# BMI 그룹별로 나누는 변수 추가\n",
    "data[,BMI_cat := ifelse(BMI < 18.5,\"uw\",ifelse(BMI<25,\"nm\",ifelse(BMI<30,\"ow\",\"ob\")))]\n",
    "# row index 추가\n",
    "data[, idx := seq(1,768)]"
   ]
  },
  {
   "cell_type": "code",
   "execution_count": 103,
   "metadata": {},
   "outputs": [
    {
     "data": {
      "text/html": [
       "<table>\n",
       "<caption>A data.table: 768 × 12</caption>\n",
       "<thead>\n",
       "\t<tr><th scope=col>Pregnancies</th><th scope=col>Glucose</th><th scope=col>BloodPressure</th><th scope=col>SkinThickness</th><th scope=col>Insulin</th><th scope=col>BMI</th><th scope=col>DiabetesPedigreeFunction</th><th scope=col>Age</th><th scope=col>Outcome</th><th scope=col>AgeGroup</th><th scope=col>BMI_cat</th><th scope=col>idx</th></tr>\n",
       "\t<tr><th scope=col>&lt;int&gt;</th><th scope=col>&lt;int&gt;</th><th scope=col>&lt;int&gt;</th><th scope=col>&lt;int&gt;</th><th scope=col>&lt;int&gt;</th><th scope=col>&lt;dbl&gt;</th><th scope=col>&lt;dbl&gt;</th><th scope=col>&lt;int&gt;</th><th scope=col>&lt;int&gt;</th><th scope=col>&lt;dbl&gt;</th><th scope=col>&lt;chr&gt;</th><th scope=col>&lt;int&gt;</th></tr>\n",
       "</thead>\n",
       "<tbody>\n",
       "\t<tr><td> 6</td><td>148</td><td>72</td><td>35</td><td>  0</td><td>33.6</td><td>0.627</td><td>50</td><td>1</td><td>5</td><td>ob</td><td> 1</td></tr>\n",
       "\t<tr><td> 1</td><td> 85</td><td>66</td><td>29</td><td>  0</td><td>26.6</td><td>0.351</td><td>31</td><td>0</td><td>3</td><td>ow</td><td> 2</td></tr>\n",
       "\t<tr><td> 8</td><td>183</td><td>64</td><td> 0</td><td>  0</td><td>23.3</td><td>0.672</td><td>32</td><td>1</td><td>3</td><td>nm</td><td> 3</td></tr>\n",
       "\t<tr><td> 1</td><td> 89</td><td>66</td><td>23</td><td> 94</td><td>28.1</td><td>0.167</td><td>21</td><td>0</td><td>2</td><td>ow</td><td> 4</td></tr>\n",
       "\t<tr><td> 0</td><td>137</td><td>40</td><td>35</td><td>168</td><td>43.1</td><td>2.288</td><td>33</td><td>1</td><td>3</td><td>ob</td><td> 5</td></tr>\n",
       "\t<tr><td> 5</td><td>116</td><td>74</td><td> 0</td><td>  0</td><td>25.6</td><td>0.201</td><td>30</td><td>0</td><td>3</td><td>ow</td><td> 6</td></tr>\n",
       "\t<tr><td> 3</td><td> 78</td><td>50</td><td>32</td><td> 88</td><td>31.0</td><td>0.248</td><td>26</td><td>1</td><td>2</td><td>ob</td><td> 7</td></tr>\n",
       "\t<tr><td>10</td><td>115</td><td> 0</td><td> 0</td><td>  0</td><td>35.3</td><td>0.134</td><td>29</td><td>0</td><td>2</td><td>ob</td><td> 8</td></tr>\n",
       "\t<tr><td> 2</td><td>197</td><td>70</td><td>45</td><td>543</td><td>30.5</td><td>0.158</td><td>53</td><td>1</td><td>5</td><td>ob</td><td> 9</td></tr>\n",
       "\t<tr><td> 8</td><td>125</td><td>96</td><td> 0</td><td>  0</td><td> 0.0</td><td>0.232</td><td>54</td><td>1</td><td>5</td><td>uw</td><td>10</td></tr>\n",
       "\t<tr><td> 4</td><td>110</td><td>92</td><td> 0</td><td>  0</td><td>37.6</td><td>0.191</td><td>30</td><td>0</td><td>3</td><td>ob</td><td>11</td></tr>\n",
       "\t<tr><td>10</td><td>168</td><td>74</td><td> 0</td><td>  0</td><td>38.0</td><td>0.537</td><td>34</td><td>1</td><td>3</td><td>ob</td><td>12</td></tr>\n",
       "\t<tr><td>10</td><td>139</td><td>80</td><td> 0</td><td>  0</td><td>27.1</td><td>1.441</td><td>57</td><td>0</td><td>5</td><td>ow</td><td>13</td></tr>\n",
       "\t<tr><td> 1</td><td>189</td><td>60</td><td>23</td><td>846</td><td>30.1</td><td>0.398</td><td>59</td><td>1</td><td>5</td><td>ob</td><td>14</td></tr>\n",
       "\t<tr><td> 5</td><td>166</td><td>72</td><td>19</td><td>175</td><td>25.8</td><td>0.587</td><td>51</td><td>1</td><td>5</td><td>ow</td><td>15</td></tr>\n",
       "\t<tr><td> 7</td><td>100</td><td> 0</td><td> 0</td><td>  0</td><td>30.0</td><td>0.484</td><td>32</td><td>1</td><td>3</td><td>ob</td><td>16</td></tr>\n",
       "\t<tr><td> 0</td><td>118</td><td>84</td><td>47</td><td>230</td><td>45.8</td><td>0.551</td><td>31</td><td>1</td><td>3</td><td>ob</td><td>17</td></tr>\n",
       "\t<tr><td> 7</td><td>107</td><td>74</td><td> 0</td><td>  0</td><td>29.6</td><td>0.254</td><td>31</td><td>1</td><td>3</td><td>ow</td><td>18</td></tr>\n",
       "\t<tr><td> 1</td><td>103</td><td>30</td><td>38</td><td> 83</td><td>43.3</td><td>0.183</td><td>33</td><td>0</td><td>3</td><td>ob</td><td>19</td></tr>\n",
       "\t<tr><td> 1</td><td>115</td><td>70</td><td>30</td><td> 96</td><td>34.6</td><td>0.529</td><td>32</td><td>1</td><td>3</td><td>ob</td><td>20</td></tr>\n",
       "\t<tr><td> 3</td><td>126</td><td>88</td><td>41</td><td>235</td><td>39.3</td><td>0.704</td><td>27</td><td>0</td><td>2</td><td>ob</td><td>21</td></tr>\n",
       "\t<tr><td> 8</td><td> 99</td><td>84</td><td> 0</td><td>  0</td><td>35.4</td><td>0.388</td><td>50</td><td>0</td><td>5</td><td>ob</td><td>22</td></tr>\n",
       "\t<tr><td> 7</td><td>196</td><td>90</td><td> 0</td><td>  0</td><td>39.8</td><td>0.451</td><td>41</td><td>1</td><td>4</td><td>ob</td><td>23</td></tr>\n",
       "\t<tr><td> 9</td><td>119</td><td>80</td><td>35</td><td>  0</td><td>29.0</td><td>0.263</td><td>29</td><td>1</td><td>2</td><td>ow</td><td>24</td></tr>\n",
       "\t<tr><td>11</td><td>143</td><td>94</td><td>33</td><td>146</td><td>36.6</td><td>0.254</td><td>51</td><td>1</td><td>5</td><td>ob</td><td>25</td></tr>\n",
       "\t<tr><td>10</td><td>125</td><td>70</td><td>26</td><td>115</td><td>31.1</td><td>0.205</td><td>41</td><td>1</td><td>4</td><td>ob</td><td>26</td></tr>\n",
       "\t<tr><td> 7</td><td>147</td><td>76</td><td> 0</td><td>  0</td><td>39.4</td><td>0.257</td><td>43</td><td>1</td><td>4</td><td>ob</td><td>27</td></tr>\n",
       "\t<tr><td> 1</td><td> 97</td><td>66</td><td>15</td><td>140</td><td>23.2</td><td>0.487</td><td>22</td><td>0</td><td>2</td><td>nm</td><td>28</td></tr>\n",
       "\t<tr><td>13</td><td>145</td><td>82</td><td>19</td><td>110</td><td>22.2</td><td>0.245</td><td>57</td><td>0</td><td>5</td><td>nm</td><td>29</td></tr>\n",
       "\t<tr><td> 5</td><td>117</td><td>92</td><td> 0</td><td>  0</td><td>34.1</td><td>0.337</td><td>38</td><td>0</td><td>3</td><td>ob</td><td>30</td></tr>\n",
       "\t<tr><td>...</td><td>...</td><td>...</td><td>...</td><td>...</td><td>...</td><td>...</td><td>...</td><td>...</td><td>...</td><td>...</td><td>...</td></tr>\n",
       "\t<tr><td> 2</td><td> 99</td><td>60</td><td>17</td><td>160</td><td>36.6</td><td>0.453</td><td>21</td><td>0</td><td>2</td><td>ob</td><td>739</td></tr>\n",
       "\t<tr><td> 1</td><td>102</td><td>74</td><td> 0</td><td>  0</td><td>39.5</td><td>0.293</td><td>42</td><td>1</td><td>4</td><td>ob</td><td>740</td></tr>\n",
       "\t<tr><td>11</td><td>120</td><td>80</td><td>37</td><td>150</td><td>42.3</td><td>0.785</td><td>48</td><td>1</td><td>4</td><td>ob</td><td>741</td></tr>\n",
       "\t<tr><td> 3</td><td>102</td><td>44</td><td>20</td><td> 94</td><td>30.8</td><td>0.400</td><td>26</td><td>0</td><td>2</td><td>ob</td><td>742</td></tr>\n",
       "\t<tr><td> 1</td><td>109</td><td>58</td><td>18</td><td>116</td><td>28.5</td><td>0.219</td><td>22</td><td>0</td><td>2</td><td>ow</td><td>743</td></tr>\n",
       "\t<tr><td> 9</td><td>140</td><td>94</td><td> 0</td><td>  0</td><td>32.7</td><td>0.734</td><td>45</td><td>1</td><td>4</td><td>ob</td><td>744</td></tr>\n",
       "\t<tr><td>13</td><td>153</td><td>88</td><td>37</td><td>140</td><td>40.6</td><td>1.174</td><td>39</td><td>0</td><td>3</td><td>ob</td><td>745</td></tr>\n",
       "\t<tr><td>12</td><td>100</td><td>84</td><td>33</td><td>105</td><td>30.0</td><td>0.488</td><td>46</td><td>0</td><td>4</td><td>ob</td><td>746</td></tr>\n",
       "\t<tr><td> 1</td><td>147</td><td>94</td><td>41</td><td>  0</td><td>49.3</td><td>0.358</td><td>27</td><td>1</td><td>2</td><td>ob</td><td>747</td></tr>\n",
       "\t<tr><td> 1</td><td> 81</td><td>74</td><td>41</td><td> 57</td><td>46.3</td><td>1.096</td><td>32</td><td>0</td><td>3</td><td>ob</td><td>748</td></tr>\n",
       "\t<tr><td> 3</td><td>187</td><td>70</td><td>22</td><td>200</td><td>36.4</td><td>0.408</td><td>36</td><td>1</td><td>3</td><td>ob</td><td>749</td></tr>\n",
       "\t<tr><td> 6</td><td>162</td><td>62</td><td> 0</td><td>  0</td><td>24.3</td><td>0.178</td><td>50</td><td>1</td><td>5</td><td>nm</td><td>750</td></tr>\n",
       "\t<tr><td> 4</td><td>136</td><td>70</td><td> 0</td><td>  0</td><td>31.2</td><td>1.182</td><td>22</td><td>1</td><td>2</td><td>ob</td><td>751</td></tr>\n",
       "\t<tr><td> 1</td><td>121</td><td>78</td><td>39</td><td> 74</td><td>39.0</td><td>0.261</td><td>28</td><td>0</td><td>2</td><td>ob</td><td>752</td></tr>\n",
       "\t<tr><td> 3</td><td>108</td><td>62</td><td>24</td><td>  0</td><td>26.0</td><td>0.223</td><td>25</td><td>0</td><td>2</td><td>ow</td><td>753</td></tr>\n",
       "\t<tr><td> 0</td><td>181</td><td>88</td><td>44</td><td>510</td><td>43.3</td><td>0.222</td><td>26</td><td>1</td><td>2</td><td>ob</td><td>754</td></tr>\n",
       "\t<tr><td> 8</td><td>154</td><td>78</td><td>32</td><td>  0</td><td>32.4</td><td>0.443</td><td>45</td><td>1</td><td>4</td><td>ob</td><td>755</td></tr>\n",
       "\t<tr><td> 1</td><td>128</td><td>88</td><td>39</td><td>110</td><td>36.5</td><td>1.057</td><td>37</td><td>1</td><td>3</td><td>ob</td><td>756</td></tr>\n",
       "\t<tr><td> 7</td><td>137</td><td>90</td><td>41</td><td>  0</td><td>32.0</td><td>0.391</td><td>39</td><td>0</td><td>3</td><td>ob</td><td>757</td></tr>\n",
       "\t<tr><td> 0</td><td>123</td><td>72</td><td> 0</td><td>  0</td><td>36.3</td><td>0.258</td><td>52</td><td>1</td><td>5</td><td>ob</td><td>758</td></tr>\n",
       "\t<tr><td> 1</td><td>106</td><td>76</td><td> 0</td><td>  0</td><td>37.5</td><td>0.197</td><td>26</td><td>0</td><td>2</td><td>ob</td><td>759</td></tr>\n",
       "\t<tr><td> 6</td><td>190</td><td>92</td><td> 0</td><td>  0</td><td>35.5</td><td>0.278</td><td>66</td><td>1</td><td>6</td><td>ob</td><td>760</td></tr>\n",
       "\t<tr><td> 2</td><td> 88</td><td>58</td><td>26</td><td> 16</td><td>28.4</td><td>0.766</td><td>22</td><td>0</td><td>2</td><td>ow</td><td>761</td></tr>\n",
       "\t<tr><td> 9</td><td>170</td><td>74</td><td>31</td><td>  0</td><td>44.0</td><td>0.403</td><td>43</td><td>1</td><td>4</td><td>ob</td><td>762</td></tr>\n",
       "\t<tr><td> 9</td><td> 89</td><td>62</td><td> 0</td><td>  0</td><td>22.5</td><td>0.142</td><td>33</td><td>0</td><td>3</td><td>nm</td><td>763</td></tr>\n",
       "\t<tr><td>10</td><td>101</td><td>76</td><td>48</td><td>180</td><td>32.9</td><td>0.171</td><td>63</td><td>0</td><td>6</td><td>ob</td><td>764</td></tr>\n",
       "\t<tr><td> 2</td><td>122</td><td>70</td><td>27</td><td>  0</td><td>36.8</td><td>0.340</td><td>27</td><td>0</td><td>2</td><td>ob</td><td>765</td></tr>\n",
       "\t<tr><td> 5</td><td>121</td><td>72</td><td>23</td><td>112</td><td>26.2</td><td>0.245</td><td>30</td><td>0</td><td>3</td><td>ow</td><td>766</td></tr>\n",
       "\t<tr><td> 1</td><td>126</td><td>60</td><td> 0</td><td>  0</td><td>30.1</td><td>0.349</td><td>47</td><td>1</td><td>4</td><td>ob</td><td>767</td></tr>\n",
       "\t<tr><td> 1</td><td> 93</td><td>70</td><td>31</td><td>  0</td><td>30.4</td><td>0.315</td><td>23</td><td>0</td><td>2</td><td>ob</td><td>768</td></tr>\n",
       "</tbody>\n",
       "</table>\n"
      ],
      "text/latex": [
       "A data.table: 768 × 12\n",
       "\\begin{tabular}{llllllllllll}\n",
       " Pregnancies & Glucose & BloodPressure & SkinThickness & Insulin & BMI & DiabetesPedigreeFunction & Age & Outcome & AgeGroup & BMI\\_cat & idx\\\\\n",
       " <int> & <int> & <int> & <int> & <int> & <dbl> & <dbl> & <int> & <int> & <dbl> & <chr> & <int>\\\\\n",
       "\\hline\n",
       "\t  6 & 148 & 72 & 35 &   0 & 33.6 & 0.627 & 50 & 1 & 5 & ob &  1\\\\\n",
       "\t  1 &  85 & 66 & 29 &   0 & 26.6 & 0.351 & 31 & 0 & 3 & ow &  2\\\\\n",
       "\t  8 & 183 & 64 &  0 &   0 & 23.3 & 0.672 & 32 & 1 & 3 & nm &  3\\\\\n",
       "\t  1 &  89 & 66 & 23 &  94 & 28.1 & 0.167 & 21 & 0 & 2 & ow &  4\\\\\n",
       "\t  0 & 137 & 40 & 35 & 168 & 43.1 & 2.288 & 33 & 1 & 3 & ob &  5\\\\\n",
       "\t  5 & 116 & 74 &  0 &   0 & 25.6 & 0.201 & 30 & 0 & 3 & ow &  6\\\\\n",
       "\t  3 &  78 & 50 & 32 &  88 & 31.0 & 0.248 & 26 & 1 & 2 & ob &  7\\\\\n",
       "\t 10 & 115 &  0 &  0 &   0 & 35.3 & 0.134 & 29 & 0 & 2 & ob &  8\\\\\n",
       "\t  2 & 197 & 70 & 45 & 543 & 30.5 & 0.158 & 53 & 1 & 5 & ob &  9\\\\\n",
       "\t  8 & 125 & 96 &  0 &   0 &  0.0 & 0.232 & 54 & 1 & 5 & uw & 10\\\\\n",
       "\t  4 & 110 & 92 &  0 &   0 & 37.6 & 0.191 & 30 & 0 & 3 & ob & 11\\\\\n",
       "\t 10 & 168 & 74 &  0 &   0 & 38.0 & 0.537 & 34 & 1 & 3 & ob & 12\\\\\n",
       "\t 10 & 139 & 80 &  0 &   0 & 27.1 & 1.441 & 57 & 0 & 5 & ow & 13\\\\\n",
       "\t  1 & 189 & 60 & 23 & 846 & 30.1 & 0.398 & 59 & 1 & 5 & ob & 14\\\\\n",
       "\t  5 & 166 & 72 & 19 & 175 & 25.8 & 0.587 & 51 & 1 & 5 & ow & 15\\\\\n",
       "\t  7 & 100 &  0 &  0 &   0 & 30.0 & 0.484 & 32 & 1 & 3 & ob & 16\\\\\n",
       "\t  0 & 118 & 84 & 47 & 230 & 45.8 & 0.551 & 31 & 1 & 3 & ob & 17\\\\\n",
       "\t  7 & 107 & 74 &  0 &   0 & 29.6 & 0.254 & 31 & 1 & 3 & ow & 18\\\\\n",
       "\t  1 & 103 & 30 & 38 &  83 & 43.3 & 0.183 & 33 & 0 & 3 & ob & 19\\\\\n",
       "\t  1 & 115 & 70 & 30 &  96 & 34.6 & 0.529 & 32 & 1 & 3 & ob & 20\\\\\n",
       "\t  3 & 126 & 88 & 41 & 235 & 39.3 & 0.704 & 27 & 0 & 2 & ob & 21\\\\\n",
       "\t  8 &  99 & 84 &  0 &   0 & 35.4 & 0.388 & 50 & 0 & 5 & ob & 22\\\\\n",
       "\t  7 & 196 & 90 &  0 &   0 & 39.8 & 0.451 & 41 & 1 & 4 & ob & 23\\\\\n",
       "\t  9 & 119 & 80 & 35 &   0 & 29.0 & 0.263 & 29 & 1 & 2 & ow & 24\\\\\n",
       "\t 11 & 143 & 94 & 33 & 146 & 36.6 & 0.254 & 51 & 1 & 5 & ob & 25\\\\\n",
       "\t 10 & 125 & 70 & 26 & 115 & 31.1 & 0.205 & 41 & 1 & 4 & ob & 26\\\\\n",
       "\t  7 & 147 & 76 &  0 &   0 & 39.4 & 0.257 & 43 & 1 & 4 & ob & 27\\\\\n",
       "\t  1 &  97 & 66 & 15 & 140 & 23.2 & 0.487 & 22 & 0 & 2 & nm & 28\\\\\n",
       "\t 13 & 145 & 82 & 19 & 110 & 22.2 & 0.245 & 57 & 0 & 5 & nm & 29\\\\\n",
       "\t  5 & 117 & 92 &  0 &   0 & 34.1 & 0.337 & 38 & 0 & 3 & ob & 30\\\\\n",
       "\t ... & ... & ... & ... & ... & ... & ... & ... & ... & ... & ... & ...\\\\\n",
       "\t  2 &  99 & 60 & 17 & 160 & 36.6 & 0.453 & 21 & 0 & 2 & ob & 739\\\\\n",
       "\t  1 & 102 & 74 &  0 &   0 & 39.5 & 0.293 & 42 & 1 & 4 & ob & 740\\\\\n",
       "\t 11 & 120 & 80 & 37 & 150 & 42.3 & 0.785 & 48 & 1 & 4 & ob & 741\\\\\n",
       "\t  3 & 102 & 44 & 20 &  94 & 30.8 & 0.400 & 26 & 0 & 2 & ob & 742\\\\\n",
       "\t  1 & 109 & 58 & 18 & 116 & 28.5 & 0.219 & 22 & 0 & 2 & ow & 743\\\\\n",
       "\t  9 & 140 & 94 &  0 &   0 & 32.7 & 0.734 & 45 & 1 & 4 & ob & 744\\\\\n",
       "\t 13 & 153 & 88 & 37 & 140 & 40.6 & 1.174 & 39 & 0 & 3 & ob & 745\\\\\n",
       "\t 12 & 100 & 84 & 33 & 105 & 30.0 & 0.488 & 46 & 0 & 4 & ob & 746\\\\\n",
       "\t  1 & 147 & 94 & 41 &   0 & 49.3 & 0.358 & 27 & 1 & 2 & ob & 747\\\\\n",
       "\t  1 &  81 & 74 & 41 &  57 & 46.3 & 1.096 & 32 & 0 & 3 & ob & 748\\\\\n",
       "\t  3 & 187 & 70 & 22 & 200 & 36.4 & 0.408 & 36 & 1 & 3 & ob & 749\\\\\n",
       "\t  6 & 162 & 62 &  0 &   0 & 24.3 & 0.178 & 50 & 1 & 5 & nm & 750\\\\\n",
       "\t  4 & 136 & 70 &  0 &   0 & 31.2 & 1.182 & 22 & 1 & 2 & ob & 751\\\\\n",
       "\t  1 & 121 & 78 & 39 &  74 & 39.0 & 0.261 & 28 & 0 & 2 & ob & 752\\\\\n",
       "\t  3 & 108 & 62 & 24 &   0 & 26.0 & 0.223 & 25 & 0 & 2 & ow & 753\\\\\n",
       "\t  0 & 181 & 88 & 44 & 510 & 43.3 & 0.222 & 26 & 1 & 2 & ob & 754\\\\\n",
       "\t  8 & 154 & 78 & 32 &   0 & 32.4 & 0.443 & 45 & 1 & 4 & ob & 755\\\\\n",
       "\t  1 & 128 & 88 & 39 & 110 & 36.5 & 1.057 & 37 & 1 & 3 & ob & 756\\\\\n",
       "\t  7 & 137 & 90 & 41 &   0 & 32.0 & 0.391 & 39 & 0 & 3 & ob & 757\\\\\n",
       "\t  0 & 123 & 72 &  0 &   0 & 36.3 & 0.258 & 52 & 1 & 5 & ob & 758\\\\\n",
       "\t  1 & 106 & 76 &  0 &   0 & 37.5 & 0.197 & 26 & 0 & 2 & ob & 759\\\\\n",
       "\t  6 & 190 & 92 &  0 &   0 & 35.5 & 0.278 & 66 & 1 & 6 & ob & 760\\\\\n",
       "\t  2 &  88 & 58 & 26 &  16 & 28.4 & 0.766 & 22 & 0 & 2 & ow & 761\\\\\n",
       "\t  9 & 170 & 74 & 31 &   0 & 44.0 & 0.403 & 43 & 1 & 4 & ob & 762\\\\\n",
       "\t  9 &  89 & 62 &  0 &   0 & 22.5 & 0.142 & 33 & 0 & 3 & nm & 763\\\\\n",
       "\t 10 & 101 & 76 & 48 & 180 & 32.9 & 0.171 & 63 & 0 & 6 & ob & 764\\\\\n",
       "\t  2 & 122 & 70 & 27 &   0 & 36.8 & 0.340 & 27 & 0 & 2 & ob & 765\\\\\n",
       "\t  5 & 121 & 72 & 23 & 112 & 26.2 & 0.245 & 30 & 0 & 3 & ow & 766\\\\\n",
       "\t  1 & 126 & 60 &  0 &   0 & 30.1 & 0.349 & 47 & 1 & 4 & ob & 767\\\\\n",
       "\t  1 &  93 & 70 & 31 &   0 & 30.4 & 0.315 & 23 & 0 & 2 & ob & 768\\\\\n",
       "\\end{tabular}\n"
      ],
      "text/markdown": [
       "\n",
       "A data.table: 768 × 12\n",
       "\n",
       "| Pregnancies &lt;int&gt; | Glucose &lt;int&gt; | BloodPressure &lt;int&gt; | SkinThickness &lt;int&gt; | Insulin &lt;int&gt; | BMI &lt;dbl&gt; | DiabetesPedigreeFunction &lt;dbl&gt; | Age &lt;int&gt; | Outcome &lt;int&gt; | AgeGroup &lt;dbl&gt; | BMI_cat &lt;chr&gt; | idx &lt;int&gt; |\n",
       "|---|---|---|---|---|---|---|---|---|---|---|---|\n",
       "|  6 | 148 | 72 | 35 |   0 | 33.6 | 0.627 | 50 | 1 | 5 | ob |  1 |\n",
       "|  1 |  85 | 66 | 29 |   0 | 26.6 | 0.351 | 31 | 0 | 3 | ow |  2 |\n",
       "|  8 | 183 | 64 |  0 |   0 | 23.3 | 0.672 | 32 | 1 | 3 | nm |  3 |\n",
       "|  1 |  89 | 66 | 23 |  94 | 28.1 | 0.167 | 21 | 0 | 2 | ow |  4 |\n",
       "|  0 | 137 | 40 | 35 | 168 | 43.1 | 2.288 | 33 | 1 | 3 | ob |  5 |\n",
       "|  5 | 116 | 74 |  0 |   0 | 25.6 | 0.201 | 30 | 0 | 3 | ow |  6 |\n",
       "|  3 |  78 | 50 | 32 |  88 | 31.0 | 0.248 | 26 | 1 | 2 | ob |  7 |\n",
       "| 10 | 115 |  0 |  0 |   0 | 35.3 | 0.134 | 29 | 0 | 2 | ob |  8 |\n",
       "|  2 | 197 | 70 | 45 | 543 | 30.5 | 0.158 | 53 | 1 | 5 | ob |  9 |\n",
       "|  8 | 125 | 96 |  0 |   0 |  0.0 | 0.232 | 54 | 1 | 5 | uw | 10 |\n",
       "|  4 | 110 | 92 |  0 |   0 | 37.6 | 0.191 | 30 | 0 | 3 | ob | 11 |\n",
       "| 10 | 168 | 74 |  0 |   0 | 38.0 | 0.537 | 34 | 1 | 3 | ob | 12 |\n",
       "| 10 | 139 | 80 |  0 |   0 | 27.1 | 1.441 | 57 | 0 | 5 | ow | 13 |\n",
       "|  1 | 189 | 60 | 23 | 846 | 30.1 | 0.398 | 59 | 1 | 5 | ob | 14 |\n",
       "|  5 | 166 | 72 | 19 | 175 | 25.8 | 0.587 | 51 | 1 | 5 | ow | 15 |\n",
       "|  7 | 100 |  0 |  0 |   0 | 30.0 | 0.484 | 32 | 1 | 3 | ob | 16 |\n",
       "|  0 | 118 | 84 | 47 | 230 | 45.8 | 0.551 | 31 | 1 | 3 | ob | 17 |\n",
       "|  7 | 107 | 74 |  0 |   0 | 29.6 | 0.254 | 31 | 1 | 3 | ow | 18 |\n",
       "|  1 | 103 | 30 | 38 |  83 | 43.3 | 0.183 | 33 | 0 | 3 | ob | 19 |\n",
       "|  1 | 115 | 70 | 30 |  96 | 34.6 | 0.529 | 32 | 1 | 3 | ob | 20 |\n",
       "|  3 | 126 | 88 | 41 | 235 | 39.3 | 0.704 | 27 | 0 | 2 | ob | 21 |\n",
       "|  8 |  99 | 84 |  0 |   0 | 35.4 | 0.388 | 50 | 0 | 5 | ob | 22 |\n",
       "|  7 | 196 | 90 |  0 |   0 | 39.8 | 0.451 | 41 | 1 | 4 | ob | 23 |\n",
       "|  9 | 119 | 80 | 35 |   0 | 29.0 | 0.263 | 29 | 1 | 2 | ow | 24 |\n",
       "| 11 | 143 | 94 | 33 | 146 | 36.6 | 0.254 | 51 | 1 | 5 | ob | 25 |\n",
       "| 10 | 125 | 70 | 26 | 115 | 31.1 | 0.205 | 41 | 1 | 4 | ob | 26 |\n",
       "|  7 | 147 | 76 |  0 |   0 | 39.4 | 0.257 | 43 | 1 | 4 | ob | 27 |\n",
       "|  1 |  97 | 66 | 15 | 140 | 23.2 | 0.487 | 22 | 0 | 2 | nm | 28 |\n",
       "| 13 | 145 | 82 | 19 | 110 | 22.2 | 0.245 | 57 | 0 | 5 | nm | 29 |\n",
       "|  5 | 117 | 92 |  0 |   0 | 34.1 | 0.337 | 38 | 0 | 3 | ob | 30 |\n",
       "| ... | ... | ... | ... | ... | ... | ... | ... | ... | ... | ... | ... |\n",
       "|  2 |  99 | 60 | 17 | 160 | 36.6 | 0.453 | 21 | 0 | 2 | ob | 739 |\n",
       "|  1 | 102 | 74 |  0 |   0 | 39.5 | 0.293 | 42 | 1 | 4 | ob | 740 |\n",
       "| 11 | 120 | 80 | 37 | 150 | 42.3 | 0.785 | 48 | 1 | 4 | ob | 741 |\n",
       "|  3 | 102 | 44 | 20 |  94 | 30.8 | 0.400 | 26 | 0 | 2 | ob | 742 |\n",
       "|  1 | 109 | 58 | 18 | 116 | 28.5 | 0.219 | 22 | 0 | 2 | ow | 743 |\n",
       "|  9 | 140 | 94 |  0 |   0 | 32.7 | 0.734 | 45 | 1 | 4 | ob | 744 |\n",
       "| 13 | 153 | 88 | 37 | 140 | 40.6 | 1.174 | 39 | 0 | 3 | ob | 745 |\n",
       "| 12 | 100 | 84 | 33 | 105 | 30.0 | 0.488 | 46 | 0 | 4 | ob | 746 |\n",
       "|  1 | 147 | 94 | 41 |   0 | 49.3 | 0.358 | 27 | 1 | 2 | ob | 747 |\n",
       "|  1 |  81 | 74 | 41 |  57 | 46.3 | 1.096 | 32 | 0 | 3 | ob | 748 |\n",
       "|  3 | 187 | 70 | 22 | 200 | 36.4 | 0.408 | 36 | 1 | 3 | ob | 749 |\n",
       "|  6 | 162 | 62 |  0 |   0 | 24.3 | 0.178 | 50 | 1 | 5 | nm | 750 |\n",
       "|  4 | 136 | 70 |  0 |   0 | 31.2 | 1.182 | 22 | 1 | 2 | ob | 751 |\n",
       "|  1 | 121 | 78 | 39 |  74 | 39.0 | 0.261 | 28 | 0 | 2 | ob | 752 |\n",
       "|  3 | 108 | 62 | 24 |   0 | 26.0 | 0.223 | 25 | 0 | 2 | ow | 753 |\n",
       "|  0 | 181 | 88 | 44 | 510 | 43.3 | 0.222 | 26 | 1 | 2 | ob | 754 |\n",
       "|  8 | 154 | 78 | 32 |   0 | 32.4 | 0.443 | 45 | 1 | 4 | ob | 755 |\n",
       "|  1 | 128 | 88 | 39 | 110 | 36.5 | 1.057 | 37 | 1 | 3 | ob | 756 |\n",
       "|  7 | 137 | 90 | 41 |   0 | 32.0 | 0.391 | 39 | 0 | 3 | ob | 757 |\n",
       "|  0 | 123 | 72 |  0 |   0 | 36.3 | 0.258 | 52 | 1 | 5 | ob | 758 |\n",
       "|  1 | 106 | 76 |  0 |   0 | 37.5 | 0.197 | 26 | 0 | 2 | ob | 759 |\n",
       "|  6 | 190 | 92 |  0 |   0 | 35.5 | 0.278 | 66 | 1 | 6 | ob | 760 |\n",
       "|  2 |  88 | 58 | 26 |  16 | 28.4 | 0.766 | 22 | 0 | 2 | ow | 761 |\n",
       "|  9 | 170 | 74 | 31 |   0 | 44.0 | 0.403 | 43 | 1 | 4 | ob | 762 |\n",
       "|  9 |  89 | 62 |  0 |   0 | 22.5 | 0.142 | 33 | 0 | 3 | nm | 763 |\n",
       "| 10 | 101 | 76 | 48 | 180 | 32.9 | 0.171 | 63 | 0 | 6 | ob | 764 |\n",
       "|  2 | 122 | 70 | 27 |   0 | 36.8 | 0.340 | 27 | 0 | 2 | ob | 765 |\n",
       "|  5 | 121 | 72 | 23 | 112 | 26.2 | 0.245 | 30 | 0 | 3 | ow | 766 |\n",
       "|  1 | 126 | 60 |  0 |   0 | 30.1 | 0.349 | 47 | 1 | 4 | ob | 767 |\n",
       "|  1 |  93 | 70 | 31 |   0 | 30.4 | 0.315 | 23 | 0 | 2 | ob | 768 |\n",
       "\n"
      ],
      "text/plain": [
       "    Pregnancies Glucose BloodPressure SkinThickness Insulin BMI \n",
       "1    6          148     72            35              0     33.6\n",
       "2    1           85     66            29              0     26.6\n",
       "3    8          183     64             0              0     23.3\n",
       "4    1           89     66            23             94     28.1\n",
       "5    0          137     40            35            168     43.1\n",
       "6    5          116     74             0              0     25.6\n",
       "7    3           78     50            32             88     31.0\n",
       "8   10          115      0             0              0     35.3\n",
       "9    2          197     70            45            543     30.5\n",
       "10   8          125     96             0              0      0.0\n",
       "11   4          110     92             0              0     37.6\n",
       "12  10          168     74             0              0     38.0\n",
       "13  10          139     80             0              0     27.1\n",
       "14   1          189     60            23            846     30.1\n",
       "15   5          166     72            19            175     25.8\n",
       "16   7          100      0             0              0     30.0\n",
       "17   0          118     84            47            230     45.8\n",
       "18   7          107     74             0              0     29.6\n",
       "19   1          103     30            38             83     43.3\n",
       "20   1          115     70            30             96     34.6\n",
       "21   3          126     88            41            235     39.3\n",
       "22   8           99     84             0              0     35.4\n",
       "23   7          196     90             0              0     39.8\n",
       "24   9          119     80            35              0     29.0\n",
       "25  11          143     94            33            146     36.6\n",
       "26  10          125     70            26            115     31.1\n",
       "27   7          147     76             0              0     39.4\n",
       "28   1           97     66            15            140     23.2\n",
       "29  13          145     82            19            110     22.2\n",
       "30   5          117     92             0              0     34.1\n",
       "... ...         ...     ...           ...           ...     ... \n",
       "739  2           99     60            17            160     36.6\n",
       "740  1          102     74             0              0     39.5\n",
       "741 11          120     80            37            150     42.3\n",
       "742  3          102     44            20             94     30.8\n",
       "743  1          109     58            18            116     28.5\n",
       "744  9          140     94             0              0     32.7\n",
       "745 13          153     88            37            140     40.6\n",
       "746 12          100     84            33            105     30.0\n",
       "747  1          147     94            41              0     49.3\n",
       "748  1           81     74            41             57     46.3\n",
       "749  3          187     70            22            200     36.4\n",
       "750  6          162     62             0              0     24.3\n",
       "751  4          136     70             0              0     31.2\n",
       "752  1          121     78            39             74     39.0\n",
       "753  3          108     62            24              0     26.0\n",
       "754  0          181     88            44            510     43.3\n",
       "755  8          154     78            32              0     32.4\n",
       "756  1          128     88            39            110     36.5\n",
       "757  7          137     90            41              0     32.0\n",
       "758  0          123     72             0              0     36.3\n",
       "759  1          106     76             0              0     37.5\n",
       "760  6          190     92             0              0     35.5\n",
       "761  2           88     58            26             16     28.4\n",
       "762  9          170     74            31              0     44.0\n",
       "763  9           89     62             0              0     22.5\n",
       "764 10          101     76            48            180     32.9\n",
       "765  2          122     70            27              0     36.8\n",
       "766  5          121     72            23            112     26.2\n",
       "767  1          126     60             0              0     30.1\n",
       "768  1           93     70            31              0     30.4\n",
       "    DiabetesPedigreeFunction Age Outcome AgeGroup BMI_cat idx\n",
       "1   0.627                    50  1       5        ob       1 \n",
       "2   0.351                    31  0       3        ow       2 \n",
       "3   0.672                    32  1       3        nm       3 \n",
       "4   0.167                    21  0       2        ow       4 \n",
       "5   2.288                    33  1       3        ob       5 \n",
       "6   0.201                    30  0       3        ow       6 \n",
       "7   0.248                    26  1       2        ob       7 \n",
       "8   0.134                    29  0       2        ob       8 \n",
       "9   0.158                    53  1       5        ob       9 \n",
       "10  0.232                    54  1       5        uw      10 \n",
       "11  0.191                    30  0       3        ob      11 \n",
       "12  0.537                    34  1       3        ob      12 \n",
       "13  1.441                    57  0       5        ow      13 \n",
       "14  0.398                    59  1       5        ob      14 \n",
       "15  0.587                    51  1       5        ow      15 \n",
       "16  0.484                    32  1       3        ob      16 \n",
       "17  0.551                    31  1       3        ob      17 \n",
       "18  0.254                    31  1       3        ow      18 \n",
       "19  0.183                    33  0       3        ob      19 \n",
       "20  0.529                    32  1       3        ob      20 \n",
       "21  0.704                    27  0       2        ob      21 \n",
       "22  0.388                    50  0       5        ob      22 \n",
       "23  0.451                    41  1       4        ob      23 \n",
       "24  0.263                    29  1       2        ow      24 \n",
       "25  0.254                    51  1       5        ob      25 \n",
       "26  0.205                    41  1       4        ob      26 \n",
       "27  0.257                    43  1       4        ob      27 \n",
       "28  0.487                    22  0       2        nm      28 \n",
       "29  0.245                    57  0       5        nm      29 \n",
       "30  0.337                    38  0       3        ob      30 \n",
       "... ...                      ... ...     ...      ...     ...\n",
       "739 0.453                    21  0       2        ob      739\n",
       "740 0.293                    42  1       4        ob      740\n",
       "741 0.785                    48  1       4        ob      741\n",
       "742 0.400                    26  0       2        ob      742\n",
       "743 0.219                    22  0       2        ow      743\n",
       "744 0.734                    45  1       4        ob      744\n",
       "745 1.174                    39  0       3        ob      745\n",
       "746 0.488                    46  0       4        ob      746\n",
       "747 0.358                    27  1       2        ob      747\n",
       "748 1.096                    32  0       3        ob      748\n",
       "749 0.408                    36  1       3        ob      749\n",
       "750 0.178                    50  1       5        nm      750\n",
       "751 1.182                    22  1       2        ob      751\n",
       "752 0.261                    28  0       2        ob      752\n",
       "753 0.223                    25  0       2        ow      753\n",
       "754 0.222                    26  1       2        ob      754\n",
       "755 0.443                    45  1       4        ob      755\n",
       "756 1.057                    37  1       3        ob      756\n",
       "757 0.391                    39  0       3        ob      757\n",
       "758 0.258                    52  1       5        ob      758\n",
       "759 0.197                    26  0       2        ob      759\n",
       "760 0.278                    66  1       6        ob      760\n",
       "761 0.766                    22  0       2        ow      761\n",
       "762 0.403                    43  1       4        ob      762\n",
       "763 0.142                    33  0       3        nm      763\n",
       "764 0.171                    63  0       6        ob      764\n",
       "765 0.340                    27  0       2        ob      765\n",
       "766 0.245                    30  0       3        ow      766\n",
       "767 0.349                    47  1       4        ob      767\n",
       "768 0.315                    23  0       2        ob      768"
      ]
     },
     "metadata": {},
     "output_type": "display_data"
    }
   ],
   "source": [
    "data"
   ]
  },
  {
   "cell_type": "code",
   "execution_count": 8,
   "metadata": {},
   "outputs": [
    {
     "data": {
      "text/html": [
       "<table>\n",
       "<caption>A data.table: 6 × 1</caption>\n",
       "<thead>\n",
       "\t<tr><th scope=col>N</th></tr>\n",
       "\t<tr><th scope=col>&lt;dbl&gt;</th></tr>\n",
       "</thead>\n",
       "<tbody>\n",
       "\t<tr><td>0.2121212</td></tr>\n",
       "\t<tr><td>0.4606061</td></tr>\n",
       "\t<tr><td>0.5508475</td></tr>\n",
       "\t<tr><td>0.5964912</td></tr>\n",
       "\t<tr><td>0.2758621</td></tr>\n",
       "\t<tr><td>0.5000000</td></tr>\n",
       "</tbody>\n",
       "</table>\n"
      ],
      "text/latex": [
       "A data.table: 6 × 1\n",
       "\\begin{tabular}{l}\n",
       " N\\\\\n",
       " <dbl>\\\\\n",
       "\\hline\n",
       "\t 0.2121212\\\\\n",
       "\t 0.4606061\\\\\n",
       "\t 0.5508475\\\\\n",
       "\t 0.5964912\\\\\n",
       "\t 0.2758621\\\\\n",
       "\t 0.5000000\\\\\n",
       "\\end{tabular}\n"
      ],
      "text/markdown": [
       "\n",
       "A data.table: 6 × 1\n",
       "\n",
       "| N &lt;dbl&gt; |\n",
       "|---|\n",
       "| 0.2121212 |\n",
       "| 0.4606061 |\n",
       "| 0.5508475 |\n",
       "| 0.5964912 |\n",
       "| 0.2758621 |\n",
       "| 0.5000000 |\n",
       "\n"
      ],
      "text/plain": [
       "  N        \n",
       "1 0.2121212\n",
       "2 0.4606061\n",
       "3 0.5508475\n",
       "4 0.5964912\n",
       "5 0.2758621\n",
       "6 0.5000000"
      ]
     },
     "metadata": {},
     "output_type": "display_data"
    },
    {
     "data": {
      "text/html": [
       "<table>\n",
       "<caption>A data.table: 6 × 2</caption>\n",
       "<thead>\n",
       "\t<tr><th scope=col>AgeGroup</th><th scope=col>N</th></tr>\n",
       "\t<tr><th scope=col>&lt;dbl&gt;</th><th scope=col>&lt;int&gt;</th></tr>\n",
       "</thead>\n",
       "<tbody>\n",
       "\t<tr><td>2</td><td>396</td></tr>\n",
       "\t<tr><td>3</td><td>165</td></tr>\n",
       "\t<tr><td>4</td><td>118</td></tr>\n",
       "\t<tr><td>5</td><td> 57</td></tr>\n",
       "\t<tr><td>6</td><td> 29</td></tr>\n",
       "\t<tr><td>7</td><td>  2</td></tr>\n",
       "</tbody>\n",
       "</table>\n"
      ],
      "text/latex": [
       "A data.table: 6 × 2\n",
       "\\begin{tabular}{ll}\n",
       " AgeGroup & N\\\\\n",
       " <dbl> & <int>\\\\\n",
       "\\hline\n",
       "\t 2 & 396\\\\\n",
       "\t 3 & 165\\\\\n",
       "\t 4 & 118\\\\\n",
       "\t 5 &  57\\\\\n",
       "\t 6 &  29\\\\\n",
       "\t 7 &   2\\\\\n",
       "\\end{tabular}\n"
      ],
      "text/markdown": [
       "\n",
       "A data.table: 6 × 2\n",
       "\n",
       "| AgeGroup &lt;dbl&gt; | N &lt;int&gt; |\n",
       "|---|---|\n",
       "| 2 | 396 |\n",
       "| 3 | 165 |\n",
       "| 4 | 118 |\n",
       "| 5 |  57 |\n",
       "| 6 |  29 |\n",
       "| 7 |   2 |\n",
       "\n"
      ],
      "text/plain": [
       "  AgeGroup N  \n",
       "1 2        396\n",
       "2 3        165\n",
       "3 4        118\n",
       "4 5         57\n",
       "5 6         29\n",
       "6 7          2"
      ]
     },
     "metadata": {},
     "output_type": "display_data"
    }
   ],
   "source": [
    "# 연령별 당뇨병 비율\n",
    "data[Outcome == 1,.N,by = AgeGroup][order(AgeGroup)][,2] / data[AgeGroup != 8][,.N,AgeGroup][order(AgeGroup)][,2]\n",
    "data[AgeGroup != 8][,.N,AgeGroup][order(AgeGroup)]"
   ]
  },
  {
   "cell_type": "markdown",
   "metadata": {},
   "source": [
    "20대와 60대의 당뇨 비율 낮고 30대와 50대 사이  \n",
    "당뇨 비율이 높음"
   ]
  },
  {
   "cell_type": "code",
   "execution_count": 9,
   "metadata": {},
   "outputs": [
    {
     "data": {
      "text/html": [
       "<table>\n",
       "<caption>A data.table: 4 × 1</caption>\n",
       "<thead>\n",
       "\t<tr><th scope=col>N</th></tr>\n",
       "\t<tr><th scope=col>&lt;dbl&gt;</th></tr>\n",
       "</thead>\n",
       "<tbody>\n",
       "\t<tr><td>0.06862745</td></tr>\n",
       "\t<tr><td>0.46398305</td></tr>\n",
       "\t<tr><td>0.22346369</td></tr>\n",
       "\t<tr><td>0.13333333</td></tr>\n",
       "</tbody>\n",
       "</table>\n"
      ],
      "text/latex": [
       "A data.table: 4 × 1\n",
       "\\begin{tabular}{l}\n",
       " N\\\\\n",
       " <dbl>\\\\\n",
       "\\hline\n",
       "\t 0.06862745\\\\\n",
       "\t 0.46398305\\\\\n",
       "\t 0.22346369\\\\\n",
       "\t 0.13333333\\\\\n",
       "\\end{tabular}\n"
      ],
      "text/markdown": [
       "\n",
       "A data.table: 4 × 1\n",
       "\n",
       "| N &lt;dbl&gt; |\n",
       "|---|\n",
       "| 0.06862745 |\n",
       "| 0.46398305 |\n",
       "| 0.22346369 |\n",
       "| 0.13333333 |\n",
       "\n"
      ],
      "text/plain": [
       "  N         \n",
       "1 0.06862745\n",
       "2 0.46398305\n",
       "3 0.22346369\n",
       "4 0.13333333"
      ]
     },
     "metadata": {},
     "output_type": "display_data"
    },
    {
     "data": {
      "text/html": [
       "<table>\n",
       "<caption>A data.table: 4 × 2</caption>\n",
       "<thead>\n",
       "\t<tr><th scope=col>BMI_cat</th><th scope=col>N</th></tr>\n",
       "\t<tr><th scope=col>&lt;chr&gt;</th><th scope=col>&lt;int&gt;</th></tr>\n",
       "</thead>\n",
       "<tbody>\n",
       "\t<tr><td>nm</td><td>102</td></tr>\n",
       "\t<tr><td>ob</td><td>472</td></tr>\n",
       "\t<tr><td>ow</td><td>179</td></tr>\n",
       "\t<tr><td>uw</td><td> 15</td></tr>\n",
       "</tbody>\n",
       "</table>\n"
      ],
      "text/latex": [
       "A data.table: 4 × 2\n",
       "\\begin{tabular}{ll}\n",
       " BMI\\_cat & N\\\\\n",
       " <chr> & <int>\\\\\n",
       "\\hline\n",
       "\t nm & 102\\\\\n",
       "\t ob & 472\\\\\n",
       "\t ow & 179\\\\\n",
       "\t uw &  15\\\\\n",
       "\\end{tabular}\n"
      ],
      "text/markdown": [
       "\n",
       "A data.table: 4 × 2\n",
       "\n",
       "| BMI_cat &lt;chr&gt; | N &lt;int&gt; |\n",
       "|---|---|\n",
       "| nm | 102 |\n",
       "| ob | 472 |\n",
       "| ow | 179 |\n",
       "| uw |  15 |\n",
       "\n"
      ],
      "text/plain": [
       "  BMI_cat N  \n",
       "1 nm      102\n",
       "2 ob      472\n",
       "3 ow      179\n",
       "4 uw       15"
      ]
     },
     "metadata": {},
     "output_type": "display_data"
    }
   ],
   "source": [
    "# BMI별 당뇨병 비율\n",
    "data[Outcome == 1, .N, by = BMI_cat][order(BMI_cat)][,2] / data[,.N,by = BMI_cat][order(BMI_cat)][,2]\n",
    "data[, .N, by = BMI_cat][order(BMI_cat)]"
   ]
  },
  {
   "cell_type": "markdown",
   "metadata": {},
   "source": [
    "전반적으로 무게가 많이 나가는 사람이 많이 조사되었고,   \n",
    "피마 인디언은 무게가 많이 나가는 사람이 많은가 보다.  \n",
    "비만 --> 과체중 --> 저체중 --> 정상 순으로   \n",
    "당뇨병 비율이 높았음."
   ]
  },
  {
   "cell_type": "code",
   "execution_count": 10,
   "metadata": {
    "scrolled": true
   },
   "outputs": [
    {
     "data": {
      "text/html": [
       "<table>\n",
       "<caption>A data.table: 7 × 3</caption>\n",
       "<thead>\n",
       "\t<tr><th scope=col>AgeGroup</th><th scope=col>N</th><th scope=col>mean_ins</th></tr>\n",
       "\t<tr><th scope=col>&lt;dbl&gt;</th><th scope=col>&lt;int&gt;</th><th scope=col>&lt;dbl&gt;</th></tr>\n",
       "</thead>\n",
       "<tbody>\n",
       "\t<tr><td>2</td><td>396</td><td> 84.39394</td></tr>\n",
       "\t<tr><td>3</td><td>165</td><td> 77.81212</td></tr>\n",
       "\t<tr><td>4</td><td>118</td><td> 63.89831</td></tr>\n",
       "\t<tr><td>5</td><td> 57</td><td>109.40351</td></tr>\n",
       "\t<tr><td>6</td><td> 29</td><td> 41.06897</td></tr>\n",
       "\t<tr><td>7</td><td>  2</td><td>  0.00000</td></tr>\n",
       "\t<tr><td>8</td><td>  1</td><td> 60.00000</td></tr>\n",
       "</tbody>\n",
       "</table>\n"
      ],
      "text/latex": [
       "A data.table: 7 × 3\n",
       "\\begin{tabular}{lll}\n",
       " AgeGroup & N & mean\\_ins\\\\\n",
       " <dbl> & <int> & <dbl>\\\\\n",
       "\\hline\n",
       "\t 2 & 396 &  84.39394\\\\\n",
       "\t 3 & 165 &  77.81212\\\\\n",
       "\t 4 & 118 &  63.89831\\\\\n",
       "\t 5 &  57 & 109.40351\\\\\n",
       "\t 6 &  29 &  41.06897\\\\\n",
       "\t 7 &   2 &   0.00000\\\\\n",
       "\t 8 &   1 &  60.00000\\\\\n",
       "\\end{tabular}\n"
      ],
      "text/markdown": [
       "\n",
       "A data.table: 7 × 3\n",
       "\n",
       "| AgeGroup &lt;dbl&gt; | N &lt;int&gt; | mean_ins &lt;dbl&gt; |\n",
       "|---|---|---|\n",
       "| 2 | 396 |  84.39394 |\n",
       "| 3 | 165 |  77.81212 |\n",
       "| 4 | 118 |  63.89831 |\n",
       "| 5 |  57 | 109.40351 |\n",
       "| 6 |  29 |  41.06897 |\n",
       "| 7 |   2 |   0.00000 |\n",
       "| 8 |   1 |  60.00000 |\n",
       "\n"
      ],
      "text/plain": [
       "  AgeGroup N   mean_ins \n",
       "1 2        396  84.39394\n",
       "2 3        165  77.81212\n",
       "3 4        118  63.89831\n",
       "4 5         57 109.40351\n",
       "5 6         29  41.06897\n",
       "6 7          2   0.00000\n",
       "7 8          1  60.00000"
      ]
     },
     "metadata": {},
     "output_type": "display_data"
    }
   ],
   "source": [
    "#나이별 인슐린 수치 평균\n",
    "data[,.(.N, mean_ins = mean(Insulin)),AgeGroup][order(AgeGroup)]"
   ]
  },
  {
   "cell_type": "markdown",
   "metadata": {},
   "source": [
    "20대 400명 30대 165명 40대 118명 5060대 : 86명 7080대 : 3명   "
   ]
  },
  {
   "cell_type": "code",
   "execution_count": 95,
   "metadata": {},
   "outputs": [],
   "source": [
    "scatter_d <- function(df, col1, col2, ...) {\n",
    "    graph <- ggplot(df, aes(x = get(col1), y = get(col2))) + \n",
    "    geom_point(shape = 20, size = 5, aes(colour = factor(get(...)))) + \n",
    "    ggtitle(paste(\"Scatter Plot :\",col1,\"between\",col2)) + \n",
    "    labs(colour = paste(...), x = col1, y = col2)\n",
    "    \n",
    "    graph + scale_fill_brewer(palette = \"Set1\")\n",
    "    return(graph)\n",
    "}"
   ]
  },
  {
   "cell_type": "code",
   "execution_count": 115,
   "metadata": {},
   "outputs": [],
   "source": [
    "Boxplot <- function(df, col1) {\n",
    "    graph <- ggplot(df, aes(x = 1, y = get(col1))) +\n",
    "    geom_boxplot() +\n",
    "    ggtitle(paste(\"Boxplot of\",col1)) + \n",
    "    labs(x = \"value\", y = col1)\n",
    "    \n",
    "    return(graph)\n",
    "}"
   ]
  },
  {
   "cell_type": "code",
   "execution_count": 118,
   "metadata": {},
   "outputs": [
    {
     "data": {
      "image/png": "[encoded data removed]",
      "text/plain": [
       "plot without title"
      ]
     },
     "metadata": {
      "image/png": {
       "height": 420,
       "width": 420
      }
     },
     "output_type": "display_data"
    }
   ],
   "source": [
    "box_graph_list <- list()\n",
    "cols <- c(\"Glucose\", \"Pregnancies\", \"Insulin\", \"BloodPressure\",\n",
    "         \"SkinThickness\")\n",
    "\n",
    "for (i in 1:length(cols)){\n",
    "  box_graph_list[[i]] = Boxplot(data, cols[i])\n",
    "}\n",
    "\n",
    "do.call(\"grid.arrange\", c(box_graph_list, ncol = 3, nrow = 2))"
   ]
  },
  {
   "cell_type": "markdown",
   "metadata": {},
   "source": [
    "혈압의 0의 개체수가 왜이렇게 많은지, 그리고 0이 너무 많아서 어떻게 처리를 해줘야 할 지...   \n",
    "Insulin 역시 너무나도 극단값이 많아버리는 결과가 나왔음   \n",
    "결측치 제거를 어떻게 할 것인가...!!   \n",
    "일단 혈압같은 경우 label 별로 boxplot을 그린 다음    \n",
    "median이나 mean으로 매꿔보면 어떨까 싶음   \n",
    "임신, Insulin, SkinThickness, 혈압의 극단값을 삭제   "
   ]
  },
  {
   "cell_type": "code",
   "execution_count": 111,
   "metadata": {},
   "outputs": [
    {
     "data": {
      "image/png": "[encoded data removed]",
      "text/plain": [
       "plot without title"
      ]
     },
     "metadata": {
      "image/png": {
       "height": 420,
       "width": 420
      }
     },
     "output_type": "display_data"
    }
   ],
   "source": [
    "sca_graph_list <- list()\n",
    "cols <- c(\"Glucose\", \"Pregnancies\", \"Insulin\", \"BloodPressure\",\n",
    "         \"SkinThickness\")\n",
    "\n",
    "for (i in 1:length(cols)){\n",
    "  sca_graph_list[[i]] = scatter_d(data, \"idx\", cols[i], \"Outcome\")\n",
    "}\n",
    "\n",
    "do.call(\"grid.arrange\", c(sca_graph_list, ncol = 3, nrow = 2))"
   ]
  },
  {
   "cell_type": "code",
   "execution_count": 96,
   "metadata": {},
   "outputs": [
    {
     "data": {
      "image/png": "[encoded data removed]",
      "text/plain": [
       "plot without title"
      ]
     },
     "metadata": {
      "image/png": {
       "height": 420,
       "width": 420
      }
     },
     "output_type": "display_data"
    }
   ],
   "source": [
    "scatter_d(data, \"Age\", \"Pregnancies\",\"Outcome\")"
   ]
  },
  {
   "cell_type": "code",
   "execution_count": 97,
   "metadata": {},
   "outputs": [
    {
     "data": {
      "image/png": "[encoded data removed]",
      "text/plain": [
       "plot without title"
      ]
     },
     "metadata": {
      "image/png": {
       "height": 420,
       "width": 420
      }
     },
     "output_type": "display_data"
    }
   ],
   "source": [
    "scatter_d(data, \"Age\",\"Pregnancies\",\"AgeGroup\")"
   ]
  },
  {
   "cell_type": "code",
   "execution_count": 50,
   "metadata": {},
   "outputs": [
    {
     "data": {
      "text/html": [
       "<table>\n",
       "<caption>A data.table: 6 × 11</caption>\n",
       "<thead>\n",
       "\t<tr><th scope=col>Pregnancies</th><th scope=col>Glucose</th><th scope=col>BloodPressure</th><th scope=col>SkinThickness</th><th scope=col>Insulin</th><th scope=col>BMI</th><th scope=col>DiabetesPedigreeFunction</th><th scope=col>Age</th><th scope=col>Outcome</th><th scope=col>AgeGroup</th><th scope=col>BMI_cat</th></tr>\n",
       "\t<tr><th scope=col>&lt;int&gt;</th><th scope=col>&lt;int&gt;</th><th scope=col>&lt;int&gt;</th><th scope=col>&lt;int&gt;</th><th scope=col>&lt;int&gt;</th><th scope=col>&lt;dbl&gt;</th><th scope=col>&lt;dbl&gt;</th><th scope=col>&lt;int&gt;</th><th scope=col>&lt;int&gt;</th><th scope=col>&lt;dbl&gt;</th><th scope=col>&lt;chr&gt;</th></tr>\n",
       "</thead>\n",
       "<tbody>\n",
       "\t<tr><td>6</td><td>148</td><td>72</td><td>35</td><td>  0</td><td>33.6</td><td>0.627</td><td>50</td><td>1</td><td>5</td><td>ob</td></tr>\n",
       "\t<tr><td>1</td><td> 85</td><td>66</td><td>29</td><td>  0</td><td>26.6</td><td>0.351</td><td>31</td><td>0</td><td>3</td><td>ow</td></tr>\n",
       "\t<tr><td>8</td><td>183</td><td>64</td><td> 0</td><td>  0</td><td>23.3</td><td>0.672</td><td>32</td><td>1</td><td>3</td><td>nm</td></tr>\n",
       "\t<tr><td>1</td><td> 89</td><td>66</td><td>23</td><td> 94</td><td>28.1</td><td>0.167</td><td>21</td><td>0</td><td>2</td><td>ow</td></tr>\n",
       "\t<tr><td>0</td><td>137</td><td>40</td><td>35</td><td>168</td><td>43.1</td><td>2.288</td><td>33</td><td>1</td><td>3</td><td>ob</td></tr>\n",
       "\t<tr><td>5</td><td>116</td><td>74</td><td> 0</td><td>  0</td><td>25.6</td><td>0.201</td><td>30</td><td>0</td><td>3</td><td>ow</td></tr>\n",
       "</tbody>\n",
       "</table>\n"
      ],
      "text/latex": [
       "A data.table: 6 × 11\n",
       "\\begin{tabular}{lllllllllll}\n",
       " Pregnancies & Glucose & BloodPressure & SkinThickness & Insulin & BMI & DiabetesPedigreeFunction & Age & Outcome & AgeGroup & BMI\\_cat\\\\\n",
       " <int> & <int> & <int> & <int> & <int> & <dbl> & <dbl> & <int> & <int> & <dbl> & <chr>\\\\\n",
       "\\hline\n",
       "\t 6 & 148 & 72 & 35 &   0 & 33.6 & 0.627 & 50 & 1 & 5 & ob\\\\\n",
       "\t 1 &  85 & 66 & 29 &   0 & 26.6 & 0.351 & 31 & 0 & 3 & ow\\\\\n",
       "\t 8 & 183 & 64 &  0 &   0 & 23.3 & 0.672 & 32 & 1 & 3 & nm\\\\\n",
       "\t 1 &  89 & 66 & 23 &  94 & 28.1 & 0.167 & 21 & 0 & 2 & ow\\\\\n",
       "\t 0 & 137 & 40 & 35 & 168 & 43.1 & 2.288 & 33 & 1 & 3 & ob\\\\\n",
       "\t 5 & 116 & 74 &  0 &   0 & 25.6 & 0.201 & 30 & 0 & 3 & ow\\\\\n",
       "\\end{tabular}\n"
      ],
      "text/markdown": [
       "\n",
       "A data.table: 6 × 11\n",
       "\n",
       "| Pregnancies &lt;int&gt; | Glucose &lt;int&gt; | BloodPressure &lt;int&gt; | SkinThickness &lt;int&gt; | Insulin &lt;int&gt; | BMI &lt;dbl&gt; | DiabetesPedigreeFunction &lt;dbl&gt; | Age &lt;int&gt; | Outcome &lt;int&gt; | AgeGroup &lt;dbl&gt; | BMI_cat &lt;chr&gt; |\n",
       "|---|---|---|---|---|---|---|---|---|---|---|\n",
       "| 6 | 148 | 72 | 35 |   0 | 33.6 | 0.627 | 50 | 1 | 5 | ob |\n",
       "| 1 |  85 | 66 | 29 |   0 | 26.6 | 0.351 | 31 | 0 | 3 | ow |\n",
       "| 8 | 183 | 64 |  0 |   0 | 23.3 | 0.672 | 32 | 1 | 3 | nm |\n",
       "| 1 |  89 | 66 | 23 |  94 | 28.1 | 0.167 | 21 | 0 | 2 | ow |\n",
       "| 0 | 137 | 40 | 35 | 168 | 43.1 | 2.288 | 33 | 1 | 3 | ob |\n",
       "| 5 | 116 | 74 |  0 |   0 | 25.6 | 0.201 | 30 | 0 | 3 | ow |\n",
       "\n"
      ],
      "text/plain": [
       "  Pregnancies Glucose BloodPressure SkinThickness Insulin BMI \n",
       "1 6           148     72            35              0     33.6\n",
       "2 1            85     66            29              0     26.6\n",
       "3 8           183     64             0              0     23.3\n",
       "4 1            89     66            23             94     28.1\n",
       "5 0           137     40            35            168     43.1\n",
       "6 5           116     74             0              0     25.6\n",
       "  DiabetesPedigreeFunction Age Outcome AgeGroup BMI_cat\n",
       "1 0.627                    50  1       5        ob     \n",
       "2 0.351                    31  0       3        ow     \n",
       "3 0.672                    32  1       3        nm     \n",
       "4 0.167                    21  0       2        ow     \n",
       "5 2.288                    33  1       3        ob     \n",
       "6 0.201                    30  0       3        ow     "
      ]
     },
     "metadata": {},
     "output_type": "display_data"
    }
   ],
   "source": [
    "head(data)"
   ]
  },
  {
   "cell_type": "code",
   "execution_count": 68,
   "metadata": {},
   "outputs": [
    {
     "data": {
      "image/png": "[encoded data removed]",
      "text/plain": [
       "plot without title"
      ]
     },
     "metadata": {
      "image/png": {
       "height": 420,
       "width": 420
      }
     },
     "output_type": "display_data"
    }
   ],
   "source": [
    "display.brewer.all()"
   ]
  },
  {
   "cell_type": "code",
   "execution_count": null,
   "metadata": {},
   "outputs": [],
   "source": [
    "for (i in 1:length(category_wp)){\n",
    "  wp_graph_list[[i]] = draw_bargraph(bf_wp, af_wp, category_wp[i])\n",
    "}"
   ]
  },
  {
   "cell_type": "code",
   "execution_count": 55,
   "metadata": {
    "scrolled": true
   },
   "outputs": [
    {
     "data": {
      "text/html": [
       "<table>\n",
       "<caption>A data.table: 6 × 11</caption>\n",
       "<thead>\n",
       "\t<tr><th scope=col>Pregnancies</th><th scope=col>Glucose</th><th scope=col>BloodPressure</th><th scope=col>SkinThickness</th><th scope=col>Insulin</th><th scope=col>BMI</th><th scope=col>DiabetesPedigreeFunction</th><th scope=col>Age</th><th scope=col>Outcome</th><th scope=col>AgeGroup</th><th scope=col>BMI_cat</th></tr>\n",
       "\t<tr><th scope=col>&lt;int&gt;</th><th scope=col>&lt;int&gt;</th><th scope=col>&lt;int&gt;</th><th scope=col>&lt;int&gt;</th><th scope=col>&lt;int&gt;</th><th scope=col>&lt;dbl&gt;</th><th scope=col>&lt;dbl&gt;</th><th scope=col>&lt;int&gt;</th><th scope=col>&lt;int&gt;</th><th scope=col>&lt;dbl&gt;</th><th scope=col>&lt;chr&gt;</th></tr>\n",
       "</thead>\n",
       "<tbody>\n",
       "\t<tr><td>6</td><td>148</td><td>72</td><td>35</td><td>  0</td><td>33.6</td><td>0.627</td><td>50</td><td>1</td><td>5</td><td>ob</td></tr>\n",
       "\t<tr><td>1</td><td> 85</td><td>66</td><td>29</td><td>  0</td><td>26.6</td><td>0.351</td><td>31</td><td>0</td><td>3</td><td>ow</td></tr>\n",
       "\t<tr><td>8</td><td>183</td><td>64</td><td> 0</td><td>  0</td><td>23.3</td><td>0.672</td><td>32</td><td>1</td><td>3</td><td>nm</td></tr>\n",
       "\t<tr><td>1</td><td> 89</td><td>66</td><td>23</td><td> 94</td><td>28.1</td><td>0.167</td><td>21</td><td>0</td><td>2</td><td>ow</td></tr>\n",
       "\t<tr><td>0</td><td>137</td><td>40</td><td>35</td><td>168</td><td>43.1</td><td>2.288</td><td>33</td><td>1</td><td>3</td><td>ob</td></tr>\n",
       "\t<tr><td>5</td><td>116</td><td>74</td><td> 0</td><td>  0</td><td>25.6</td><td>0.201</td><td>30</td><td>0</td><td>3</td><td>ow</td></tr>\n",
       "</tbody>\n",
       "</table>\n"
      ],
      "text/latex": [
       "A data.table: 6 × 11\n",
       "\\begin{tabular}{lllllllllll}\n",
       " Pregnancies & Glucose & BloodPressure & SkinThickness & Insulin & BMI & DiabetesPedigreeFunction & Age & Outcome & AgeGroup & BMI\\_cat\\\\\n",
       " <int> & <int> & <int> & <int> & <int> & <dbl> & <dbl> & <int> & <int> & <dbl> & <chr>\\\\\n",
       "\\hline\n",
       "\t 6 & 148 & 72 & 35 &   0 & 33.6 & 0.627 & 50 & 1 & 5 & ob\\\\\n",
       "\t 1 &  85 & 66 & 29 &   0 & 26.6 & 0.351 & 31 & 0 & 3 & ow\\\\\n",
       "\t 8 & 183 & 64 &  0 &   0 & 23.3 & 0.672 & 32 & 1 & 3 & nm\\\\\n",
       "\t 1 &  89 & 66 & 23 &  94 & 28.1 & 0.167 & 21 & 0 & 2 & ow\\\\\n",
       "\t 0 & 137 & 40 & 35 & 168 & 43.1 & 2.288 & 33 & 1 & 3 & ob\\\\\n",
       "\t 5 & 116 & 74 &  0 &   0 & 25.6 & 0.201 & 30 & 0 & 3 & ow\\\\\n",
       "\\end{tabular}\n"
      ],
      "text/markdown": [
       "\n",
       "A data.table: 6 × 11\n",
       "\n",
       "| Pregnancies &lt;int&gt; | Glucose &lt;int&gt; | BloodPressure &lt;int&gt; | SkinThickness &lt;int&gt; | Insulin &lt;int&gt; | BMI &lt;dbl&gt; | DiabetesPedigreeFunction &lt;dbl&gt; | Age &lt;int&gt; | Outcome &lt;int&gt; | AgeGroup &lt;dbl&gt; | BMI_cat &lt;chr&gt; |\n",
       "|---|---|---|---|---|---|---|---|---|---|---|\n",
       "| 6 | 148 | 72 | 35 |   0 | 33.6 | 0.627 | 50 | 1 | 5 | ob |\n",
       "| 1 |  85 | 66 | 29 |   0 | 26.6 | 0.351 | 31 | 0 | 3 | ow |\n",
       "| 8 | 183 | 64 |  0 |   0 | 23.3 | 0.672 | 32 | 1 | 3 | nm |\n",
       "| 1 |  89 | 66 | 23 |  94 | 28.1 | 0.167 | 21 | 0 | 2 | ow |\n",
       "| 0 | 137 | 40 | 35 | 168 | 43.1 | 2.288 | 33 | 1 | 3 | ob |\n",
       "| 5 | 116 | 74 |  0 |   0 | 25.6 | 0.201 | 30 | 0 | 3 | ow |\n",
       "\n"
      ],
      "text/plain": [
       "  Pregnancies Glucose BloodPressure SkinThickness Insulin BMI \n",
       "1 6           148     72            35              0     33.6\n",
       "2 1            85     66            29              0     26.6\n",
       "3 8           183     64             0              0     23.3\n",
       "4 1            89     66            23             94     28.1\n",
       "5 0           137     40            35            168     43.1\n",
       "6 5           116     74             0              0     25.6\n",
       "  DiabetesPedigreeFunction Age Outcome AgeGroup BMI_cat\n",
       "1 0.627                    50  1       5        ob     \n",
       "2 0.351                    31  0       3        ow     \n",
       "3 0.672                    32  1       3        nm     \n",
       "4 0.167                    21  0       2        ow     \n",
       "5 2.288                    33  1       3        ob     \n",
       "6 0.201                    30  0       3        ow     "
      ]
     },
     "metadata": {},
     "output_type": "display_data"
    }
   ],
   "source": [
    "head(data)"
   ]
  }
 ],
 "metadata": {
  "kernelspec": {
   "display_name": "R",
   "language": "R",
   "name": "ir"
  },
  "language_info": {
   "codemirror_mode": "r",
   "file_extension": ".r",
   "mimetype": "text/x-r-source",
   "name": "R",
   "pygments_lexer": "r",
   "version": "4.0.3"
  }
 },
 "nbformat": 4,
 "nbformat_minor": 4
}
