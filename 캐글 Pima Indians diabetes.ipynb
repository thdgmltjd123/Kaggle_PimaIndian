{
 "cells": [
  {
   "cell_type": "markdown",
   "metadata": {},
   "source": [
    "### 피마 당뇨병 데이터"
   ]
  },
  {
   "cell_type": "code",
   "execution_count": 1,
   "metadata": {},
   "outputs": [
    {
     "name": "stderr",
     "output_type": "stream",
     "text": [
      "-- \u001b[1mAttaching packages\u001b[22m --------------------------------------- tidyverse 1.3.0 --\n",
      "\n",
      "\u001b[32m√\u001b[39m \u001b[34mggplot2\u001b[39m 3.3.2     \u001b[32m√\u001b[39m \u001b[34mpurrr  \u001b[39m 0.3.4\n",
      "\u001b[32m√\u001b[39m \u001b[34mtibble \u001b[39m 3.0.4     \u001b[32m√\u001b[39m \u001b[34mdplyr  \u001b[39m 1.0.2\n",
      "\u001b[32m√\u001b[39m \u001b[34mtidyr  \u001b[39m 1.1.2     \u001b[32m√\u001b[39m \u001b[34mstringr\u001b[39m 1.4.0\n",
      "\u001b[32m√\u001b[39m \u001b[34mreadr  \u001b[39m 1.4.0     \u001b[32m√\u001b[39m \u001b[34mforcats\u001b[39m 0.5.0\n",
      "\n",
      "-- \u001b[1mConflicts\u001b[22m ------------------------------------------ tidyverse_conflicts() --\n",
      "\u001b[31mx\u001b[39m \u001b[34mdplyr\u001b[39m::\u001b[32mfilter()\u001b[39m masks \u001b[34mstats\u001b[39m::filter()\n",
      "\u001b[31mx\u001b[39m \u001b[34mdplyr\u001b[39m::\u001b[32mlag()\u001b[39m    masks \u001b[34mstats\u001b[39m::lag()\n",
      "\n",
      "\n",
      "Attaching package: 'data.table'\n",
      "\n",
      "\n",
      "The following objects are masked from 'package:dplyr':\n",
      "\n",
      "    between, first, last\n",
      "\n",
      "\n",
      "The following object is masked from 'package:purrr':\n",
      "\n",
      "    transpose\n",
      "\n",
      "\n",
      "\n",
      "Attaching package: 'gridExtra'\n",
      "\n",
      "\n",
      "The following object is masked from 'package:dplyr':\n",
      "\n",
      "    combine\n",
      "\n",
      "\n"
     ]
    }
   ],
   "source": [
    "library(tidyverse)\n",
    "library(data.table)\n",
    "library(gridExtra)\n",
    "library(ggplot2)\n",
    "library(RColorBrewer)\n",
    "library(gridExtra)"
   ]
  },
  {
   "cell_type": "code",
   "execution_count": 73,
   "metadata": {},
   "outputs": [],
   "source": [
    "data<-fread(\"diabetes.csv\")"
   ]
  },
  {
   "cell_type": "markdown",
   "metadata": {},
   "source": [
    "# 기술통계량 Outline 및 간단한 전처리"
   ]
  },
  {
   "cell_type": "markdown",
   "metadata": {},
   "source": [
    "데이터에 있는 모든 개체들은 여자들임"
   ]
  },
  {
   "cell_type": "code",
   "execution_count": 74,
   "metadata": {
    "scrolled": false
   },
   "outputs": [
    {
     "data": {
      "text/html": [
       "<table>\n",
       "<caption>A data.table: 6 × 9</caption>\n",
       "<thead>\n",
       "\t<tr><th scope=col>Pregnancies</th><th scope=col>Glucose</th><th scope=col>BloodPressure</th><th scope=col>SkinThickness</th><th scope=col>Insulin</th><th scope=col>BMI</th><th scope=col>DiabetesPedigreeFunction</th><th scope=col>Age</th><th scope=col>Outcome</th></tr>\n",
       "\t<tr><th scope=col>&lt;int&gt;</th><th scope=col>&lt;int&gt;</th><th scope=col>&lt;int&gt;</th><th scope=col>&lt;int&gt;</th><th scope=col>&lt;int&gt;</th><th scope=col>&lt;dbl&gt;</th><th scope=col>&lt;dbl&gt;</th><th scope=col>&lt;int&gt;</th><th scope=col>&lt;int&gt;</th></tr>\n",
       "</thead>\n",
       "<tbody>\n",
       "\t<tr><td>6</td><td>148</td><td>72</td><td>35</td><td>  0</td><td>33.6</td><td>0.627</td><td>50</td><td>1</td></tr>\n",
       "\t<tr><td>1</td><td> 85</td><td>66</td><td>29</td><td>  0</td><td>26.6</td><td>0.351</td><td>31</td><td>0</td></tr>\n",
       "\t<tr><td>8</td><td>183</td><td>64</td><td> 0</td><td>  0</td><td>23.3</td><td>0.672</td><td>32</td><td>1</td></tr>\n",
       "\t<tr><td>1</td><td> 89</td><td>66</td><td>23</td><td> 94</td><td>28.1</td><td>0.167</td><td>21</td><td>0</td></tr>\n",
       "\t<tr><td>0</td><td>137</td><td>40</td><td>35</td><td>168</td><td>43.1</td><td>2.288</td><td>33</td><td>1</td></tr>\n",
       "\t<tr><td>5</td><td>116</td><td>74</td><td> 0</td><td>  0</td><td>25.6</td><td>0.201</td><td>30</td><td>0</td></tr>\n",
       "</tbody>\n",
       "</table>\n"
      ],
      "text/latex": [
       "A data.table: 6 × 9\n",
       "\\begin{tabular}{lllllllll}\n",
       " Pregnancies & Glucose & BloodPressure & SkinThickness & Insulin & BMI & DiabetesPedigreeFunction & Age & Outcome\\\\\n",
       " <int> & <int> & <int> & <int> & <int> & <dbl> & <dbl> & <int> & <int>\\\\\n",
       "\\hline\n",
       "\t 6 & 148 & 72 & 35 &   0 & 33.6 & 0.627 & 50 & 1\\\\\n",
       "\t 1 &  85 & 66 & 29 &   0 & 26.6 & 0.351 & 31 & 0\\\\\n",
       "\t 8 & 183 & 64 &  0 &   0 & 23.3 & 0.672 & 32 & 1\\\\\n",
       "\t 1 &  89 & 66 & 23 &  94 & 28.1 & 0.167 & 21 & 0\\\\\n",
       "\t 0 & 137 & 40 & 35 & 168 & 43.1 & 2.288 & 33 & 1\\\\\n",
       "\t 5 & 116 & 74 &  0 &   0 & 25.6 & 0.201 & 30 & 0\\\\\n",
       "\\end{tabular}\n"
      ],
      "text/markdown": [
       "\n",
       "A data.table: 6 × 9\n",
       "\n",
       "| Pregnancies &lt;int&gt; | Glucose &lt;int&gt; | BloodPressure &lt;int&gt; | SkinThickness &lt;int&gt; | Insulin &lt;int&gt; | BMI &lt;dbl&gt; | DiabetesPedigreeFunction &lt;dbl&gt; | Age &lt;int&gt; | Outcome &lt;int&gt; |\n",
       "|---|---|---|---|---|---|---|---|---|\n",
       "| 6 | 148 | 72 | 35 |   0 | 33.6 | 0.627 | 50 | 1 |\n",
       "| 1 |  85 | 66 | 29 |   0 | 26.6 | 0.351 | 31 | 0 |\n",
       "| 8 | 183 | 64 |  0 |   0 | 23.3 | 0.672 | 32 | 1 |\n",
       "| 1 |  89 | 66 | 23 |  94 | 28.1 | 0.167 | 21 | 0 |\n",
       "| 0 | 137 | 40 | 35 | 168 | 43.1 | 2.288 | 33 | 1 |\n",
       "| 5 | 116 | 74 |  0 |   0 | 25.6 | 0.201 | 30 | 0 |\n",
       "\n"
      ],
      "text/plain": [
       "  Pregnancies Glucose BloodPressure SkinThickness Insulin BMI \n",
       "1 6           148     72            35              0     33.6\n",
       "2 1            85     66            29              0     26.6\n",
       "3 8           183     64             0              0     23.3\n",
       "4 1            89     66            23             94     28.1\n",
       "5 0           137     40            35            168     43.1\n",
       "6 5           116     74             0              0     25.6\n",
       "  DiabetesPedigreeFunction Age Outcome\n",
       "1 0.627                    50  1      \n",
       "2 0.351                    31  0      \n",
       "3 0.672                    32  1      \n",
       "4 0.167                    21  0      \n",
       "5 2.288                    33  1      \n",
       "6 0.201                    30  0      "
      ]
     },
     "metadata": {},
     "output_type": "display_data"
    }
   ],
   "source": [
    "head(data)"
   ]
  },
  {
   "cell_type": "code",
   "execution_count": 75,
   "metadata": {},
   "outputs": [
    {
     "data": {
      "text/plain": [
       "  Pregnancies        Glucose      BloodPressure    SkinThickness  \n",
       " Min.   : 0.000   Min.   :  0.0   Min.   :  0.00   Min.   : 0.00  \n",
       " 1st Qu.: 1.000   1st Qu.: 99.0   1st Qu.: 62.00   1st Qu.: 0.00  \n",
       " Median : 3.000   Median :117.0   Median : 72.00   Median :23.00  \n",
       " Mean   : 3.845   Mean   :120.9   Mean   : 69.11   Mean   :20.54  \n",
       " 3rd Qu.: 6.000   3rd Qu.:140.2   3rd Qu.: 80.00   3rd Qu.:32.00  \n",
       " Max.   :17.000   Max.   :199.0   Max.   :122.00   Max.   :99.00  \n",
       "    Insulin           BMI        DiabetesPedigreeFunction      Age       \n",
       " Min.   :  0.0   Min.   : 0.00   Min.   :0.0780           Min.   :21.00  \n",
       " 1st Qu.:  0.0   1st Qu.:27.30   1st Qu.:0.2437           1st Qu.:24.00  \n",
       " Median : 30.5   Median :32.00   Median :0.3725           Median :29.00  \n",
       " Mean   : 79.8   Mean   :31.99   Mean   :0.4719           Mean   :33.24  \n",
       " 3rd Qu.:127.2   3rd Qu.:36.60   3rd Qu.:0.6262           3rd Qu.:41.00  \n",
       " Max.   :846.0   Max.   :67.10   Max.   :2.4200           Max.   :81.00  \n",
       "    Outcome     \n",
       " Min.   :0.000  \n",
       " 1st Qu.:0.000  \n",
       " Median :0.000  \n",
       " Mean   :0.349  \n",
       " 3rd Qu.:1.000  \n",
       " Max.   :1.000  "
      ]
     },
     "metadata": {},
     "output_type": "display_data"
    }
   ],
   "source": [
    "summary(data)"
   ]
  },
  {
   "attachments": {
    "image.png": {
     "image/png": "[encoded data removed]"
    }
   },
   "cell_type": "markdown",
   "metadata": {},
   "source": [
    "![image.png](attachment:image.png)"
   ]
  },
  {
   "attachments": {
    "image.png": {
     "image/png": "[encoded data removed]"
    }
   },
   "cell_type": "markdown",
   "metadata": {},
   "source": [
    "![image.png](attachment:image.png)"
   ]
  },
  {
   "cell_type": "code",
   "execution_count": null,
   "metadata": {},
   "outputs": [],
   "source": [
    "# 나이 그룹별로 통게량 확인을 위해 나이 열 추가\n",
    "data[,AgeGroup := Age %/% 10]"
   ]
  },
  {
   "cell_type": "code",
   "execution_count": 77,
   "metadata": {},
   "outputs": [],
   "source": [
    "#고령자들 데이터 3개 제거.\n",
    "data <- data[AgeGroup<7]"
   ]
  },
  {
   "cell_type": "code",
   "execution_count": 121,
   "metadata": {},
   "outputs": [],
   "source": [
    "scatter_d <- function(df, col1, col2, ...) {\n",
    "    graph <- ggplot(df, aes(x = get(col1), y = get(col2))) + \n",
    "    geom_point(shape = 20, size = 5, aes(colour = factor(get(...)))) + \n",
    "    ggtitle(paste(\"Scatter Plot :\",col1,\"between\",col2)) + \n",
    "    labs(colour = paste(...), x = col1, y = col2)\n",
    "    \n",
    "    graph + scale_fill_brewer(palette = \"Set1\")\n",
    "    return(graph)\n",
    "}"
   ]
  },
  {
   "cell_type": "code",
   "execution_count": 115,
   "metadata": {},
   "outputs": [],
   "source": [
    "Boxplot <- function(df, col1) {\n",
    "    graph <- ggplot(df, aes(x = 1, y = get(col1))) +\n",
    "    geom_boxplot() +\n",
    "    ggtitle(paste(\"Boxplot of\",col1)) + \n",
    "    labs(x = \"value\", y = col1)\n",
    "    \n",
    "    return(graph)\n",
    "}"
   ]
  },
  {
   "cell_type": "code",
   "execution_count": 111,
   "metadata": {
    "scrolled": true
   },
   "outputs": [
    {
     "data": {
      "image/png": "[encoded data removed]",
      "text/plain": [
       "plot without title"
      ]
     },
     "metadata": {
      "image/png": {
       "height": 420,
       "width": 420
      }
     },
     "output_type": "display_data"
    }
   ],
   "source": [
    "sca_graph_list <- list()\n",
    "cols <- c(\"Glucose\", \"Pregnancies\", \"Insulin\", \"BloodPressure\",\n",
    "         \"SkinThickness\")\n",
    "\n",
    "for (i in 1:length(cols)){\n",
    "  sca_graph_list[[i]] = scatter_d(data, \"idx\", cols[i], \"Outcome\")\n",
    "}\n",
    "\n",
    "do.call(\"grid.arrange\", c(sca_graph_list, ncol = 3, nrow = 2))"
   ]
  },
  {
   "cell_type": "code",
   "execution_count": 118,
   "metadata": {},
   "outputs": [
    {
     "data": {
      "image/png": "[encoded data removed]",
      "text/plain": [
       "plot without title"
      ]
     },
     "metadata": {
      "image/png": {
       "height": 420,
       "width": 420
      }
     },
     "output_type": "display_data"
    }
   ],
   "source": [
    "box_graph_list <- list()\n",
    "cols <- c(\"Glucose\", \"Pregnancies\", \"Insulin\", \"BloodPressure\",\n",
    "         \"SkinThickness\")\n",
    "\n",
    "for (i in 1:length(cols)){\n",
    "  box_graph_list[[i]] = Boxplot(data, cols[i])\n",
    "}\n",
    "\n",
    "do.call(\"grid.arrange\", c(box_graph_list, ncol = 3, nrow = 2))"
   ]
  },
  {
   "cell_type": "markdown",
   "metadata": {},
   "source": [
    "# 혈압 및 BMI 변수 처리"
   ]
  },
  {
   "cell_type": "markdown",
   "metadata": {},
   "source": [
    "혈압의 연령별 평균이 다르고,   \n",
    "2~40대의 경우 혈압의 결측값이 많기 때문에,    \n",
    "혈압 결측값 연령별 혈압 중위수로 대체    \n",
    "why 중위수? 평균과 그렇게 차이 안나고 깔끔한 값  "
   ]
  },
  {
   "cell_type": "code",
   "execution_count": 78,
   "metadata": {},
   "outputs": [
    {
     "data": {
      "text/html": [
       "<table>\n",
       "<caption>A data.table: 5 × 2</caption>\n",
       "<thead>\n",
       "\t<tr><th scope=col>AgeGroup</th><th scope=col>V1</th></tr>\n",
       "\t<tr><th scope=col>&lt;dbl&gt;</th><th scope=col>&lt;dbl&gt;</th></tr>\n",
       "</thead>\n",
       "<tbody>\n",
       "\t<tr><td>2</td><td>68.82447</td></tr>\n",
       "\t<tr><td>3</td><td>73.68590</td></tr>\n",
       "\t<tr><td>4</td><td>77.21239</td></tr>\n",
       "\t<tr><td>5</td><td>79.80702</td></tr>\n",
       "\t<tr><td>6</td><td>78.27586</td></tr>\n",
       "</tbody>\n",
       "</table>\n"
      ],
      "text/latex": [
       "A data.table: 5 × 2\n",
       "\\begin{tabular}{ll}\n",
       " AgeGroup & V1\\\\\n",
       " <dbl> & <dbl>\\\\\n",
       "\\hline\n",
       "\t 2 & 68.82447\\\\\n",
       "\t 3 & 73.68590\\\\\n",
       "\t 4 & 77.21239\\\\\n",
       "\t 5 & 79.80702\\\\\n",
       "\t 6 & 78.27586\\\\\n",
       "\\end{tabular}\n"
      ],
      "text/markdown": [
       "\n",
       "A data.table: 5 × 2\n",
       "\n",
       "| AgeGroup &lt;dbl&gt; | V1 &lt;dbl&gt; |\n",
       "|---|---|\n",
       "| 2 | 68.82447 |\n",
       "| 3 | 73.68590 |\n",
       "| 4 | 77.21239 |\n",
       "| 5 | 79.80702 |\n",
       "| 6 | 78.27586 |\n",
       "\n"
      ],
      "text/plain": [
       "  AgeGroup V1      \n",
       "1 2        68.82447\n",
       "2 3        73.68590\n",
       "3 4        77.21239\n",
       "4 5        79.80702\n",
       "5 6        78.27586"
      ]
     },
     "metadata": {},
     "output_type": "display_data"
    },
    {
     "data": {
      "text/html": [
       "<table>\n",
       "<caption>A data.table: 5 × 2</caption>\n",
       "<thead>\n",
       "\t<tr><th scope=col>AgeGroup</th><th scope=col>V1</th></tr>\n",
       "\t<tr><th scope=col>&lt;dbl&gt;</th><th scope=col>&lt;dbl&gt;</th></tr>\n",
       "</thead>\n",
       "<tbody>\n",
       "\t<tr><td>2</td><td>68</td></tr>\n",
       "\t<tr><td>3</td><td>74</td></tr>\n",
       "\t<tr><td>4</td><td>78</td></tr>\n",
       "\t<tr><td>5</td><td>78</td></tr>\n",
       "\t<tr><td>6</td><td>78</td></tr>\n",
       "</tbody>\n",
       "</table>\n"
      ],
      "text/latex": [
       "A data.table: 5 × 2\n",
       "\\begin{tabular}{ll}\n",
       " AgeGroup & V1\\\\\n",
       " <dbl> & <dbl>\\\\\n",
       "\\hline\n",
       "\t 2 & 68\\\\\n",
       "\t 3 & 74\\\\\n",
       "\t 4 & 78\\\\\n",
       "\t 5 & 78\\\\\n",
       "\t 6 & 78\\\\\n",
       "\\end{tabular}\n"
      ],
      "text/markdown": [
       "\n",
       "A data.table: 5 × 2\n",
       "\n",
       "| AgeGroup &lt;dbl&gt; | V1 &lt;dbl&gt; |\n",
       "|---|---|\n",
       "| 2 | 68 |\n",
       "| 3 | 74 |\n",
       "| 4 | 78 |\n",
       "| 5 | 78 |\n",
       "| 6 | 78 |\n",
       "\n"
      ],
      "text/plain": [
       "  AgeGroup V1\n",
       "1 2        68\n",
       "2 3        74\n",
       "3 4        78\n",
       "4 5        78\n",
       "5 6        78"
      ]
     },
     "metadata": {},
     "output_type": "display_data"
    }
   ],
   "source": [
    "data[BloodPressure!=0,mean(BloodPressure),AgeGroup][order(AgeGroup)]\n",
    "data[BloodPressure!=0,median(BloodPressure),AgeGroup][order(AgeGroup)]"
   ]
  },
  {
   "cell_type": "code",
   "execution_count": 81,
   "metadata": {},
   "outputs": [],
   "source": [
    "data[BloodPressure == 0 & AgeGroup == 2, BloodPressure := 68]\n",
    "data[BloodPressure == 0 & AgeGroup == 3, BloodPressure := 74]\n",
    "data[BloodPressure == 0 & AgeGroup == 4, BloodPressure := 78]"
   ]
  },
  {
   "cell_type": "markdown",
   "metadata": {},
   "source": [
    "BMI 0으로 나온 값들 다 연령별 평균으로 대체    \n",
    "정규분포모양으로 생겨서 평균으로 대체하였음"
   ]
  },
  {
   "cell_type": "code",
   "execution_count": 39,
   "metadata": {},
   "outputs": [
    {
     "data": {
      "text/html": [
       "<table>\n",
       "<caption>A data.table: 5 × 2</caption>\n",
       "<thead>\n",
       "\t<tr><th scope=col>AgeGroup</th><th scope=col>V1</th></tr>\n",
       "\t<tr><th scope=col>&lt;dbl&gt;</th><th scope=col>&lt;dbl&gt;</th></tr>\n",
       "</thead>\n",
       "<tbody>\n",
       "\t<tr><td>2</td><td>32.03763</td></tr>\n",
       "\t<tr><td>3</td><td>32.67012</td></tr>\n",
       "\t<tr><td>4</td><td>34.61780</td></tr>\n",
       "\t<tr><td>5</td><td>31.89821</td></tr>\n",
       "\t<tr><td>6</td><td>29.73571</td></tr>\n",
       "</tbody>\n",
       "</table>\n"
      ],
      "text/latex": [
       "A data.table: 5 × 2\n",
       "\\begin{tabular}{ll}\n",
       " AgeGroup & V1\\\\\n",
       " <dbl> & <dbl>\\\\\n",
       "\\hline\n",
       "\t 2 & 32.03763\\\\\n",
       "\t 3 & 32.67012\\\\\n",
       "\t 4 & 34.61780\\\\\n",
       "\t 5 & 31.89821\\\\\n",
       "\t 6 & 29.73571\\\\\n",
       "\\end{tabular}\n"
      ],
      "text/markdown": [
       "\n",
       "A data.table: 5 × 2\n",
       "\n",
       "| AgeGroup &lt;dbl&gt; | V1 &lt;dbl&gt; |\n",
       "|---|---|\n",
       "| 2 | 32.03763 |\n",
       "| 3 | 32.67012 |\n",
       "| 4 | 34.61780 |\n",
       "| 5 | 31.89821 |\n",
       "| 6 | 29.73571 |\n",
       "\n"
      ],
      "text/plain": [
       "  AgeGroup V1      \n",
       "1 2        32.03763\n",
       "2 3        32.67012\n",
       "3 4        34.61780\n",
       "4 5        31.89821\n",
       "5 6        29.73571"
      ]
     },
     "metadata": {},
     "output_type": "display_data"
    },
    {
     "data": {
      "text/html": [
       "<table>\n",
       "<caption>A data.table: 5 × 2</caption>\n",
       "<thead>\n",
       "\t<tr><th scope=col>AgeGroup</th><th scope=col>V1</th></tr>\n",
       "\t<tr><th scope=col>&lt;dbl&gt;</th><th scope=col>&lt;dbl&gt;</th></tr>\n",
       "</thead>\n",
       "<tbody>\n",
       "\t<tr><td>2</td><td>31.60</td></tr>\n",
       "\t<tr><td>3</td><td>32.00</td></tr>\n",
       "\t<tr><td>4</td><td>33.95</td></tr>\n",
       "\t<tr><td>5</td><td>33.05</td></tr>\n",
       "\t<tr><td>6</td><td>29.30</td></tr>\n",
       "</tbody>\n",
       "</table>\n"
      ],
      "text/latex": [
       "A data.table: 5 × 2\n",
       "\\begin{tabular}{ll}\n",
       " AgeGroup & V1\\\\\n",
       " <dbl> & <dbl>\\\\\n",
       "\\hline\n",
       "\t 2 & 31.60\\\\\n",
       "\t 3 & 32.00\\\\\n",
       "\t 4 & 33.95\\\\\n",
       "\t 5 & 33.05\\\\\n",
       "\t 6 & 29.30\\\\\n",
       "\\end{tabular}\n"
      ],
      "text/markdown": [
       "\n",
       "A data.table: 5 × 2\n",
       "\n",
       "| AgeGroup &lt;dbl&gt; | V1 &lt;dbl&gt; |\n",
       "|---|---|\n",
       "| 2 | 31.60 |\n",
       "| 3 | 32.00 |\n",
       "| 4 | 33.95 |\n",
       "| 5 | 33.05 |\n",
       "| 6 | 29.30 |\n",
       "\n"
      ],
      "text/plain": [
       "  AgeGroup V1   \n",
       "1 2        31.60\n",
       "2 3        32.00\n",
       "3 4        33.95\n",
       "4 5        33.05\n",
       "5 6        29.30"
      ]
     },
     "metadata": {},
     "output_type": "display_data"
    }
   ],
   "source": [
    "data[BMI != 0, mean(BMI), AgeGroup][order(AgeGroup)]\n",
    "data[BMI != 0, median(BMI), AgeGroup][order(AgeGroup)]"
   ]
  },
  {
   "cell_type": "code",
   "execution_count": 84,
   "metadata": {},
   "outputs": [],
   "source": [
    "data[BMI==0 & AgeGroup == 2, BMI:=32.04]\n",
    "data[BMI==0 & AgeGroup == 3, BMI:=32.67]\n",
    "data[BMI==0 & AgeGroup == 5, BMI:=31.90]\n",
    "data[BMI==0 & AgeGroup == 6, BMI:=29.74]"
   ]
  },
  {
   "cell_type": "code",
   "execution_count": 86,
   "metadata": {},
   "outputs": [],
   "source": [
    "# BMI 그룹별로 나누는 변수 추가\n",
    "data[,BMI_cat := ifelse(BMI < 18.5,\"uw\",ifelse(BMI<25,\"nm\",ifelse(BMI<30,\"ow\",\"ob\")))]\n",
    "# row index 추가\n",
    "data[, idx := seq(1,764)]"
   ]
  },
  {
   "cell_type": "markdown",
   "metadata": {},
   "source": [
    "# Glucose 결측값 처리"
   ]
  },
  {
   "cell_type": "code",
   "execution_count": 120,
   "metadata": {
    "scrolled": true
   },
   "outputs": [
    {
     "data": {
      "text/html": [
       "<table>\n",
       "<caption>A data.table: 0 × 12</caption>\n",
       "<thead>\n",
       "\t<tr><th scope=col>Pregnancies</th><th scope=col>Glucose</th><th scope=col>BloodPressure</th><th scope=col>SkinThickness</th><th scope=col>Insulin</th><th scope=col>BMI</th><th scope=col>DiabetesPedigreeFunction</th><th scope=col>Age</th><th scope=col>Outcome</th><th scope=col>AgeGroup</th><th scope=col>BMI_cat</th><th scope=col>idx</th></tr>\n",
       "\t<tr><th scope=col>&lt;int&gt;</th><th scope=col>&lt;int&gt;</th><th scope=col>&lt;int&gt;</th><th scope=col>&lt;int&gt;</th><th scope=col>&lt;int&gt;</th><th scope=col>&lt;dbl&gt;</th><th scope=col>&lt;dbl&gt;</th><th scope=col>&lt;int&gt;</th><th scope=col>&lt;int&gt;</th><th scope=col>&lt;dbl&gt;</th><th scope=col>&lt;chr&gt;</th><th scope=col>&lt;int&gt;</th></tr>\n",
       "</thead>\n",
       "<tbody>\n",
       "</tbody>\n",
       "</table>\n"
      ],
      "text/latex": [
       "A data.table: 0 × 12\n",
       "\\begin{tabular}{llllllllllll}\n",
       " Pregnancies & Glucose & BloodPressure & SkinThickness & Insulin & BMI & DiabetesPedigreeFunction & Age & Outcome & AgeGroup & BMI\\_cat & idx\\\\\n",
       " <int> & <int> & <int> & <int> & <int> & <dbl> & <dbl> & <int> & <int> & <dbl> & <chr> & <int>\\\\\n",
       "\\hline\n",
       "\\end{tabular}\n"
      ],
      "text/markdown": [
       "\n",
       "A data.table: 0 × 12\n",
       "\n",
       "| Pregnancies &lt;int&gt; | Glucose &lt;int&gt; | BloodPressure &lt;int&gt; | SkinThickness &lt;int&gt; | Insulin &lt;int&gt; | BMI &lt;dbl&gt; | DiabetesPedigreeFunction &lt;dbl&gt; | Age &lt;int&gt; | Outcome &lt;int&gt; | AgeGroup &lt;dbl&gt; | BMI_cat &lt;chr&gt; | idx &lt;int&gt; |\n",
       "|---|---|---|---|---|---|---|---|---|---|---|---|\n",
       "\n"
      ],
      "text/plain": [
       "     Pregnancies Glucose BloodPressure SkinThickness Insulin BMI\n",
       "     DiabetesPedigreeFunction Age Outcome AgeGroup BMI_cat idx"
      ]
     },
     "metadata": {},
     "output_type": "display_data"
    }
   ],
   "source": [
    "data[Glucose == 0]"
   ]
  },
  {
   "cell_type": "code",
   "execution_count": 119,
   "metadata": {},
   "outputs": [],
   "source": [
    "data[Glucose == 0 & BloodPressure == 48, Glucose:=98]\n",
    "data[Glucose == 0 & BloodPressure == 74, Glucose:=89]\n",
    "data[Glucose == 0 & BMI == 32.0, Glucose:=109]\n",
    "data[Glucose == 0 & BMI == 39, Glucose:=158]\n",
    "data[Glucose == 0 & BloodPressure == 80, Glucose:=140]"
   ]
  },
  {
   "cell_type": "markdown",
   "metadata": {},
   "source": [
    "글루코오스 같은 경우, 결측치가 5개 행밖에 없기 때문에  \n",
    "가장 결측 행과 비슷한 행의 값들을 찾아 단일일 땐 그 값을 적고  \n",
    "그 외에는 평균을 하고, 반올림 처리 하여 결측을 채웠다.   \n",
    "\n",
    "추가적으로 알아낸 사실은 인슐린과 글루코오스간 관계가 있어보여서 히스토그램을 그려볼 것이다.  \n",
    "만일 관계가 있다면 Insulin의 많은 결측값도 채워볼 수 있지 않을까 싶다.  "
   ]
  },
  {
   "cell_type": "markdown",
   "metadata": {},
   "source": [
    "# Insulin 변수 처리 .. 난관..\n",
    "\n",
    "일단 변수에 0이 너무 많아서 분명 결측치도 있을 것이라고 생각하지만   \n",
    "일단 스킵한다.  "
   ]
  },
  {
   "cell_type": "code",
   "execution_count": 125,
   "metadata": {
    "collapsed": true
   },
   "outputs": [
    {
     "data": {
      "image/png": "[encoded data removed]",
      "text/plain": [
       "plot without title"
      ]
     },
     "metadata": {
      "image/png": {
       "height": 420,
       "width": 420
      }
     },
     "output_type": "display_data"
    }
   ],
   "source": [
    "scatter_d(data[Insulin != 0], \"Glucose\", \"Insulin\", \"Outcome\")"
   ]
  },
  {
   "cell_type": "code",
   "execution_count": 139,
   "metadata": {},
   "outputs": [
    {
     "data": {
      "image/png": "[encoded data removed]",
      "text/plain": [
       "plot without title"
      ]
     },
     "metadata": {
      "image/png": {
       "height": 420,
       "width": 420
      }
     },
     "output_type": "display_data"
    }
   ],
   "source": [
    "scatter_d(data, \"Glucose\", \"Insulin\", \"Outcome\")"
   ]
  },
  {
   "cell_type": "code",
   "execution_count": 131,
   "metadata": {},
   "outputs": [
    {
     "data": {
      "image/png": "[encoded data removed]",
      "text/plain": [
       "plot without title"
      ]
     },
     "metadata": {
      "image/png": {
       "height": 420,
       "width": 420
      }
     },
     "output_type": "display_data"
    }
   ],
   "source": [
    "scatter_d(data[Insulin != 0], \"BMI\", \"Insulin\", \"Outcome\") + geom_vline(xintercept = 30, col = \"green\", size = 1)"
   ]
  },
  {
   "cell_type": "markdown",
   "metadata": {},
   "source": [
    "인슐린의 정상 수치 범위는 공복 시 5\\~15이며, 인슐린 저항성이   \n",
    "있는 경우 15\\~40"
   ]
  },
  {
   "cell_type": "markdown",
   "metadata": {},
   "source": [
    "# SkinThickness 변수 처리\n",
    "\n",
    "이런 경우는 BMI수치에 따라 SkinThickness가 관계를 가지므로,   \n",
    "회귀분석을 실행하여 SkinThickness값을 채워주도록 하겠음..!!  "
   ]
  },
  {
   "cell_type": "code",
   "execution_count": 165,
   "metadata": {},
   "outputs": [],
   "source": [
    "rline <- lm(data[SkinThickness!=0,SkinThickness]~data[SkinThickness!=0,BMI])"
   ]
  },
  {
   "cell_type": "code",
   "execution_count": 166,
   "metadata": {},
   "outputs": [
    {
     "data": {
      "text/plain": [
       "\n",
       "Call:\n",
       "lm(formula = data[SkinThickness != 0, SkinThickness] ~ data[SkinThickness != \n",
       "    0, BMI])\n",
       "\n",
       "Coefficients:\n",
       "                  (Intercept)  data[SkinThickness != 0, BMI]  \n",
       "                      -3.4650                         0.9878  \n"
      ]
     },
     "metadata": {},
     "output_type": "display_data"
    }
   ],
   "source": [
    "rline"
   ]
  },
  {
   "cell_type": "code",
   "execution_count": 167,
   "metadata": {},
   "outputs": [
    {
     "data": {
      "image/png": "[encoded data removed]",
      "text/plain": [
       "plot without title"
      ]
     },
     "metadata": {
      "image/png": {
       "height": 420,
       "width": 420
      }
     },
     "output_type": "display_data"
    }
   ],
   "source": [
    "scatter_d(data[SkinThickness!=0], \"BMI\", \"SkinThickness\", \"Outcome\") +\n",
    "    geom_smooth(method = 'lm', formula = y~x, color = \"green\")"
   ]
  },
  {
   "cell_type": "code",
   "execution_count": 162,
   "metadata": {},
   "outputs": [],
   "source": [
    "# 아웃라이어 제거\n",
    "data <- data[idx != 578]"
   ]
  },
  {
   "cell_type": "code",
   "execution_count": 171,
   "metadata": {
    "scrolled": true
   },
   "outputs": [],
   "source": [
    "# StickThickness 값 채우기\n",
    "data[SkinThickness == 0 , SkinThickness := round(-3.4650 + 0.9878*BMI)]"
   ]
  },
  {
   "cell_type": "markdown",
   "metadata": {},
   "source": [
    "# 대망의 미스터페데그린 변수;;"
   ]
  },
  {
   "cell_type": "code",
   "execution_count": 8,
   "metadata": {},
   "outputs": [
    {
     "data": {
      "text/html": [
       "<table>\n",
       "<caption>A data.table: 6 × 1</caption>\n",
       "<thead>\n",
       "\t<tr><th scope=col>N</th></tr>\n",
       "\t<tr><th scope=col>&lt;dbl&gt;</th></tr>\n",
       "</thead>\n",
       "<tbody>\n",
       "\t<tr><td>0.2121212</td></tr>\n",
       "\t<tr><td>0.4606061</td></tr>\n",
       "\t<tr><td>0.5508475</td></tr>\n",
       "\t<tr><td>0.5964912</td></tr>\n",
       "\t<tr><td>0.2758621</td></tr>\n",
       "\t<tr><td>0.5000000</td></tr>\n",
       "</tbody>\n",
       "</table>\n"
      ],
      "text/latex": [
       "A data.table: 6 × 1\n",
       "\\begin{tabular}{l}\n",
       " N\\\\\n",
       " <dbl>\\\\\n",
       "\\hline\n",
       "\t 0.2121212\\\\\n",
       "\t 0.4606061\\\\\n",
       "\t 0.5508475\\\\\n",
       "\t 0.5964912\\\\\n",
       "\t 0.2758621\\\\\n",
       "\t 0.5000000\\\\\n",
       "\\end{tabular}\n"
      ],
      "text/markdown": [
       "\n",
       "A data.table: 6 × 1\n",
       "\n",
       "| N &lt;dbl&gt; |\n",
       "|---|\n",
       "| 0.2121212 |\n",
       "| 0.4606061 |\n",
       "| 0.5508475 |\n",
       "| 0.5964912 |\n",
       "| 0.2758621 |\n",
       "| 0.5000000 |\n",
       "\n"
      ],
      "text/plain": [
       "  N        \n",
       "1 0.2121212\n",
       "2 0.4606061\n",
       "3 0.5508475\n",
       "4 0.5964912\n",
       "5 0.2758621\n",
       "6 0.5000000"
      ]
     },
     "metadata": {},
     "output_type": "display_data"
    },
    {
     "data": {
      "text/html": [
       "<table>\n",
       "<caption>A data.table: 6 × 2</caption>\n",
       "<thead>\n",
       "\t<tr><th scope=col>AgeGroup</th><th scope=col>N</th></tr>\n",
       "\t<tr><th scope=col>&lt;dbl&gt;</th><th scope=col>&lt;int&gt;</th></tr>\n",
       "</thead>\n",
       "<tbody>\n",
       "\t<tr><td>2</td><td>396</td></tr>\n",
       "\t<tr><td>3</td><td>165</td></tr>\n",
       "\t<tr><td>4</td><td>118</td></tr>\n",
       "\t<tr><td>5</td><td> 57</td></tr>\n",
       "\t<tr><td>6</td><td> 29</td></tr>\n",
       "\t<tr><td>7</td><td>  2</td></tr>\n",
       "</tbody>\n",
       "</table>\n"
      ],
      "text/latex": [
       "A data.table: 6 × 2\n",
       "\\begin{tabular}{ll}\n",
       " AgeGroup & N\\\\\n",
       " <dbl> & <int>\\\\\n",
       "\\hline\n",
       "\t 2 & 396\\\\\n",
       "\t 3 & 165\\\\\n",
       "\t 4 & 118\\\\\n",
       "\t 5 &  57\\\\\n",
       "\t 6 &  29\\\\\n",
       "\t 7 &   2\\\\\n",
       "\\end{tabular}\n"
      ],
      "text/markdown": [
       "\n",
       "A data.table: 6 × 2\n",
       "\n",
       "| AgeGroup &lt;dbl&gt; | N &lt;int&gt; |\n",
       "|---|---|\n",
       "| 2 | 396 |\n",
       "| 3 | 165 |\n",
       "| 4 | 118 |\n",
       "| 5 |  57 |\n",
       "| 6 |  29 |\n",
       "| 7 |   2 |\n",
       "\n"
      ],
      "text/plain": [
       "  AgeGroup N  \n",
       "1 2        396\n",
       "2 3        165\n",
       "3 4        118\n",
       "4 5         57\n",
       "5 6         29\n",
       "6 7          2"
      ]
     },
     "metadata": {},
     "output_type": "display_data"
    }
   ],
   "source": [
    "# 연령별 당뇨병 비율\n",
    "data[Outcome == 1,.N,by = AgeGroup][order(AgeGroup)][,2] / data[AgeGroup != 8][,.N,AgeGroup][order(AgeGroup)][,2]\n",
    "data[AgeGroup != 8][,.N,AgeGroup][order(AgeGroup)]"
   ]
  },
  {
   "cell_type": "markdown",
   "metadata": {},
   "source": [
    "20대와 60대의 당뇨 비율 낮고 30대와 50대 사이  \n",
    "당뇨 비율이 높음"
   ]
  },
  {
   "cell_type": "code",
   "execution_count": 9,
   "metadata": {},
   "outputs": [
    {
     "data": {
      "text/html": [
       "<table>\n",
       "<caption>A data.table: 4 × 1</caption>\n",
       "<thead>\n",
       "\t<tr><th scope=col>N</th></tr>\n",
       "\t<tr><th scope=col>&lt;dbl&gt;</th></tr>\n",
       "</thead>\n",
       "<tbody>\n",
       "\t<tr><td>0.06862745</td></tr>\n",
       "\t<tr><td>0.46398305</td></tr>\n",
       "\t<tr><td>0.22346369</td></tr>\n",
       "\t<tr><td>0.13333333</td></tr>\n",
       "</tbody>\n",
       "</table>\n"
      ],
      "text/latex": [
       "A data.table: 4 × 1\n",
       "\\begin{tabular}{l}\n",
       " N\\\\\n",
       " <dbl>\\\\\n",
       "\\hline\n",
       "\t 0.06862745\\\\\n",
       "\t 0.46398305\\\\\n",
       "\t 0.22346369\\\\\n",
       "\t 0.13333333\\\\\n",
       "\\end{tabular}\n"
      ],
      "text/markdown": [
       "\n",
       "A data.table: 4 × 1\n",
       "\n",
       "| N &lt;dbl&gt; |\n",
       "|---|\n",
       "| 0.06862745 |\n",
       "| 0.46398305 |\n",
       "| 0.22346369 |\n",
       "| 0.13333333 |\n",
       "\n"
      ],
      "text/plain": [
       "  N         \n",
       "1 0.06862745\n",
       "2 0.46398305\n",
       "3 0.22346369\n",
       "4 0.13333333"
      ]
     },
     "metadata": {},
     "output_type": "display_data"
    },
    {
     "data": {
      "text/html": [
       "<table>\n",
       "<caption>A data.table: 4 × 2</caption>\n",
       "<thead>\n",
       "\t<tr><th scope=col>BMI_cat</th><th scope=col>N</th></tr>\n",
       "\t<tr><th scope=col>&lt;chr&gt;</th><th scope=col>&lt;int&gt;</th></tr>\n",
       "</thead>\n",
       "<tbody>\n",
       "\t<tr><td>nm</td><td>102</td></tr>\n",
       "\t<tr><td>ob</td><td>472</td></tr>\n",
       "\t<tr><td>ow</td><td>179</td></tr>\n",
       "\t<tr><td>uw</td><td> 15</td></tr>\n",
       "</tbody>\n",
       "</table>\n"
      ],
      "text/latex": [
       "A data.table: 4 × 2\n",
       "\\begin{tabular}{ll}\n",
       " BMI\\_cat & N\\\\\n",
       " <chr> & <int>\\\\\n",
       "\\hline\n",
       "\t nm & 102\\\\\n",
       "\t ob & 472\\\\\n",
       "\t ow & 179\\\\\n",
       "\t uw &  15\\\\\n",
       "\\end{tabular}\n"
      ],
      "text/markdown": [
       "\n",
       "A data.table: 4 × 2\n",
       "\n",
       "| BMI_cat &lt;chr&gt; | N &lt;int&gt; |\n",
       "|---|---|\n",
       "| nm | 102 |\n",
       "| ob | 472 |\n",
       "| ow | 179 |\n",
       "| uw |  15 |\n",
       "\n"
      ],
      "text/plain": [
       "  BMI_cat N  \n",
       "1 nm      102\n",
       "2 ob      472\n",
       "3 ow      179\n",
       "4 uw       15"
      ]
     },
     "metadata": {},
     "output_type": "display_data"
    }
   ],
   "source": [
    "# BMI별 당뇨병 비율\n",
    "data[Outcome == 1, .N, by = BMI_cat][order(BMI_cat)][,2] / data[,.N,by = BMI_cat][order(BMI_cat)][,2]\n",
    "data[, .N, by = BMI_cat][order(BMI_cat)]"
   ]
  },
  {
   "cell_type": "markdown",
   "metadata": {},
   "source": [
    "전반적으로 무게가 많이 나가는 사람이 많이 조사되었고,   \n",
    "피마 인디언은 무게가 많이 나가는 사람이 많은가 보다.  \n",
    "비만 --> 과체중 --> 저체중 --> 정상 순으로   \n",
    "당뇨병 비율이 높았음."
   ]
  },
  {
   "cell_type": "code",
   "execution_count": 10,
   "metadata": {
    "scrolled": true
   },
   "outputs": [
    {
     "data": {
      "text/html": [
       "<table>\n",
       "<caption>A data.table: 7 × 3</caption>\n",
       "<thead>\n",
       "\t<tr><th scope=col>AgeGroup</th><th scope=col>N</th><th scope=col>mean_ins</th></tr>\n",
       "\t<tr><th scope=col>&lt;dbl&gt;</th><th scope=col>&lt;int&gt;</th><th scope=col>&lt;dbl&gt;</th></tr>\n",
       "</thead>\n",
       "<tbody>\n",
       "\t<tr><td>2</td><td>396</td><td> 84.39394</td></tr>\n",
       "\t<tr><td>3</td><td>165</td><td> 77.81212</td></tr>\n",
       "\t<tr><td>4</td><td>118</td><td> 63.89831</td></tr>\n",
       "\t<tr><td>5</td><td> 57</td><td>109.40351</td></tr>\n",
       "\t<tr><td>6</td><td> 29</td><td> 41.06897</td></tr>\n",
       "\t<tr><td>7</td><td>  2</td><td>  0.00000</td></tr>\n",
       "\t<tr><td>8</td><td>  1</td><td> 60.00000</td></tr>\n",
       "</tbody>\n",
       "</table>\n"
      ],
      "text/latex": [
       "A data.table: 7 × 3\n",
       "\\begin{tabular}{lll}\n",
       " AgeGroup & N & mean\\_ins\\\\\n",
       " <dbl> & <int> & <dbl>\\\\\n",
       "\\hline\n",
       "\t 2 & 396 &  84.39394\\\\\n",
       "\t 3 & 165 &  77.81212\\\\\n",
       "\t 4 & 118 &  63.89831\\\\\n",
       "\t 5 &  57 & 109.40351\\\\\n",
       "\t 6 &  29 &  41.06897\\\\\n",
       "\t 7 &   2 &   0.00000\\\\\n",
       "\t 8 &   1 &  60.00000\\\\\n",
       "\\end{tabular}\n"
      ],
      "text/markdown": [
       "\n",
       "A data.table: 7 × 3\n",
       "\n",
       "| AgeGroup &lt;dbl&gt; | N &lt;int&gt; | mean_ins &lt;dbl&gt; |\n",
       "|---|---|---|\n",
       "| 2 | 396 |  84.39394 |\n",
       "| 3 | 165 |  77.81212 |\n",
       "| 4 | 118 |  63.89831 |\n",
       "| 5 |  57 | 109.40351 |\n",
       "| 6 |  29 |  41.06897 |\n",
       "| 7 |   2 |   0.00000 |\n",
       "| 8 |   1 |  60.00000 |\n",
       "\n"
      ],
      "text/plain": [
       "  AgeGroup N   mean_ins \n",
       "1 2        396  84.39394\n",
       "2 3        165  77.81212\n",
       "3 4        118  63.89831\n",
       "4 5         57 109.40351\n",
       "5 6         29  41.06897\n",
       "6 7          2   0.00000\n",
       "7 8          1  60.00000"
      ]
     },
     "metadata": {},
     "output_type": "display_data"
    }
   ],
   "source": [
    "#나이별 인슐린 수치 평균\n",
    "data[,.(.N, mean_ins = mean(Insulin)),AgeGroup][order(AgeGroup)]"
   ]
  },
  {
   "cell_type": "markdown",
   "metadata": {},
   "source": [
    "20대 400명 30대 165명 40대 118명 5060대 : 86명 7080대 : 3명   "
   ]
  },
  {
   "cell_type": "code",
   "execution_count": null,
   "metadata": {},
   "outputs": [],
   "source": [
    "for (i in 1:length(category_wp)){\n",
    "  wp_graph_list[[i]] = draw_bargraph(bf_wp, af_wp, category_wp[i])\n",
    "}"
   ]
  },
  {
   "cell_type": "markdown",
   "metadata": {},
   "source": [
    "# 학습 모델 RF, SVM, XGBoost, LGBM "
   ]
  },
  {
   "cell_type": "code",
   "execution_count": null,
   "metadata": {},
   "outputs": [],
   "source": []
  }
 ],
 "metadata": {
  "kernelspec": {
   "display_name": "R",
   "language": "R",
   "name": "ir"
  },
  "language_info": {
   "codemirror_mode": "r",
   "file_extension": ".r",
   "mimetype": "text/x-r-source",
   "name": "R",
   "pygments_lexer": "r",
   "version": "4.0.3"
  }
 },
 "nbformat": 4,
 "nbformat_minor": 4
}
