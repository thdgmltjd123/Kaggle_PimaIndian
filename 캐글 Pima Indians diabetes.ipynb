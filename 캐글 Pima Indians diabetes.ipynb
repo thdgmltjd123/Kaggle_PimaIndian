{
 "cells": [
  {
   "cell_type": "markdown",
   "metadata": {},
   "source": [
    "# 피마 당뇨병 데이터\n",
    "\n",
    "## Description   \n",
    "\n",
    "피마 인디언은 세계에서 당뇨병 발병률이 가장 높은 종족으로  \n",
    "피마 족의 남자 63% 여자 70%가 당뇨병에 걸렸다는 보고.   \n",
    "피마 인디언은 본래 식물 위주의 식습관뿐만 아니라  \n",
    "먹을 것이 풍족하지 못한 상황이었다.  \n",
    "따라서 조금만 먹어도 잘 생존할 수 있도록   \n",
    "유전자가 진화해왔다. 그러나 미국으로 이주한 그들의  \n",
    "식생활이 서구화되면서, 풍족한 먹을 것에 피마 인디언의  \n",
    "유전자가 비만을 초래하면서 당뇨병 등 성인병을 초래하게 된다.   \n",
    "\n",
    "따라서 나는 피마 인디언의 dataset을 가지고, 피마 인디언 여성의 정보를 이용하여,  \n",
    "피마인디언 여성의 당뇨 여부를 진단하는 머신러닝 기반 예측모델을 만드려고 한다.  "
   ]
  },
  {
   "cell_type": "code",
   "execution_count": 220,
   "metadata": {},
   "outputs": [
    {
     "name": "stderr",
     "output_type": "stream",
     "text": [
      "-- \u001b[1mAttaching packages\u001b[22m --------------------------------------- tidyverse 1.3.0 --\n",
      "\n",
      "\u001b[32m√\u001b[39m \u001b[34mdplyr\u001b[39m 1.0.2     \n",
      "\n",
      "-- \u001b[1mConflicts\u001b[22m ------------------------------------------ tidyverse_conflicts() --\n",
      "\u001b[31mx\u001b[39m \u001b[34mdplyr\u001b[39m::\u001b[32mbetween()\u001b[39m        masks \u001b[34mdata.table\u001b[39m::between()\n",
      "\u001b[31mx\u001b[39m \u001b[34mdplyr\u001b[39m::\u001b[32mcombine()\u001b[39m        masks \u001b[34mrandomForest\u001b[39m::combine(), \u001b[34mgridExtra\u001b[39m::combine()\n",
      "\u001b[31mx\u001b[39m \u001b[34mdplyr\u001b[39m::\u001b[32mfilter()\u001b[39m         masks \u001b[34mstats\u001b[39m::filter()\n",
      "\u001b[31mx\u001b[39m \u001b[34mdplyr\u001b[39m::\u001b[32mfirst()\u001b[39m          masks \u001b[34mdata.table\u001b[39m::first()\n",
      "\u001b[31mx\u001b[39m \u001b[34mdplyr\u001b[39m::\u001b[32mlag()\u001b[39m            masks \u001b[34mstats\u001b[39m::lag()\n",
      "\u001b[31mx\u001b[39m \u001b[34mdplyr\u001b[39m::\u001b[32mlast()\u001b[39m           masks \u001b[34mdata.table\u001b[39m::last()\n",
      "\u001b[31mx\u001b[39m \u001b[34mrandomForest\u001b[39m::\u001b[32mmargin()\u001b[39m  masks \u001b[34mggplot2\u001b[39m::margin()\n",
      "\u001b[31mx\u001b[39m \u001b[34mdata.table\u001b[39m::\u001b[32mtranspose()\u001b[39m masks \u001b[34mpurrr\u001b[39m::transpose()\n",
      "\n"
     ]
    }
   ],
   "source": [
    "library(tidyverse)\n",
    "library(data.table)\n",
    "library(gridExtra)\n",
    "library(ggplot2)\n",
    "library(RColorBrewer)\n",
    "library(gridExtra)\n",
    "library(reshape2)"
   ]
  },
  {
   "cell_type": "code",
   "execution_count": 88,
   "metadata": {},
   "outputs": [],
   "source": [
    "data<-fread(\"diabetes.csv\")"
   ]
  },
  {
   "cell_type": "markdown",
   "metadata": {},
   "source": [
    "# 기술통계량 Outline 및 간단한 전처리"
   ]
  },
  {
   "cell_type": "markdown",
   "metadata": {},
   "source": [
    "데이터에 있는 모든 개체들은 여자들임"
   ]
  },
  {
   "cell_type": "code",
   "execution_count": 89,
   "metadata": {
    "scrolled": true
   },
   "outputs": [
    {
     "data": {
      "text/html": [
       "<table>\n",
       "<caption>A data.table: 6 × 9</caption>\n",
       "<thead>\n",
       "\t<tr><th scope=col>Pregnancies</th><th scope=col>Glucose</th><th scope=col>BloodPressure</th><th scope=col>SkinThickness</th><th scope=col>Insulin</th><th scope=col>BMI</th><th scope=col>DiabetesPedigreeFunction</th><th scope=col>Age</th><th scope=col>Outcome</th></tr>\n",
       "\t<tr><th scope=col>&lt;int&gt;</th><th scope=col>&lt;int&gt;</th><th scope=col>&lt;int&gt;</th><th scope=col>&lt;int&gt;</th><th scope=col>&lt;int&gt;</th><th scope=col>&lt;dbl&gt;</th><th scope=col>&lt;dbl&gt;</th><th scope=col>&lt;int&gt;</th><th scope=col>&lt;int&gt;</th></tr>\n",
       "</thead>\n",
       "<tbody>\n",
       "\t<tr><td>6</td><td>148</td><td>72</td><td>35</td><td>  0</td><td>33.6</td><td>0.627</td><td>50</td><td>1</td></tr>\n",
       "\t<tr><td>1</td><td> 85</td><td>66</td><td>29</td><td>  0</td><td>26.6</td><td>0.351</td><td>31</td><td>0</td></tr>\n",
       "\t<tr><td>8</td><td>183</td><td>64</td><td> 0</td><td>  0</td><td>23.3</td><td>0.672</td><td>32</td><td>1</td></tr>\n",
       "\t<tr><td>1</td><td> 89</td><td>66</td><td>23</td><td> 94</td><td>28.1</td><td>0.167</td><td>21</td><td>0</td></tr>\n",
       "\t<tr><td>0</td><td>137</td><td>40</td><td>35</td><td>168</td><td>43.1</td><td>2.288</td><td>33</td><td>1</td></tr>\n",
       "\t<tr><td>5</td><td>116</td><td>74</td><td> 0</td><td>  0</td><td>25.6</td><td>0.201</td><td>30</td><td>0</td></tr>\n",
       "</tbody>\n",
       "</table>\n"
      ],
      "text/latex": [
       "A data.table: 6 × 9\n",
       "\\begin{tabular}{lllllllll}\n",
       " Pregnancies & Glucose & BloodPressure & SkinThickness & Insulin & BMI & DiabetesPedigreeFunction & Age & Outcome\\\\\n",
       " <int> & <int> & <int> & <int> & <int> & <dbl> & <dbl> & <int> & <int>\\\\\n",
       "\\hline\n",
       "\t 6 & 148 & 72 & 35 &   0 & 33.6 & 0.627 & 50 & 1\\\\\n",
       "\t 1 &  85 & 66 & 29 &   0 & 26.6 & 0.351 & 31 & 0\\\\\n",
       "\t 8 & 183 & 64 &  0 &   0 & 23.3 & 0.672 & 32 & 1\\\\\n",
       "\t 1 &  89 & 66 & 23 &  94 & 28.1 & 0.167 & 21 & 0\\\\\n",
       "\t 0 & 137 & 40 & 35 & 168 & 43.1 & 2.288 & 33 & 1\\\\\n",
       "\t 5 & 116 & 74 &  0 &   0 & 25.6 & 0.201 & 30 & 0\\\\\n",
       "\\end{tabular}\n"
      ],
      "text/markdown": [
       "\n",
       "A data.table: 6 × 9\n",
       "\n",
       "| Pregnancies &lt;int&gt; | Glucose &lt;int&gt; | BloodPressure &lt;int&gt; | SkinThickness &lt;int&gt; | Insulin &lt;int&gt; | BMI &lt;dbl&gt; | DiabetesPedigreeFunction &lt;dbl&gt; | Age &lt;int&gt; | Outcome &lt;int&gt; |\n",
       "|---|---|---|---|---|---|---|---|---|\n",
       "| 6 | 148 | 72 | 35 |   0 | 33.6 | 0.627 | 50 | 1 |\n",
       "| 1 |  85 | 66 | 29 |   0 | 26.6 | 0.351 | 31 | 0 |\n",
       "| 8 | 183 | 64 |  0 |   0 | 23.3 | 0.672 | 32 | 1 |\n",
       "| 1 |  89 | 66 | 23 |  94 | 28.1 | 0.167 | 21 | 0 |\n",
       "| 0 | 137 | 40 | 35 | 168 | 43.1 | 2.288 | 33 | 1 |\n",
       "| 5 | 116 | 74 |  0 |   0 | 25.6 | 0.201 | 30 | 0 |\n",
       "\n"
      ],
      "text/plain": [
       "  Pregnancies Glucose BloodPressure SkinThickness Insulin BMI \n",
       "1 6           148     72            35              0     33.6\n",
       "2 1            85     66            29              0     26.6\n",
       "3 8           183     64             0              0     23.3\n",
       "4 1            89     66            23             94     28.1\n",
       "5 0           137     40            35            168     43.1\n",
       "6 5           116     74             0              0     25.6\n",
       "  DiabetesPedigreeFunction Age Outcome\n",
       "1 0.627                    50  1      \n",
       "2 0.351                    31  0      \n",
       "3 0.672                    32  1      \n",
       "4 0.167                    21  0      \n",
       "5 2.288                    33  1      \n",
       "6 0.201                    30  0      "
      ]
     },
     "metadata": {},
     "output_type": "display_data"
    }
   ],
   "source": [
    "head(data)"
   ]
  },
  {
   "cell_type": "code",
   "execution_count": 90,
   "metadata": {},
   "outputs": [
    {
     "data": {
      "text/plain": [
       "  Pregnancies        Glucose      BloodPressure    SkinThickness  \n",
       " Min.   : 0.000   Min.   :  0.0   Min.   :  0.00   Min.   : 0.00  \n",
       " 1st Qu.: 1.000   1st Qu.: 99.0   1st Qu.: 62.00   1st Qu.: 0.00  \n",
       " Median : 3.000   Median :117.0   Median : 72.00   Median :23.00  \n",
       " Mean   : 3.845   Mean   :120.9   Mean   : 69.11   Mean   :20.54  \n",
       " 3rd Qu.: 6.000   3rd Qu.:140.2   3rd Qu.: 80.00   3rd Qu.:32.00  \n",
       " Max.   :17.000   Max.   :199.0   Max.   :122.00   Max.   :99.00  \n",
       "    Insulin           BMI        DiabetesPedigreeFunction      Age       \n",
       " Min.   :  0.0   Min.   : 0.00   Min.   :0.0780           Min.   :21.00  \n",
       " 1st Qu.:  0.0   1st Qu.:27.30   1st Qu.:0.2437           1st Qu.:24.00  \n",
       " Median : 30.5   Median :32.00   Median :0.3725           Median :29.00  \n",
       " Mean   : 79.8   Mean   :31.99   Mean   :0.4719           Mean   :33.24  \n",
       " 3rd Qu.:127.2   3rd Qu.:36.60   3rd Qu.:0.6262           3rd Qu.:41.00  \n",
       " Max.   :846.0   Max.   :67.10   Max.   :2.4200           Max.   :81.00  \n",
       "    Outcome     \n",
       " Min.   :0.000  \n",
       " 1st Qu.:0.000  \n",
       " Median :0.000  \n",
       " Mean   :0.349  \n",
       " 3rd Qu.:1.000  \n",
       " Max.   :1.000  "
      ]
     },
     "metadata": {},
     "output_type": "display_data"
    }
   ],
   "source": [
    "summary(data)"
   ]
  },
  {
   "attachments": {
    "image.png": {
     "image/png": "[encoded data removed]"
    }
   },
   "cell_type": "markdown",
   "metadata": {},
   "source": [
    "![image.png](attachment:image.png)"
   ]
  },
  {
   "attachments": {
    "image.png": {
     "image/png": "[encoded data removed]"
    }
   },
   "cell_type": "markdown",
   "metadata": {},
   "source": [
    "![image.png](attachment:image.png)"
   ]
  },
  {
   "cell_type": "code",
   "execution_count": 91,
   "metadata": {},
   "outputs": [],
   "source": [
    "# 나이 그룹별로 통게량 확인을 위해 나이 열 추가\n",
    "data[,AgeGroup := Age %/% 10]"
   ]
  },
  {
   "cell_type": "code",
   "execution_count": 92,
   "metadata": {},
   "outputs": [],
   "source": [
    "#고령자들 데이터 3개 제거.\n",
    "data <- data[AgeGroup<7]\n",
    "data[, idx := seq(1,765)]"
   ]
  },
  {
   "cell_type": "code",
   "execution_count": 93,
   "metadata": {},
   "outputs": [],
   "source": [
    "scatter_d <- function(df, col1, col2, ...) {\n",
    "    graph <- ggplot(df, aes(x = get(col1), y = get(col2))) + \n",
    "    geom_point(shape = 20, size = 5, aes(colour = factor(get(...)))) + \n",
    "    ggtitle(paste(\"Scatter Plot :\",col1,\"between\",col2)) + \n",
    "    labs(colour = paste(...), x = col1, y = col2)\n",
    "    \n",
    "    graph + scale_fill_brewer(palette = \"Set1\")\n",
    "    return(graph)\n",
    "}"
   ]
  },
  {
   "cell_type": "code",
   "execution_count": 94,
   "metadata": {},
   "outputs": [],
   "source": [
    "Boxplot <- function(df, col1) {\n",
    "    graph <- ggplot(df, aes(x = 1, y = get(col1))) +\n",
    "    geom_boxplot() +\n",
    "    ggtitle(paste(\"Boxplot of\",col1)) + \n",
    "    labs(x = \"value\", y = col1)\n",
    "    \n",
    "    return(graph)\n",
    "}"
   ]
  },
  {
   "cell_type": "code",
   "execution_count": 95,
   "metadata": {
    "scrolled": true
   },
   "outputs": [
    {
     "data": {
      "image/png": "[encoded data removed]",
      "text/plain": [
       "plot without title"
      ]
     },
     "metadata": {
      "image/png": {
       "height": 420,
       "width": 420
      }
     },
     "output_type": "display_data"
    }
   ],
   "source": [
    "sca_graph_list <- list()\n",
    "cols <- c(\"Glucose\", \"Pregnancies\", \"Insulin\", \"BloodPressure\",\n",
    "         \"SkinThickness\")\n",
    "\n",
    "for (i in 1:length(cols)){\n",
    "  sca_graph_list[[i]] = scatter_d(data, \"idx\", cols[i], \"Outcome\")\n",
    "}\n",
    "\n",
    "do.call(\"grid.arrange\", c(sca_graph_list, ncol = 3, nrow = 2))"
   ]
  },
  {
   "cell_type": "code",
   "execution_count": 98,
   "metadata": {},
   "outputs": [
    {
     "data": {
      "image/png": "[encoded data removed]",
      "text/plain": [
       "plot without title"
      ]
     },
     "metadata": {
      "image/png": {
       "height": 420,
       "width": 420
      }
     },
     "output_type": "display_data"
    }
   ],
   "source": [
    "box_graph_list <- list()\n",
    "cols <- c(\"Glucose\", \"Pregnancies\", \"Insulin\", \"BloodPressure\",\n",
    "         \"SkinThickness\")\n",
    "\n",
    "for (i in 1:length(cols)){\n",
    "  box_graph_list[[i]] = Boxplot(data, cols[i])\n",
    "}\n",
    "\n",
    "do.call(\"grid.arrange\", c(box_graph_list, ncol = 3, nrow = 2))"
   ]
  },
  {
   "cell_type": "code",
   "execution_count": 97,
   "metadata": {},
   "outputs": [],
   "source": [
    "data <- data[idx != 578]"
   ]
  },
  {
   "cell_type": "markdown",
   "metadata": {},
   "source": [
    "# 혈압 및 BMI 변수 처리"
   ]
  },
  {
   "cell_type": "markdown",
   "metadata": {},
   "source": [
    "혈압의 연령별 평균이 다르고,   \n",
    "2~40대의 경우 혈압의 결측값이 많기 때문에,    \n",
    "혈압 결측값 연령별 혈압 중위수로 대체    \n",
    "why 중위수? 평균과 그렇게 차이 안나고 깔끔한 값  "
   ]
  },
  {
   "cell_type": "code",
   "execution_count": 99,
   "metadata": {},
   "outputs": [
    {
     "data": {
      "text/html": [
       "<table>\n",
       "<caption>A data.table: 5 × 2</caption>\n",
       "<thead>\n",
       "\t<tr><th scope=col>AgeGroup</th><th scope=col>V1</th></tr>\n",
       "\t<tr><th scope=col>&lt;dbl&gt;</th><th scope=col>&lt;dbl&gt;</th></tr>\n",
       "</thead>\n",
       "<tbody>\n",
       "\t<tr><td>2</td><td>68.82447</td></tr>\n",
       "\t<tr><td>3</td><td>73.68590</td></tr>\n",
       "\t<tr><td>4</td><td>77.21239</td></tr>\n",
       "\t<tr><td>5</td><td>79.80702</td></tr>\n",
       "\t<tr><td>6</td><td>78.57143</td></tr>\n",
       "</tbody>\n",
       "</table>\n"
      ],
      "text/latex": [
       "A data.table: 5 × 2\n",
       "\\begin{tabular}{ll}\n",
       " AgeGroup & V1\\\\\n",
       " <dbl> & <dbl>\\\\\n",
       "\\hline\n",
       "\t 2 & 68.82447\\\\\n",
       "\t 3 & 73.68590\\\\\n",
       "\t 4 & 77.21239\\\\\n",
       "\t 5 & 79.80702\\\\\n",
       "\t 6 & 78.57143\\\\\n",
       "\\end{tabular}\n"
      ],
      "text/markdown": [
       "\n",
       "A data.table: 5 × 2\n",
       "\n",
       "| AgeGroup &lt;dbl&gt; | V1 &lt;dbl&gt; |\n",
       "|---|---|\n",
       "| 2 | 68.82447 |\n",
       "| 3 | 73.68590 |\n",
       "| 4 | 77.21239 |\n",
       "| 5 | 79.80702 |\n",
       "| 6 | 78.57143 |\n",
       "\n"
      ],
      "text/plain": [
       "  AgeGroup V1      \n",
       "1 2        68.82447\n",
       "2 3        73.68590\n",
       "3 4        77.21239\n",
       "4 5        79.80702\n",
       "5 6        78.57143"
      ]
     },
     "metadata": {},
     "output_type": "display_data"
    },
    {
     "data": {
      "text/html": [
       "<table>\n",
       "<caption>A data.table: 5 × 2</caption>\n",
       "<thead>\n",
       "\t<tr><th scope=col>AgeGroup</th><th scope=col>V1</th></tr>\n",
       "\t<tr><th scope=col>&lt;dbl&gt;</th><th scope=col>&lt;dbl&gt;</th></tr>\n",
       "</thead>\n",
       "<tbody>\n",
       "\t<tr><td>2</td><td>68</td></tr>\n",
       "\t<tr><td>3</td><td>74</td></tr>\n",
       "\t<tr><td>4</td><td>78</td></tr>\n",
       "\t<tr><td>5</td><td>78</td></tr>\n",
       "\t<tr><td>6</td><td>79</td></tr>\n",
       "</tbody>\n",
       "</table>\n"
      ],
      "text/latex": [
       "A data.table: 5 × 2\n",
       "\\begin{tabular}{ll}\n",
       " AgeGroup & V1\\\\\n",
       " <dbl> & <dbl>\\\\\n",
       "\\hline\n",
       "\t 2 & 68\\\\\n",
       "\t 3 & 74\\\\\n",
       "\t 4 & 78\\\\\n",
       "\t 5 & 78\\\\\n",
       "\t 6 & 79\\\\\n",
       "\\end{tabular}\n"
      ],
      "text/markdown": [
       "\n",
       "A data.table: 5 × 2\n",
       "\n",
       "| AgeGroup &lt;dbl&gt; | V1 &lt;dbl&gt; |\n",
       "|---|---|\n",
       "| 2 | 68 |\n",
       "| 3 | 74 |\n",
       "| 4 | 78 |\n",
       "| 5 | 78 |\n",
       "| 6 | 79 |\n",
       "\n"
      ],
      "text/plain": [
       "  AgeGroup V1\n",
       "1 2        68\n",
       "2 3        74\n",
       "3 4        78\n",
       "4 5        78\n",
       "5 6        79"
      ]
     },
     "metadata": {},
     "output_type": "display_data"
    }
   ],
   "source": [
    "data[BloodPressure!=0,mean(BloodPressure),AgeGroup][order(AgeGroup)]\n",
    "data[BloodPressure!=0,median(BloodPressure),AgeGroup][order(AgeGroup)]"
   ]
  },
  {
   "cell_type": "code",
   "execution_count": 100,
   "metadata": {},
   "outputs": [],
   "source": [
    "data[BloodPressure == 0 & AgeGroup == 2, BloodPressure := 68]\n",
    "data[BloodPressure == 0 & AgeGroup == 3, BloodPressure := 74]\n",
    "data[BloodPressure == 0 & AgeGroup == 4, BloodPressure := 78]"
   ]
  },
  {
   "cell_type": "markdown",
   "metadata": {},
   "source": [
    "BMI 0으로 나온 값들 다 연령별 평균으로 대체    \n",
    "정규분포모양으로 생겨서 평균으로 대체하였음"
   ]
  },
  {
   "cell_type": "code",
   "execution_count": 101,
   "metadata": {},
   "outputs": [
    {
     "data": {
      "text/html": [
       "<table>\n",
       "<caption>A data.table: 5 × 2</caption>\n",
       "<thead>\n",
       "\t<tr><th scope=col>AgeGroup</th><th scope=col>V1</th></tr>\n",
       "\t<tr><th scope=col>&lt;dbl&gt;</th><th scope=col>&lt;dbl&gt;</th></tr>\n",
       "</thead>\n",
       "<tbody>\n",
       "\t<tr><td>2</td><td>32.03763</td></tr>\n",
       "\t<tr><td>3</td><td>32.67012</td></tr>\n",
       "\t<tr><td>4</td><td>34.61780</td></tr>\n",
       "\t<tr><td>5</td><td>31.89821</td></tr>\n",
       "\t<tr><td>6</td><td>29.55185</td></tr>\n",
       "</tbody>\n",
       "</table>\n"
      ],
      "text/latex": [
       "A data.table: 5 × 2\n",
       "\\begin{tabular}{ll}\n",
       " AgeGroup & V1\\\\\n",
       " <dbl> & <dbl>\\\\\n",
       "\\hline\n",
       "\t 2 & 32.03763\\\\\n",
       "\t 3 & 32.67012\\\\\n",
       "\t 4 & 34.61780\\\\\n",
       "\t 5 & 31.89821\\\\\n",
       "\t 6 & 29.55185\\\\\n",
       "\\end{tabular}\n"
      ],
      "text/markdown": [
       "\n",
       "A data.table: 5 × 2\n",
       "\n",
       "| AgeGroup &lt;dbl&gt; | V1 &lt;dbl&gt; |\n",
       "|---|---|\n",
       "| 2 | 32.03763 |\n",
       "| 3 | 32.67012 |\n",
       "| 4 | 34.61780 |\n",
       "| 5 | 31.89821 |\n",
       "| 6 | 29.55185 |\n",
       "\n"
      ],
      "text/plain": [
       "  AgeGroup V1      \n",
       "1 2        32.03763\n",
       "2 3        32.67012\n",
       "3 4        34.61780\n",
       "4 5        31.89821\n",
       "5 6        29.55185"
      ]
     },
     "metadata": {},
     "output_type": "display_data"
    },
    {
     "data": {
      "text/html": [
       "<table>\n",
       "<caption>A data.table: 5 × 2</caption>\n",
       "<thead>\n",
       "\t<tr><th scope=col>AgeGroup</th><th scope=col>V1</th></tr>\n",
       "\t<tr><th scope=col>&lt;dbl&gt;</th><th scope=col>&lt;dbl&gt;</th></tr>\n",
       "</thead>\n",
       "<tbody>\n",
       "\t<tr><td>2</td><td>31.60</td></tr>\n",
       "\t<tr><td>3</td><td>32.00</td></tr>\n",
       "\t<tr><td>4</td><td>33.95</td></tr>\n",
       "\t<tr><td>5</td><td>33.05</td></tr>\n",
       "\t<tr><td>6</td><td>28.80</td></tr>\n",
       "</tbody>\n",
       "</table>\n"
      ],
      "text/latex": [
       "A data.table: 5 × 2\n",
       "\\begin{tabular}{ll}\n",
       " AgeGroup & V1\\\\\n",
       " <dbl> & <dbl>\\\\\n",
       "\\hline\n",
       "\t 2 & 31.60\\\\\n",
       "\t 3 & 32.00\\\\\n",
       "\t 4 & 33.95\\\\\n",
       "\t 5 & 33.05\\\\\n",
       "\t 6 & 28.80\\\\\n",
       "\\end{tabular}\n"
      ],
      "text/markdown": [
       "\n",
       "A data.table: 5 × 2\n",
       "\n",
       "| AgeGroup &lt;dbl&gt; | V1 &lt;dbl&gt; |\n",
       "|---|---|\n",
       "| 2 | 31.60 |\n",
       "| 3 | 32.00 |\n",
       "| 4 | 33.95 |\n",
       "| 5 | 33.05 |\n",
       "| 6 | 28.80 |\n",
       "\n"
      ],
      "text/plain": [
       "  AgeGroup V1   \n",
       "1 2        31.60\n",
       "2 3        32.00\n",
       "3 4        33.95\n",
       "4 5        33.05\n",
       "5 6        28.80"
      ]
     },
     "metadata": {},
     "output_type": "display_data"
    }
   ],
   "source": [
    "data[BMI != 0, mean(BMI), AgeGroup][order(AgeGroup)]\n",
    "data[BMI != 0, median(BMI), AgeGroup][order(AgeGroup)]"
   ]
  },
  {
   "cell_type": "code",
   "execution_count": 102,
   "metadata": {},
   "outputs": [],
   "source": [
    "data[BMI==0 & AgeGroup == 2, BMI:=32.04]\n",
    "data[BMI==0 & AgeGroup == 3, BMI:=32.67]\n",
    "data[BMI==0 & AgeGroup == 5, BMI:=31.90]\n",
    "data[BMI==0 & AgeGroup == 6, BMI:=29.74]"
   ]
  },
  {
   "cell_type": "code",
   "execution_count": 103,
   "metadata": {},
   "outputs": [],
   "source": [
    "# BMI 그룹별로 나누는 변수 추가\n",
    "data[,BMI_cat := ifelse(BMI < 18.5,\"uw\",ifelse(BMI<25,\"nm\",ifelse(BMI<30,\"ow\",\"ob\")))]\n",
    "# row index 추가\n",
    "data[, idx := seq(1,764)]"
   ]
  },
  {
   "cell_type": "markdown",
   "metadata": {},
   "source": [
    "# Glucose 결측값 처리"
   ]
  },
  {
   "cell_type": "code",
   "execution_count": 104,
   "metadata": {
    "scrolled": false
   },
   "outputs": [
    {
     "data": {
      "text/html": [
       "<table>\n",
       "<caption>A data.table: 5 × 12</caption>\n",
       "<thead>\n",
       "\t<tr><th scope=col>Pregnancies</th><th scope=col>Glucose</th><th scope=col>BloodPressure</th><th scope=col>SkinThickness</th><th scope=col>Insulin</th><th scope=col>BMI</th><th scope=col>DiabetesPedigreeFunction</th><th scope=col>Age</th><th scope=col>Outcome</th><th scope=col>AgeGroup</th><th scope=col>idx</th><th scope=col>BMI_cat</th></tr>\n",
       "\t<tr><th scope=col>&lt;int&gt;</th><th scope=col>&lt;int&gt;</th><th scope=col>&lt;int&gt;</th><th scope=col>&lt;int&gt;</th><th scope=col>&lt;int&gt;</th><th scope=col>&lt;dbl&gt;</th><th scope=col>&lt;dbl&gt;</th><th scope=col>&lt;int&gt;</th><th scope=col>&lt;int&gt;</th><th scope=col>&lt;dbl&gt;</th><th scope=col>&lt;int&gt;</th><th scope=col>&lt;chr&gt;</th></tr>\n",
       "</thead>\n",
       "<tbody>\n",
       "\t<tr><td>1</td><td>0</td><td>48</td><td>20</td><td> 0</td><td>24.7</td><td>0.140</td><td>22</td><td>0</td><td>2</td><td> 76</td><td>nm</td></tr>\n",
       "\t<tr><td>1</td><td>0</td><td>74</td><td>20</td><td>23</td><td>27.7</td><td>0.299</td><td>21</td><td>0</td><td>2</td><td>183</td><td>ow</td></tr>\n",
       "\t<tr><td>1</td><td>0</td><td>68</td><td>35</td><td> 0</td><td>32.0</td><td>0.389</td><td>22</td><td>0</td><td>2</td><td>343</td><td>ob</td></tr>\n",
       "\t<tr><td>5</td><td>0</td><td>80</td><td>32</td><td> 0</td><td>41.0</td><td>0.346</td><td>37</td><td>1</td><td>3</td><td>350</td><td>ob</td></tr>\n",
       "\t<tr><td>6</td><td>0</td><td>68</td><td>41</td><td> 0</td><td>39.0</td><td>0.727</td><td>41</td><td>1</td><td>4</td><td>501</td><td>ob</td></tr>\n",
       "</tbody>\n",
       "</table>\n"
      ],
      "text/latex": [
       "A data.table: 5 × 12\n",
       "\\begin{tabular}{llllllllllll}\n",
       " Pregnancies & Glucose & BloodPressure & SkinThickness & Insulin & BMI & DiabetesPedigreeFunction & Age & Outcome & AgeGroup & idx & BMI\\_cat\\\\\n",
       " <int> & <int> & <int> & <int> & <int> & <dbl> & <dbl> & <int> & <int> & <dbl> & <int> & <chr>\\\\\n",
       "\\hline\n",
       "\t 1 & 0 & 48 & 20 &  0 & 24.7 & 0.140 & 22 & 0 & 2 &  76 & nm\\\\\n",
       "\t 1 & 0 & 74 & 20 & 23 & 27.7 & 0.299 & 21 & 0 & 2 & 183 & ow\\\\\n",
       "\t 1 & 0 & 68 & 35 &  0 & 32.0 & 0.389 & 22 & 0 & 2 & 343 & ob\\\\\n",
       "\t 5 & 0 & 80 & 32 &  0 & 41.0 & 0.346 & 37 & 1 & 3 & 350 & ob\\\\\n",
       "\t 6 & 0 & 68 & 41 &  0 & 39.0 & 0.727 & 41 & 1 & 4 & 501 & ob\\\\\n",
       "\\end{tabular}\n"
      ],
      "text/markdown": [
       "\n",
       "A data.table: 5 × 12\n",
       "\n",
       "| Pregnancies &lt;int&gt; | Glucose &lt;int&gt; | BloodPressure &lt;int&gt; | SkinThickness &lt;int&gt; | Insulin &lt;int&gt; | BMI &lt;dbl&gt; | DiabetesPedigreeFunction &lt;dbl&gt; | Age &lt;int&gt; | Outcome &lt;int&gt; | AgeGroup &lt;dbl&gt; | idx &lt;int&gt; | BMI_cat &lt;chr&gt; |\n",
       "|---|---|---|---|---|---|---|---|---|---|---|---|\n",
       "| 1 | 0 | 48 | 20 |  0 | 24.7 | 0.140 | 22 | 0 | 2 |  76 | nm |\n",
       "| 1 | 0 | 74 | 20 | 23 | 27.7 | 0.299 | 21 | 0 | 2 | 183 | ow |\n",
       "| 1 | 0 | 68 | 35 |  0 | 32.0 | 0.389 | 22 | 0 | 2 | 343 | ob |\n",
       "| 5 | 0 | 80 | 32 |  0 | 41.0 | 0.346 | 37 | 1 | 3 | 350 | ob |\n",
       "| 6 | 0 | 68 | 41 |  0 | 39.0 | 0.727 | 41 | 1 | 4 | 501 | ob |\n",
       "\n"
      ],
      "text/plain": [
       "  Pregnancies Glucose BloodPressure SkinThickness Insulin BMI \n",
       "1 1           0       48            20             0      24.7\n",
       "2 1           0       74            20            23      27.7\n",
       "3 1           0       68            35             0      32.0\n",
       "4 5           0       80            32             0      41.0\n",
       "5 6           0       68            41             0      39.0\n",
       "  DiabetesPedigreeFunction Age Outcome AgeGroup idx BMI_cat\n",
       "1 0.140                    22  0       2         76 nm     \n",
       "2 0.299                    21  0       2        183 ow     \n",
       "3 0.389                    22  0       2        343 ob     \n",
       "4 0.346                    37  1       3        350 ob     \n",
       "5 0.727                    41  1       4        501 ob     "
      ]
     },
     "metadata": {},
     "output_type": "display_data"
    }
   ],
   "source": [
    "data[Glucose == 0]"
   ]
  },
  {
   "cell_type": "code",
   "execution_count": 105,
   "metadata": {},
   "outputs": [],
   "source": [
    "data[Glucose == 0 & BloodPressure == 48, Glucose:=98]\n",
    "data[Glucose == 0 & BloodPressure == 74, Glucose:=89]\n",
    "data[Glucose == 0 & BMI == 32.0, Glucose:=109]\n",
    "data[Glucose == 0 & BMI == 39, Glucose:=158]\n",
    "data[Glucose == 0 & BloodPressure == 80, Glucose:=140]"
   ]
  },
  {
   "cell_type": "markdown",
   "metadata": {},
   "source": [
    "글루코오스 같은 경우, 결측치가 5개 행밖에 없기 때문에  \n",
    "가장 결측 행과 비슷한 행의 값들을 찾아 단일일 땐 그 값을 적고  \n",
    "그 외에는 평균을 하고, 반올림 처리 하여 결측을 채웠다.   \n",
    "\n",
    "추가적으로 알아낸 사실은 인슐린과 글루코오스간 관계가 있어보여서 히스토그램을 그려볼 것이다.  \n",
    "만일 관계가 있다면 Insulin의 많은 결측값도 채워볼 수 있지 않을까 싶다.  "
   ]
  },
  {
   "cell_type": "markdown",
   "metadata": {},
   "source": [
    "# Insulin 변수 처리 .. 난관..\n",
    "\n",
    "일단 변수에 0이 너무 많아서 분명 결측치도 있을 것이라고 생각하지만   \n",
    "일단 스킵한다.  "
   ]
  },
  {
   "cell_type": "code",
   "execution_count": 106,
   "metadata": {},
   "outputs": [
    {
     "data": {
      "image/png": "[encoded data removed]",
      "text/plain": [
       "plot without title"
      ]
     },
     "metadata": {
      "image/png": {
       "height": 420,
       "width": 420
      }
     },
     "output_type": "display_data"
    }
   ],
   "source": [
    "scatter_d(data[Insulin != 0], \"Glucose\", \"Insulin\", \"Outcome\")"
   ]
  },
  {
   "cell_type": "code",
   "execution_count": 107,
   "metadata": {},
   "outputs": [
    {
     "data": {
      "image/png": "[encoded data removed]",
      "text/plain": [
       "plot without title"
      ]
     },
     "metadata": {
      "image/png": {
       "height": 420,
       "width": 420
      }
     },
     "output_type": "display_data"
    }
   ],
   "source": [
    "scatter_d(data, \"Glucose\", \"Insulin\", \"Outcome\") + geom_vline(xintercept = 126, col = \"green\", size = 1)"
   ]
  },
  {
   "cell_type": "code",
   "execution_count": 108,
   "metadata": {},
   "outputs": [
    {
     "data": {
      "image/png": "[encoded data removed]",
      "text/plain": [
       "plot without title"
      ]
     },
     "metadata": {
      "image/png": {
       "height": 420,
       "width": 420
      }
     },
     "output_type": "display_data"
    }
   ],
   "source": [
    "scatter_d(data[Insulin != 0], \"BMI\", \"Insulin\", \"Outcome\") + geom_vline(xintercept = 30, col = \"green\", size = 1)"
   ]
  },
  {
   "cell_type": "markdown",
   "metadata": {},
   "source": [
    "모르겠고,, insulin은 당뇨 아닌사람과 당뇨인 사람의 값의 메디안을 채우겠다."
   ]
  },
  {
   "cell_type": "code",
   "execution_count": 109,
   "metadata": {
    "scrolled": true
   },
   "outputs": [
    {
     "data": {
      "text/html": [
       "<table>\n",
       "<caption>A data.table: 2 × 2</caption>\n",
       "<thead>\n",
       "\t<tr><th scope=col>Outcome</th><th scope=col>V1</th></tr>\n",
       "\t<tr><th scope=col>&lt;int&gt;</th><th scope=col>&lt;dbl&gt;</th></tr>\n",
       "</thead>\n",
       "<tbody>\n",
       "\t<tr><td>0</td><td>105.0</td></tr>\n",
       "\t<tr><td>1</td><td>169.5</td></tr>\n",
       "</tbody>\n",
       "</table>\n"
      ],
      "text/latex": [
       "A data.table: 2 × 2\n",
       "\\begin{tabular}{ll}\n",
       " Outcome & V1\\\\\n",
       " <int> & <dbl>\\\\\n",
       "\\hline\n",
       "\t 0 & 105.0\\\\\n",
       "\t 1 & 169.5\\\\\n",
       "\\end{tabular}\n"
      ],
      "text/markdown": [
       "\n",
       "A data.table: 2 × 2\n",
       "\n",
       "| Outcome &lt;int&gt; | V1 &lt;dbl&gt; |\n",
       "|---|---|\n",
       "| 0 | 105.0 |\n",
       "| 1 | 169.5 |\n",
       "\n"
      ],
      "text/plain": [
       "  Outcome V1   \n",
       "1 0       105.0\n",
       "2 1       169.5"
      ]
     },
     "metadata": {},
     "output_type": "display_data"
    }
   ],
   "source": [
    "data[Insulin != 0, median(Insulin), by = Outcome]"
   ]
  },
  {
   "cell_type": "code",
   "execution_count": 110,
   "metadata": {},
   "outputs": [],
   "source": [
    "data[Insulin == 0 & Outcome == 0, Insulin:= 105.0]\n",
    "data[Insulin == 0 & Outcome == 1, Insulin:= 169.0]"
   ]
  },
  {
   "cell_type": "markdown",
   "metadata": {},
   "source": [
    "인슐린의 정상 수치 범위는 공복 시 5\\~15이며, 인슐린 저항성이   \n",
    "있는 경우 15\\~40"
   ]
  },
  {
   "cell_type": "markdown",
   "metadata": {},
   "source": [
    "# SkinThickness 변수 처리\n",
    "\n",
    "이런 경우는 BMI수치에 따라 SkinThickness가 관계를 가지므로,   \n",
    "회귀분석을 실행하여 SkinThickness값을 채워주도록 하겠음..!!  "
   ]
  },
  {
   "cell_type": "code",
   "execution_count": 111,
   "metadata": {},
   "outputs": [],
   "source": [
    "rline <- lm(data[SkinThickness!=0,SkinThickness]~data[SkinThickness!=0,BMI])"
   ]
  },
  {
   "cell_type": "code",
   "execution_count": 112,
   "metadata": {},
   "outputs": [
    {
     "data": {
      "text/plain": [
       "\n",
       "Call:\n",
       "lm(formula = data[SkinThickness != 0, SkinThickness] ~ data[SkinThickness != \n",
       "    0, BMI])\n",
       "\n",
       "Coefficients:\n",
       "                  (Intercept)  data[SkinThickness != 0, BMI]  \n",
       "                      -3.4650                         0.9878  \n"
      ]
     },
     "metadata": {},
     "output_type": "display_data"
    }
   ],
   "source": [
    "rline"
   ]
  },
  {
   "cell_type": "code",
   "execution_count": 113,
   "metadata": {},
   "outputs": [
    {
     "data": {
      "image/png": "[encoded data removed]",
      "text/plain": [
       "plot without title"
      ]
     },
     "metadata": {
      "image/png": {
       "height": 420,
       "width": 420
      }
     },
     "output_type": "display_data"
    }
   ],
   "source": [
    "scatter_d(data[SkinThickness!=0], \"BMI\", \"SkinThickness\", \"Outcome\") +\n",
    "    geom_smooth(method = 'lm', formula = y~x, color = \"green\")"
   ]
  },
  {
   "cell_type": "code",
   "execution_count": 114,
   "metadata": {
    "scrolled": true
   },
   "outputs": [],
   "source": [
    "# StickThickness 값 채우기\n",
    "data[SkinThickness == 0 , SkinThickness := round(-3.4650 + 0.9878*BMI)]"
   ]
  },
  {
   "cell_type": "code",
   "execution_count": 115,
   "metadata": {
    "scrolled": true
   },
   "outputs": [
    {
     "data": {
      "text/html": [
       "<table>\n",
       "<caption>A data.table: 764 × 12</caption>\n",
       "<thead>\n",
       "\t<tr><th scope=col>Pregnancies</th><th scope=col>Glucose</th><th scope=col>BloodPressure</th><th scope=col>SkinThickness</th><th scope=col>Insulin</th><th scope=col>BMI</th><th scope=col>DiabetesPedigreeFunction</th><th scope=col>Age</th><th scope=col>Outcome</th><th scope=col>AgeGroup</th><th scope=col>idx</th><th scope=col>BMI_cat</th></tr>\n",
       "\t<tr><th scope=col>&lt;int&gt;</th><th scope=col>&lt;int&gt;</th><th scope=col>&lt;int&gt;</th><th scope=col>&lt;int&gt;</th><th scope=col>&lt;int&gt;</th><th scope=col>&lt;dbl&gt;</th><th scope=col>&lt;dbl&gt;</th><th scope=col>&lt;int&gt;</th><th scope=col>&lt;int&gt;</th><th scope=col>&lt;dbl&gt;</th><th scope=col>&lt;int&gt;</th><th scope=col>&lt;chr&gt;</th></tr>\n",
       "</thead>\n",
       "<tbody>\n",
       "\t<tr><td> 6</td><td>148</td><td>72</td><td>35</td><td>169</td><td>33.6</td><td>0.627</td><td>50</td><td>1</td><td>5</td><td> 1</td><td>ob</td></tr>\n",
       "\t<tr><td> 1</td><td> 85</td><td>66</td><td>29</td><td>105</td><td>26.6</td><td>0.351</td><td>31</td><td>0</td><td>3</td><td> 2</td><td>ow</td></tr>\n",
       "\t<tr><td> 8</td><td>183</td><td>64</td><td>20</td><td>169</td><td>23.3</td><td>0.672</td><td>32</td><td>1</td><td>3</td><td> 3</td><td>nm</td></tr>\n",
       "\t<tr><td> 1</td><td> 89</td><td>66</td><td>23</td><td> 94</td><td>28.1</td><td>0.167</td><td>21</td><td>0</td><td>2</td><td> 4</td><td>ow</td></tr>\n",
       "\t<tr><td> 0</td><td>137</td><td>40</td><td>35</td><td>168</td><td>43.1</td><td>2.288</td><td>33</td><td>1</td><td>3</td><td> 5</td><td>ob</td></tr>\n",
       "\t<tr><td> 5</td><td>116</td><td>74</td><td>22</td><td>105</td><td>25.6</td><td>0.201</td><td>30</td><td>0</td><td>3</td><td> 6</td><td>ow</td></tr>\n",
       "\t<tr><td> 3</td><td> 78</td><td>50</td><td>32</td><td> 88</td><td>31.0</td><td>0.248</td><td>26</td><td>1</td><td>2</td><td> 7</td><td>ob</td></tr>\n",
       "\t<tr><td>10</td><td>115</td><td>68</td><td>31</td><td>105</td><td>35.3</td><td>0.134</td><td>29</td><td>0</td><td>2</td><td> 8</td><td>ob</td></tr>\n",
       "\t<tr><td> 2</td><td>197</td><td>70</td><td>45</td><td>543</td><td>30.5</td><td>0.158</td><td>53</td><td>1</td><td>5</td><td> 9</td><td>ob</td></tr>\n",
       "\t<tr><td> 8</td><td>125</td><td>96</td><td>28</td><td>169</td><td>31.9</td><td>0.232</td><td>54</td><td>1</td><td>5</td><td>10</td><td>ob</td></tr>\n",
       "\t<tr><td> 4</td><td>110</td><td>92</td><td>34</td><td>105</td><td>37.6</td><td>0.191</td><td>30</td><td>0</td><td>3</td><td>11</td><td>ob</td></tr>\n",
       "\t<tr><td>10</td><td>168</td><td>74</td><td>34</td><td>169</td><td>38.0</td><td>0.537</td><td>34</td><td>1</td><td>3</td><td>12</td><td>ob</td></tr>\n",
       "\t<tr><td>10</td><td>139</td><td>80</td><td>23</td><td>105</td><td>27.1</td><td>1.441</td><td>57</td><td>0</td><td>5</td><td>13</td><td>ow</td></tr>\n",
       "\t<tr><td> 1</td><td>189</td><td>60</td><td>23</td><td>846</td><td>30.1</td><td>0.398</td><td>59</td><td>1</td><td>5</td><td>14</td><td>ob</td></tr>\n",
       "\t<tr><td> 5</td><td>166</td><td>72</td><td>19</td><td>175</td><td>25.8</td><td>0.587</td><td>51</td><td>1</td><td>5</td><td>15</td><td>ow</td></tr>\n",
       "\t<tr><td> 7</td><td>100</td><td>74</td><td>26</td><td>169</td><td>30.0</td><td>0.484</td><td>32</td><td>1</td><td>3</td><td>16</td><td>ob</td></tr>\n",
       "\t<tr><td> 0</td><td>118</td><td>84</td><td>47</td><td>230</td><td>45.8</td><td>0.551</td><td>31</td><td>1</td><td>3</td><td>17</td><td>ob</td></tr>\n",
       "\t<tr><td> 7</td><td>107</td><td>74</td><td>26</td><td>169</td><td>29.6</td><td>0.254</td><td>31</td><td>1</td><td>3</td><td>18</td><td>ow</td></tr>\n",
       "\t<tr><td> 1</td><td>103</td><td>30</td><td>38</td><td> 83</td><td>43.3</td><td>0.183</td><td>33</td><td>0</td><td>3</td><td>19</td><td>ob</td></tr>\n",
       "\t<tr><td> 1</td><td>115</td><td>70</td><td>30</td><td> 96</td><td>34.6</td><td>0.529</td><td>32</td><td>1</td><td>3</td><td>20</td><td>ob</td></tr>\n",
       "\t<tr><td> 3</td><td>126</td><td>88</td><td>41</td><td>235</td><td>39.3</td><td>0.704</td><td>27</td><td>0</td><td>2</td><td>21</td><td>ob</td></tr>\n",
       "\t<tr><td> 8</td><td> 99</td><td>84</td><td>32</td><td>105</td><td>35.4</td><td>0.388</td><td>50</td><td>0</td><td>5</td><td>22</td><td>ob</td></tr>\n",
       "\t<tr><td> 7</td><td>196</td><td>90</td><td>36</td><td>169</td><td>39.8</td><td>0.451</td><td>41</td><td>1</td><td>4</td><td>23</td><td>ob</td></tr>\n",
       "\t<tr><td> 9</td><td>119</td><td>80</td><td>35</td><td>169</td><td>29.0</td><td>0.263</td><td>29</td><td>1</td><td>2</td><td>24</td><td>ow</td></tr>\n",
       "\t<tr><td>11</td><td>143</td><td>94</td><td>33</td><td>146</td><td>36.6</td><td>0.254</td><td>51</td><td>1</td><td>5</td><td>25</td><td>ob</td></tr>\n",
       "\t<tr><td>10</td><td>125</td><td>70</td><td>26</td><td>115</td><td>31.1</td><td>0.205</td><td>41</td><td>1</td><td>4</td><td>26</td><td>ob</td></tr>\n",
       "\t<tr><td> 7</td><td>147</td><td>76</td><td>35</td><td>169</td><td>39.4</td><td>0.257</td><td>43</td><td>1</td><td>4</td><td>27</td><td>ob</td></tr>\n",
       "\t<tr><td> 1</td><td> 97</td><td>66</td><td>15</td><td>140</td><td>23.2</td><td>0.487</td><td>22</td><td>0</td><td>2</td><td>28</td><td>nm</td></tr>\n",
       "\t<tr><td>13</td><td>145</td><td>82</td><td>19</td><td>110</td><td>22.2</td><td>0.245</td><td>57</td><td>0</td><td>5</td><td>29</td><td>nm</td></tr>\n",
       "\t<tr><td> 5</td><td>117</td><td>92</td><td>30</td><td>105</td><td>34.1</td><td>0.337</td><td>38</td><td>0</td><td>3</td><td>30</td><td>ob</td></tr>\n",
       "\t<tr><td>...</td><td>...</td><td>...</td><td>...</td><td>...</td><td>...</td><td>...</td><td>...</td><td>...</td><td>...</td><td>...</td><td>...</td></tr>\n",
       "\t<tr><td> 2</td><td> 99</td><td>60</td><td>17</td><td>160</td><td>36.6</td><td>0.453</td><td>21</td><td>0</td><td>2</td><td>735</td><td>ob</td></tr>\n",
       "\t<tr><td> 1</td><td>102</td><td>74</td><td>36</td><td>169</td><td>39.5</td><td>0.293</td><td>42</td><td>1</td><td>4</td><td>736</td><td>ob</td></tr>\n",
       "\t<tr><td>11</td><td>120</td><td>80</td><td>37</td><td>150</td><td>42.3</td><td>0.785</td><td>48</td><td>1</td><td>4</td><td>737</td><td>ob</td></tr>\n",
       "\t<tr><td> 3</td><td>102</td><td>44</td><td>20</td><td> 94</td><td>30.8</td><td>0.400</td><td>26</td><td>0</td><td>2</td><td>738</td><td>ob</td></tr>\n",
       "\t<tr><td> 1</td><td>109</td><td>58</td><td>18</td><td>116</td><td>28.5</td><td>0.219</td><td>22</td><td>0</td><td>2</td><td>739</td><td>ow</td></tr>\n",
       "\t<tr><td> 9</td><td>140</td><td>94</td><td>29</td><td>169</td><td>32.7</td><td>0.734</td><td>45</td><td>1</td><td>4</td><td>740</td><td>ob</td></tr>\n",
       "\t<tr><td>13</td><td>153</td><td>88</td><td>37</td><td>140</td><td>40.6</td><td>1.174</td><td>39</td><td>0</td><td>3</td><td>741</td><td>ob</td></tr>\n",
       "\t<tr><td>12</td><td>100</td><td>84</td><td>33</td><td>105</td><td>30.0</td><td>0.488</td><td>46</td><td>0</td><td>4</td><td>742</td><td>ob</td></tr>\n",
       "\t<tr><td> 1</td><td>147</td><td>94</td><td>41</td><td>169</td><td>49.3</td><td>0.358</td><td>27</td><td>1</td><td>2</td><td>743</td><td>ob</td></tr>\n",
       "\t<tr><td> 1</td><td> 81</td><td>74</td><td>41</td><td> 57</td><td>46.3</td><td>1.096</td><td>32</td><td>0</td><td>3</td><td>744</td><td>ob</td></tr>\n",
       "\t<tr><td> 3</td><td>187</td><td>70</td><td>22</td><td>200</td><td>36.4</td><td>0.408</td><td>36</td><td>1</td><td>3</td><td>745</td><td>ob</td></tr>\n",
       "\t<tr><td> 6</td><td>162</td><td>62</td><td>21</td><td>169</td><td>24.3</td><td>0.178</td><td>50</td><td>1</td><td>5</td><td>746</td><td>nm</td></tr>\n",
       "\t<tr><td> 4</td><td>136</td><td>70</td><td>27</td><td>169</td><td>31.2</td><td>1.182</td><td>22</td><td>1</td><td>2</td><td>747</td><td>ob</td></tr>\n",
       "\t<tr><td> 1</td><td>121</td><td>78</td><td>39</td><td> 74</td><td>39.0</td><td>0.261</td><td>28</td><td>0</td><td>2</td><td>748</td><td>ob</td></tr>\n",
       "\t<tr><td> 3</td><td>108</td><td>62</td><td>24</td><td>105</td><td>26.0</td><td>0.223</td><td>25</td><td>0</td><td>2</td><td>749</td><td>ow</td></tr>\n",
       "\t<tr><td> 0</td><td>181</td><td>88</td><td>44</td><td>510</td><td>43.3</td><td>0.222</td><td>26</td><td>1</td><td>2</td><td>750</td><td>ob</td></tr>\n",
       "\t<tr><td> 8</td><td>154</td><td>78</td><td>32</td><td>169</td><td>32.4</td><td>0.443</td><td>45</td><td>1</td><td>4</td><td>751</td><td>ob</td></tr>\n",
       "\t<tr><td> 1</td><td>128</td><td>88</td><td>39</td><td>110</td><td>36.5</td><td>1.057</td><td>37</td><td>1</td><td>3</td><td>752</td><td>ob</td></tr>\n",
       "\t<tr><td> 7</td><td>137</td><td>90</td><td>41</td><td>105</td><td>32.0</td><td>0.391</td><td>39</td><td>0</td><td>3</td><td>753</td><td>ob</td></tr>\n",
       "\t<tr><td> 0</td><td>123</td><td>72</td><td>32</td><td>169</td><td>36.3</td><td>0.258</td><td>52</td><td>1</td><td>5</td><td>754</td><td>ob</td></tr>\n",
       "\t<tr><td> 1</td><td>106</td><td>76</td><td>34</td><td>105</td><td>37.5</td><td>0.197</td><td>26</td><td>0</td><td>2</td><td>755</td><td>ob</td></tr>\n",
       "\t<tr><td> 6</td><td>190</td><td>92</td><td>32</td><td>169</td><td>35.5</td><td>0.278</td><td>66</td><td>1</td><td>6</td><td>756</td><td>ob</td></tr>\n",
       "\t<tr><td> 2</td><td> 88</td><td>58</td><td>26</td><td> 16</td><td>28.4</td><td>0.766</td><td>22</td><td>0</td><td>2</td><td>757</td><td>ow</td></tr>\n",
       "\t<tr><td> 9</td><td>170</td><td>74</td><td>31</td><td>169</td><td>44.0</td><td>0.403</td><td>43</td><td>1</td><td>4</td><td>758</td><td>ob</td></tr>\n",
       "\t<tr><td> 9</td><td> 89</td><td>62</td><td>19</td><td>105</td><td>22.5</td><td>0.142</td><td>33</td><td>0</td><td>3</td><td>759</td><td>nm</td></tr>\n",
       "\t<tr><td>10</td><td>101</td><td>76</td><td>48</td><td>180</td><td>32.9</td><td>0.171</td><td>63</td><td>0</td><td>6</td><td>760</td><td>ob</td></tr>\n",
       "\t<tr><td> 2</td><td>122</td><td>70</td><td>27</td><td>105</td><td>36.8</td><td>0.340</td><td>27</td><td>0</td><td>2</td><td>761</td><td>ob</td></tr>\n",
       "\t<tr><td> 5</td><td>121</td><td>72</td><td>23</td><td>112</td><td>26.2</td><td>0.245</td><td>30</td><td>0</td><td>3</td><td>762</td><td>ow</td></tr>\n",
       "\t<tr><td> 1</td><td>126</td><td>60</td><td>26</td><td>169</td><td>30.1</td><td>0.349</td><td>47</td><td>1</td><td>4</td><td>763</td><td>ob</td></tr>\n",
       "\t<tr><td> 1</td><td> 93</td><td>70</td><td>31</td><td>105</td><td>30.4</td><td>0.315</td><td>23</td><td>0</td><td>2</td><td>764</td><td>ob</td></tr>\n",
       "</tbody>\n",
       "</table>\n"
      ],
      "text/latex": [
       "A data.table: 764 × 12\n",
       "\\begin{tabular}{llllllllllll}\n",
       " Pregnancies & Glucose & BloodPressure & SkinThickness & Insulin & BMI & DiabetesPedigreeFunction & Age & Outcome & AgeGroup & idx & BMI\\_cat\\\\\n",
       " <int> & <int> & <int> & <int> & <int> & <dbl> & <dbl> & <int> & <int> & <dbl> & <int> & <chr>\\\\\n",
       "\\hline\n",
       "\t  6 & 148 & 72 & 35 & 169 & 33.6 & 0.627 & 50 & 1 & 5 &  1 & ob\\\\\n",
       "\t  1 &  85 & 66 & 29 & 105 & 26.6 & 0.351 & 31 & 0 & 3 &  2 & ow\\\\\n",
       "\t  8 & 183 & 64 & 20 & 169 & 23.3 & 0.672 & 32 & 1 & 3 &  3 & nm\\\\\n",
       "\t  1 &  89 & 66 & 23 &  94 & 28.1 & 0.167 & 21 & 0 & 2 &  4 & ow\\\\\n",
       "\t  0 & 137 & 40 & 35 & 168 & 43.1 & 2.288 & 33 & 1 & 3 &  5 & ob\\\\\n",
       "\t  5 & 116 & 74 & 22 & 105 & 25.6 & 0.201 & 30 & 0 & 3 &  6 & ow\\\\\n",
       "\t  3 &  78 & 50 & 32 &  88 & 31.0 & 0.248 & 26 & 1 & 2 &  7 & ob\\\\\n",
       "\t 10 & 115 & 68 & 31 & 105 & 35.3 & 0.134 & 29 & 0 & 2 &  8 & ob\\\\\n",
       "\t  2 & 197 & 70 & 45 & 543 & 30.5 & 0.158 & 53 & 1 & 5 &  9 & ob\\\\\n",
       "\t  8 & 125 & 96 & 28 & 169 & 31.9 & 0.232 & 54 & 1 & 5 & 10 & ob\\\\\n",
       "\t  4 & 110 & 92 & 34 & 105 & 37.6 & 0.191 & 30 & 0 & 3 & 11 & ob\\\\\n",
       "\t 10 & 168 & 74 & 34 & 169 & 38.0 & 0.537 & 34 & 1 & 3 & 12 & ob\\\\\n",
       "\t 10 & 139 & 80 & 23 & 105 & 27.1 & 1.441 & 57 & 0 & 5 & 13 & ow\\\\\n",
       "\t  1 & 189 & 60 & 23 & 846 & 30.1 & 0.398 & 59 & 1 & 5 & 14 & ob\\\\\n",
       "\t  5 & 166 & 72 & 19 & 175 & 25.8 & 0.587 & 51 & 1 & 5 & 15 & ow\\\\\n",
       "\t  7 & 100 & 74 & 26 & 169 & 30.0 & 0.484 & 32 & 1 & 3 & 16 & ob\\\\\n",
       "\t  0 & 118 & 84 & 47 & 230 & 45.8 & 0.551 & 31 & 1 & 3 & 17 & ob\\\\\n",
       "\t  7 & 107 & 74 & 26 & 169 & 29.6 & 0.254 & 31 & 1 & 3 & 18 & ow\\\\\n",
       "\t  1 & 103 & 30 & 38 &  83 & 43.3 & 0.183 & 33 & 0 & 3 & 19 & ob\\\\\n",
       "\t  1 & 115 & 70 & 30 &  96 & 34.6 & 0.529 & 32 & 1 & 3 & 20 & ob\\\\\n",
       "\t  3 & 126 & 88 & 41 & 235 & 39.3 & 0.704 & 27 & 0 & 2 & 21 & ob\\\\\n",
       "\t  8 &  99 & 84 & 32 & 105 & 35.4 & 0.388 & 50 & 0 & 5 & 22 & ob\\\\\n",
       "\t  7 & 196 & 90 & 36 & 169 & 39.8 & 0.451 & 41 & 1 & 4 & 23 & ob\\\\\n",
       "\t  9 & 119 & 80 & 35 & 169 & 29.0 & 0.263 & 29 & 1 & 2 & 24 & ow\\\\\n",
       "\t 11 & 143 & 94 & 33 & 146 & 36.6 & 0.254 & 51 & 1 & 5 & 25 & ob\\\\\n",
       "\t 10 & 125 & 70 & 26 & 115 & 31.1 & 0.205 & 41 & 1 & 4 & 26 & ob\\\\\n",
       "\t  7 & 147 & 76 & 35 & 169 & 39.4 & 0.257 & 43 & 1 & 4 & 27 & ob\\\\\n",
       "\t  1 &  97 & 66 & 15 & 140 & 23.2 & 0.487 & 22 & 0 & 2 & 28 & nm\\\\\n",
       "\t 13 & 145 & 82 & 19 & 110 & 22.2 & 0.245 & 57 & 0 & 5 & 29 & nm\\\\\n",
       "\t  5 & 117 & 92 & 30 & 105 & 34.1 & 0.337 & 38 & 0 & 3 & 30 & ob\\\\\n",
       "\t ... & ... & ... & ... & ... & ... & ... & ... & ... & ... & ... & ...\\\\\n",
       "\t  2 &  99 & 60 & 17 & 160 & 36.6 & 0.453 & 21 & 0 & 2 & 735 & ob\\\\\n",
       "\t  1 & 102 & 74 & 36 & 169 & 39.5 & 0.293 & 42 & 1 & 4 & 736 & ob\\\\\n",
       "\t 11 & 120 & 80 & 37 & 150 & 42.3 & 0.785 & 48 & 1 & 4 & 737 & ob\\\\\n",
       "\t  3 & 102 & 44 & 20 &  94 & 30.8 & 0.400 & 26 & 0 & 2 & 738 & ob\\\\\n",
       "\t  1 & 109 & 58 & 18 & 116 & 28.5 & 0.219 & 22 & 0 & 2 & 739 & ow\\\\\n",
       "\t  9 & 140 & 94 & 29 & 169 & 32.7 & 0.734 & 45 & 1 & 4 & 740 & ob\\\\\n",
       "\t 13 & 153 & 88 & 37 & 140 & 40.6 & 1.174 & 39 & 0 & 3 & 741 & ob\\\\\n",
       "\t 12 & 100 & 84 & 33 & 105 & 30.0 & 0.488 & 46 & 0 & 4 & 742 & ob\\\\\n",
       "\t  1 & 147 & 94 & 41 & 169 & 49.3 & 0.358 & 27 & 1 & 2 & 743 & ob\\\\\n",
       "\t  1 &  81 & 74 & 41 &  57 & 46.3 & 1.096 & 32 & 0 & 3 & 744 & ob\\\\\n",
       "\t  3 & 187 & 70 & 22 & 200 & 36.4 & 0.408 & 36 & 1 & 3 & 745 & ob\\\\\n",
       "\t  6 & 162 & 62 & 21 & 169 & 24.3 & 0.178 & 50 & 1 & 5 & 746 & nm\\\\\n",
       "\t  4 & 136 & 70 & 27 & 169 & 31.2 & 1.182 & 22 & 1 & 2 & 747 & ob\\\\\n",
       "\t  1 & 121 & 78 & 39 &  74 & 39.0 & 0.261 & 28 & 0 & 2 & 748 & ob\\\\\n",
       "\t  3 & 108 & 62 & 24 & 105 & 26.0 & 0.223 & 25 & 0 & 2 & 749 & ow\\\\\n",
       "\t  0 & 181 & 88 & 44 & 510 & 43.3 & 0.222 & 26 & 1 & 2 & 750 & ob\\\\\n",
       "\t  8 & 154 & 78 & 32 & 169 & 32.4 & 0.443 & 45 & 1 & 4 & 751 & ob\\\\\n",
       "\t  1 & 128 & 88 & 39 & 110 & 36.5 & 1.057 & 37 & 1 & 3 & 752 & ob\\\\\n",
       "\t  7 & 137 & 90 & 41 & 105 & 32.0 & 0.391 & 39 & 0 & 3 & 753 & ob\\\\\n",
       "\t  0 & 123 & 72 & 32 & 169 & 36.3 & 0.258 & 52 & 1 & 5 & 754 & ob\\\\\n",
       "\t  1 & 106 & 76 & 34 & 105 & 37.5 & 0.197 & 26 & 0 & 2 & 755 & ob\\\\\n",
       "\t  6 & 190 & 92 & 32 & 169 & 35.5 & 0.278 & 66 & 1 & 6 & 756 & ob\\\\\n",
       "\t  2 &  88 & 58 & 26 &  16 & 28.4 & 0.766 & 22 & 0 & 2 & 757 & ow\\\\\n",
       "\t  9 & 170 & 74 & 31 & 169 & 44.0 & 0.403 & 43 & 1 & 4 & 758 & ob\\\\\n",
       "\t  9 &  89 & 62 & 19 & 105 & 22.5 & 0.142 & 33 & 0 & 3 & 759 & nm\\\\\n",
       "\t 10 & 101 & 76 & 48 & 180 & 32.9 & 0.171 & 63 & 0 & 6 & 760 & ob\\\\\n",
       "\t  2 & 122 & 70 & 27 & 105 & 36.8 & 0.340 & 27 & 0 & 2 & 761 & ob\\\\\n",
       "\t  5 & 121 & 72 & 23 & 112 & 26.2 & 0.245 & 30 & 0 & 3 & 762 & ow\\\\\n",
       "\t  1 & 126 & 60 & 26 & 169 & 30.1 & 0.349 & 47 & 1 & 4 & 763 & ob\\\\\n",
       "\t  1 &  93 & 70 & 31 & 105 & 30.4 & 0.315 & 23 & 0 & 2 & 764 & ob\\\\\n",
       "\\end{tabular}\n"
      ],
      "text/markdown": [
       "\n",
       "A data.table: 764 × 12\n",
       "\n",
       "| Pregnancies &lt;int&gt; | Glucose &lt;int&gt; | BloodPressure &lt;int&gt; | SkinThickness &lt;int&gt; | Insulin &lt;int&gt; | BMI &lt;dbl&gt; | DiabetesPedigreeFunction &lt;dbl&gt; | Age &lt;int&gt; | Outcome &lt;int&gt; | AgeGroup &lt;dbl&gt; | idx &lt;int&gt; | BMI_cat &lt;chr&gt; |\n",
       "|---|---|---|---|---|---|---|---|---|---|---|---|\n",
       "|  6 | 148 | 72 | 35 | 169 | 33.6 | 0.627 | 50 | 1 | 5 |  1 | ob |\n",
       "|  1 |  85 | 66 | 29 | 105 | 26.6 | 0.351 | 31 | 0 | 3 |  2 | ow |\n",
       "|  8 | 183 | 64 | 20 | 169 | 23.3 | 0.672 | 32 | 1 | 3 |  3 | nm |\n",
       "|  1 |  89 | 66 | 23 |  94 | 28.1 | 0.167 | 21 | 0 | 2 |  4 | ow |\n",
       "|  0 | 137 | 40 | 35 | 168 | 43.1 | 2.288 | 33 | 1 | 3 |  5 | ob |\n",
       "|  5 | 116 | 74 | 22 | 105 | 25.6 | 0.201 | 30 | 0 | 3 |  6 | ow |\n",
       "|  3 |  78 | 50 | 32 |  88 | 31.0 | 0.248 | 26 | 1 | 2 |  7 | ob |\n",
       "| 10 | 115 | 68 | 31 | 105 | 35.3 | 0.134 | 29 | 0 | 2 |  8 | ob |\n",
       "|  2 | 197 | 70 | 45 | 543 | 30.5 | 0.158 | 53 | 1 | 5 |  9 | ob |\n",
       "|  8 | 125 | 96 | 28 | 169 | 31.9 | 0.232 | 54 | 1 | 5 | 10 | ob |\n",
       "|  4 | 110 | 92 | 34 | 105 | 37.6 | 0.191 | 30 | 0 | 3 | 11 | ob |\n",
       "| 10 | 168 | 74 | 34 | 169 | 38.0 | 0.537 | 34 | 1 | 3 | 12 | ob |\n",
       "| 10 | 139 | 80 | 23 | 105 | 27.1 | 1.441 | 57 | 0 | 5 | 13 | ow |\n",
       "|  1 | 189 | 60 | 23 | 846 | 30.1 | 0.398 | 59 | 1 | 5 | 14 | ob |\n",
       "|  5 | 166 | 72 | 19 | 175 | 25.8 | 0.587 | 51 | 1 | 5 | 15 | ow |\n",
       "|  7 | 100 | 74 | 26 | 169 | 30.0 | 0.484 | 32 | 1 | 3 | 16 | ob |\n",
       "|  0 | 118 | 84 | 47 | 230 | 45.8 | 0.551 | 31 | 1 | 3 | 17 | ob |\n",
       "|  7 | 107 | 74 | 26 | 169 | 29.6 | 0.254 | 31 | 1 | 3 | 18 | ow |\n",
       "|  1 | 103 | 30 | 38 |  83 | 43.3 | 0.183 | 33 | 0 | 3 | 19 | ob |\n",
       "|  1 | 115 | 70 | 30 |  96 | 34.6 | 0.529 | 32 | 1 | 3 | 20 | ob |\n",
       "|  3 | 126 | 88 | 41 | 235 | 39.3 | 0.704 | 27 | 0 | 2 | 21 | ob |\n",
       "|  8 |  99 | 84 | 32 | 105 | 35.4 | 0.388 | 50 | 0 | 5 | 22 | ob |\n",
       "|  7 | 196 | 90 | 36 | 169 | 39.8 | 0.451 | 41 | 1 | 4 | 23 | ob |\n",
       "|  9 | 119 | 80 | 35 | 169 | 29.0 | 0.263 | 29 | 1 | 2 | 24 | ow |\n",
       "| 11 | 143 | 94 | 33 | 146 | 36.6 | 0.254 | 51 | 1 | 5 | 25 | ob |\n",
       "| 10 | 125 | 70 | 26 | 115 | 31.1 | 0.205 | 41 | 1 | 4 | 26 | ob |\n",
       "|  7 | 147 | 76 | 35 | 169 | 39.4 | 0.257 | 43 | 1 | 4 | 27 | ob |\n",
       "|  1 |  97 | 66 | 15 | 140 | 23.2 | 0.487 | 22 | 0 | 2 | 28 | nm |\n",
       "| 13 | 145 | 82 | 19 | 110 | 22.2 | 0.245 | 57 | 0 | 5 | 29 | nm |\n",
       "|  5 | 117 | 92 | 30 | 105 | 34.1 | 0.337 | 38 | 0 | 3 | 30 | ob |\n",
       "| ... | ... | ... | ... | ... | ... | ... | ... | ... | ... | ... | ... |\n",
       "|  2 |  99 | 60 | 17 | 160 | 36.6 | 0.453 | 21 | 0 | 2 | 735 | ob |\n",
       "|  1 | 102 | 74 | 36 | 169 | 39.5 | 0.293 | 42 | 1 | 4 | 736 | ob |\n",
       "| 11 | 120 | 80 | 37 | 150 | 42.3 | 0.785 | 48 | 1 | 4 | 737 | ob |\n",
       "|  3 | 102 | 44 | 20 |  94 | 30.8 | 0.400 | 26 | 0 | 2 | 738 | ob |\n",
       "|  1 | 109 | 58 | 18 | 116 | 28.5 | 0.219 | 22 | 0 | 2 | 739 | ow |\n",
       "|  9 | 140 | 94 | 29 | 169 | 32.7 | 0.734 | 45 | 1 | 4 | 740 | ob |\n",
       "| 13 | 153 | 88 | 37 | 140 | 40.6 | 1.174 | 39 | 0 | 3 | 741 | ob |\n",
       "| 12 | 100 | 84 | 33 | 105 | 30.0 | 0.488 | 46 | 0 | 4 | 742 | ob |\n",
       "|  1 | 147 | 94 | 41 | 169 | 49.3 | 0.358 | 27 | 1 | 2 | 743 | ob |\n",
       "|  1 |  81 | 74 | 41 |  57 | 46.3 | 1.096 | 32 | 0 | 3 | 744 | ob |\n",
       "|  3 | 187 | 70 | 22 | 200 | 36.4 | 0.408 | 36 | 1 | 3 | 745 | ob |\n",
       "|  6 | 162 | 62 | 21 | 169 | 24.3 | 0.178 | 50 | 1 | 5 | 746 | nm |\n",
       "|  4 | 136 | 70 | 27 | 169 | 31.2 | 1.182 | 22 | 1 | 2 | 747 | ob |\n",
       "|  1 | 121 | 78 | 39 |  74 | 39.0 | 0.261 | 28 | 0 | 2 | 748 | ob |\n",
       "|  3 | 108 | 62 | 24 | 105 | 26.0 | 0.223 | 25 | 0 | 2 | 749 | ow |\n",
       "|  0 | 181 | 88 | 44 | 510 | 43.3 | 0.222 | 26 | 1 | 2 | 750 | ob |\n",
       "|  8 | 154 | 78 | 32 | 169 | 32.4 | 0.443 | 45 | 1 | 4 | 751 | ob |\n",
       "|  1 | 128 | 88 | 39 | 110 | 36.5 | 1.057 | 37 | 1 | 3 | 752 | ob |\n",
       "|  7 | 137 | 90 | 41 | 105 | 32.0 | 0.391 | 39 | 0 | 3 | 753 | ob |\n",
       "|  0 | 123 | 72 | 32 | 169 | 36.3 | 0.258 | 52 | 1 | 5 | 754 | ob |\n",
       "|  1 | 106 | 76 | 34 | 105 | 37.5 | 0.197 | 26 | 0 | 2 | 755 | ob |\n",
       "|  6 | 190 | 92 | 32 | 169 | 35.5 | 0.278 | 66 | 1 | 6 | 756 | ob |\n",
       "|  2 |  88 | 58 | 26 |  16 | 28.4 | 0.766 | 22 | 0 | 2 | 757 | ow |\n",
       "|  9 | 170 | 74 | 31 | 169 | 44.0 | 0.403 | 43 | 1 | 4 | 758 | ob |\n",
       "|  9 |  89 | 62 | 19 | 105 | 22.5 | 0.142 | 33 | 0 | 3 | 759 | nm |\n",
       "| 10 | 101 | 76 | 48 | 180 | 32.9 | 0.171 | 63 | 0 | 6 | 760 | ob |\n",
       "|  2 | 122 | 70 | 27 | 105 | 36.8 | 0.340 | 27 | 0 | 2 | 761 | ob |\n",
       "|  5 | 121 | 72 | 23 | 112 | 26.2 | 0.245 | 30 | 0 | 3 | 762 | ow |\n",
       "|  1 | 126 | 60 | 26 | 169 | 30.1 | 0.349 | 47 | 1 | 4 | 763 | ob |\n",
       "|  1 |  93 | 70 | 31 | 105 | 30.4 | 0.315 | 23 | 0 | 2 | 764 | ob |\n",
       "\n"
      ],
      "text/plain": [
       "    Pregnancies Glucose BloodPressure SkinThickness Insulin BMI \n",
       "1    6          148     72            35            169     33.6\n",
       "2    1           85     66            29            105     26.6\n",
       "3    8          183     64            20            169     23.3\n",
       "4    1           89     66            23             94     28.1\n",
       "5    0          137     40            35            168     43.1\n",
       "6    5          116     74            22            105     25.6\n",
       "7    3           78     50            32             88     31.0\n",
       "8   10          115     68            31            105     35.3\n",
       "9    2          197     70            45            543     30.5\n",
       "10   8          125     96            28            169     31.9\n",
       "11   4          110     92            34            105     37.6\n",
       "12  10          168     74            34            169     38.0\n",
       "13  10          139     80            23            105     27.1\n",
       "14   1          189     60            23            846     30.1\n",
       "15   5          166     72            19            175     25.8\n",
       "16   7          100     74            26            169     30.0\n",
       "17   0          118     84            47            230     45.8\n",
       "18   7          107     74            26            169     29.6\n",
       "19   1          103     30            38             83     43.3\n",
       "20   1          115     70            30             96     34.6\n",
       "21   3          126     88            41            235     39.3\n",
       "22   8           99     84            32            105     35.4\n",
       "23   7          196     90            36            169     39.8\n",
       "24   9          119     80            35            169     29.0\n",
       "25  11          143     94            33            146     36.6\n",
       "26  10          125     70            26            115     31.1\n",
       "27   7          147     76            35            169     39.4\n",
       "28   1           97     66            15            140     23.2\n",
       "29  13          145     82            19            110     22.2\n",
       "30   5          117     92            30            105     34.1\n",
       "... ...         ...     ...           ...           ...     ... \n",
       "735  2           99     60            17            160     36.6\n",
       "736  1          102     74            36            169     39.5\n",
       "737 11          120     80            37            150     42.3\n",
       "738  3          102     44            20             94     30.8\n",
       "739  1          109     58            18            116     28.5\n",
       "740  9          140     94            29            169     32.7\n",
       "741 13          153     88            37            140     40.6\n",
       "742 12          100     84            33            105     30.0\n",
       "743  1          147     94            41            169     49.3\n",
       "744  1           81     74            41             57     46.3\n",
       "745  3          187     70            22            200     36.4\n",
       "746  6          162     62            21            169     24.3\n",
       "747  4          136     70            27            169     31.2\n",
       "748  1          121     78            39             74     39.0\n",
       "749  3          108     62            24            105     26.0\n",
       "750  0          181     88            44            510     43.3\n",
       "751  8          154     78            32            169     32.4\n",
       "752  1          128     88            39            110     36.5\n",
       "753  7          137     90            41            105     32.0\n",
       "754  0          123     72            32            169     36.3\n",
       "755  1          106     76            34            105     37.5\n",
       "756  6          190     92            32            169     35.5\n",
       "757  2           88     58            26             16     28.4\n",
       "758  9          170     74            31            169     44.0\n",
       "759  9           89     62            19            105     22.5\n",
       "760 10          101     76            48            180     32.9\n",
       "761  2          122     70            27            105     36.8\n",
       "762  5          121     72            23            112     26.2\n",
       "763  1          126     60            26            169     30.1\n",
       "764  1           93     70            31            105     30.4\n",
       "    DiabetesPedigreeFunction Age Outcome AgeGroup idx BMI_cat\n",
       "1   0.627                    50  1       5         1  ob     \n",
       "2   0.351                    31  0       3         2  ow     \n",
       "3   0.672                    32  1       3         3  nm     \n",
       "4   0.167                    21  0       2         4  ow     \n",
       "5   2.288                    33  1       3         5  ob     \n",
       "6   0.201                    30  0       3         6  ow     \n",
       "7   0.248                    26  1       2         7  ob     \n",
       "8   0.134                    29  0       2         8  ob     \n",
       "9   0.158                    53  1       5         9  ob     \n",
       "10  0.232                    54  1       5        10  ob     \n",
       "11  0.191                    30  0       3        11  ob     \n",
       "12  0.537                    34  1       3        12  ob     \n",
       "13  1.441                    57  0       5        13  ow     \n",
       "14  0.398                    59  1       5        14  ob     \n",
       "15  0.587                    51  1       5        15  ow     \n",
       "16  0.484                    32  1       3        16  ob     \n",
       "17  0.551                    31  1       3        17  ob     \n",
       "18  0.254                    31  1       3        18  ow     \n",
       "19  0.183                    33  0       3        19  ob     \n",
       "20  0.529                    32  1       3        20  ob     \n",
       "21  0.704                    27  0       2        21  ob     \n",
       "22  0.388                    50  0       5        22  ob     \n",
       "23  0.451                    41  1       4        23  ob     \n",
       "24  0.263                    29  1       2        24  ow     \n",
       "25  0.254                    51  1       5        25  ob     \n",
       "26  0.205                    41  1       4        26  ob     \n",
       "27  0.257                    43  1       4        27  ob     \n",
       "28  0.487                    22  0       2        28  nm     \n",
       "29  0.245                    57  0       5        29  nm     \n",
       "30  0.337                    38  0       3        30  ob     \n",
       "... ...                      ... ...     ...      ... ...    \n",
       "735 0.453                    21  0       2        735 ob     \n",
       "736 0.293                    42  1       4        736 ob     \n",
       "737 0.785                    48  1       4        737 ob     \n",
       "738 0.400                    26  0       2        738 ob     \n",
       "739 0.219                    22  0       2        739 ow     \n",
       "740 0.734                    45  1       4        740 ob     \n",
       "741 1.174                    39  0       3        741 ob     \n",
       "742 0.488                    46  0       4        742 ob     \n",
       "743 0.358                    27  1       2        743 ob     \n",
       "744 1.096                    32  0       3        744 ob     \n",
       "745 0.408                    36  1       3        745 ob     \n",
       "746 0.178                    50  1       5        746 nm     \n",
       "747 1.182                    22  1       2        747 ob     \n",
       "748 0.261                    28  0       2        748 ob     \n",
       "749 0.223                    25  0       2        749 ow     \n",
       "750 0.222                    26  1       2        750 ob     \n",
       "751 0.443                    45  1       4        751 ob     \n",
       "752 1.057                    37  1       3        752 ob     \n",
       "753 0.391                    39  0       3        753 ob     \n",
       "754 0.258                    52  1       5        754 ob     \n",
       "755 0.197                    26  0       2        755 ob     \n",
       "756 0.278                    66  1       6        756 ob     \n",
       "757 0.766                    22  0       2        757 ow     \n",
       "758 0.403                    43  1       4        758 ob     \n",
       "759 0.142                    33  0       3        759 nm     \n",
       "760 0.171                    63  0       6        760 ob     \n",
       "761 0.340                    27  0       2        761 ob     \n",
       "762 0.245                    30  0       3        762 ow     \n",
       "763 0.349                    47  1       4        763 ob     \n",
       "764 0.315                    23  0       2        764 ob     "
      ]
     },
     "metadata": {},
     "output_type": "display_data"
    }
   ],
   "source": [
    "data"
   ]
  },
  {
   "cell_type": "code",
   "execution_count": 116,
   "metadata": {},
   "outputs": [
    {
     "data": {
      "text/html": [
       "<table>\n",
       "<caption>A matrix: 8 × 8 of type dbl</caption>\n",
       "<thead>\n",
       "\t<tr><th></th><th scope=col>Pregnancies</th><th scope=col>Glucose</th><th scope=col>BloodPressure</th><th scope=col>SkinThickness</th><th scope=col>Insulin</th><th scope=col>BMI</th><th scope=col>DiabetesPedigreeFunction</th><th scope=col>Age</th></tr>\n",
       "</thead>\n",
       "<tbody>\n",
       "\t<tr><th scope=row>Pregnancies</th><td> 1.00</td><td>0.13</td><td>0.21</td><td>0.09</td><td>0.06</td><td>0.02</td><td>-0.03</td><td>0.56</td></tr>\n",
       "\t<tr><th scope=row>Glucose</th><td> 0.13</td><td>1.00</td><td>0.23</td><td>0.21</td><td>0.49</td><td>0.24</td><td> 0.14</td><td>0.27</td></tr>\n",
       "\t<tr><th scope=row>BloodPressure</th><td> 0.21</td><td>0.23</td><td>1.00</td><td>0.24</td><td>0.07</td><td>0.29</td><td> 0.00</td><td>0.34</td></tr>\n",
       "\t<tr><th scope=row>SkinThickness</th><td> 0.09</td><td>0.21</td><td>0.24</td><td>1.00</td><td>0.20</td><td>0.74</td><td> 0.13</td><td>0.09</td></tr>\n",
       "\t<tr><th scope=row>Insulin</th><td> 0.06</td><td>0.49</td><td>0.07</td><td>0.20</td><td>1.00</td><td>0.23</td><td> 0.15</td><td>0.13</td></tr>\n",
       "\t<tr><th scope=row>BMI</th><td> 0.02</td><td>0.24</td><td>0.29</td><td>0.74</td><td>0.23</td><td>1.00</td><td> 0.16</td><td>0.04</td></tr>\n",
       "\t<tr><th scope=row>DiabetesPedigreeFunction</th><td>-0.03</td><td>0.14</td><td>0.00</td><td>0.13</td><td>0.15</td><td>0.16</td><td> 1.00</td><td>0.03</td></tr>\n",
       "\t<tr><th scope=row>Age</th><td> 0.56</td><td>0.27</td><td>0.34</td><td>0.09</td><td>0.13</td><td>0.04</td><td> 0.03</td><td>1.00</td></tr>\n",
       "</tbody>\n",
       "</table>\n"
      ],
      "text/latex": [
       "A matrix: 8 × 8 of type dbl\n",
       "\\begin{tabular}{r|llllllll}\n",
       "  & Pregnancies & Glucose & BloodPressure & SkinThickness & Insulin & BMI & DiabetesPedigreeFunction & Age\\\\\n",
       "\\hline\n",
       "\tPregnancies &  1.00 & 0.13 & 0.21 & 0.09 & 0.06 & 0.02 & -0.03 & 0.56\\\\\n",
       "\tGlucose &  0.13 & 1.00 & 0.23 & 0.21 & 0.49 & 0.24 &  0.14 & 0.27\\\\\n",
       "\tBloodPressure &  0.21 & 0.23 & 1.00 & 0.24 & 0.07 & 0.29 &  0.00 & 0.34\\\\\n",
       "\tSkinThickness &  0.09 & 0.21 & 0.24 & 1.00 & 0.20 & 0.74 &  0.13 & 0.09\\\\\n",
       "\tInsulin &  0.06 & 0.49 & 0.07 & 0.20 & 1.00 & 0.23 &  0.15 & 0.13\\\\\n",
       "\tBMI &  0.02 & 0.24 & 0.29 & 0.74 & 0.23 & 1.00 &  0.16 & 0.04\\\\\n",
       "\tDiabetesPedigreeFunction & -0.03 & 0.14 & 0.00 & 0.13 & 0.15 & 0.16 &  1.00 & 0.03\\\\\n",
       "\tAge &  0.56 & 0.27 & 0.34 & 0.09 & 0.13 & 0.04 &  0.03 & 1.00\\\\\n",
       "\\end{tabular}\n"
      ],
      "text/markdown": [
       "\n",
       "A matrix: 8 × 8 of type dbl\n",
       "\n",
       "| <!--/--> | Pregnancies | Glucose | BloodPressure | SkinThickness | Insulin | BMI | DiabetesPedigreeFunction | Age |\n",
       "|---|---|---|---|---|---|---|---|---|\n",
       "| Pregnancies |  1.00 | 0.13 | 0.21 | 0.09 | 0.06 | 0.02 | -0.03 | 0.56 |\n",
       "| Glucose |  0.13 | 1.00 | 0.23 | 0.21 | 0.49 | 0.24 |  0.14 | 0.27 |\n",
       "| BloodPressure |  0.21 | 0.23 | 1.00 | 0.24 | 0.07 | 0.29 |  0.00 | 0.34 |\n",
       "| SkinThickness |  0.09 | 0.21 | 0.24 | 1.00 | 0.20 | 0.74 |  0.13 | 0.09 |\n",
       "| Insulin |  0.06 | 0.49 | 0.07 | 0.20 | 1.00 | 0.23 |  0.15 | 0.13 |\n",
       "| BMI |  0.02 | 0.24 | 0.29 | 0.74 | 0.23 | 1.00 |  0.16 | 0.04 |\n",
       "| DiabetesPedigreeFunction | -0.03 | 0.14 | 0.00 | 0.13 | 0.15 | 0.16 |  1.00 | 0.03 |\n",
       "| Age |  0.56 | 0.27 | 0.34 | 0.09 | 0.13 | 0.04 |  0.03 | 1.00 |\n",
       "\n"
      ],
      "text/plain": [
       "                         Pregnancies Glucose BloodPressure SkinThickness\n",
       "Pregnancies               1.00       0.13    0.21          0.09         \n",
       "Glucose                   0.13       1.00    0.23          0.21         \n",
       "BloodPressure             0.21       0.23    1.00          0.24         \n",
       "SkinThickness             0.09       0.21    0.24          1.00         \n",
       "Insulin                   0.06       0.49    0.07          0.20         \n",
       "BMI                       0.02       0.24    0.29          0.74         \n",
       "DiabetesPedigreeFunction -0.03       0.14    0.00          0.13         \n",
       "Age                       0.56       0.27    0.34          0.09         \n",
       "                         Insulin BMI  DiabetesPedigreeFunction Age \n",
       "Pregnancies              0.06    0.02 -0.03                    0.56\n",
       "Glucose                  0.49    0.24  0.14                    0.27\n",
       "BloodPressure            0.07    0.29  0.00                    0.34\n",
       "SkinThickness            0.20    0.74  0.13                    0.09\n",
       "Insulin                  1.00    0.23  0.15                    0.13\n",
       "BMI                      0.23    1.00  0.16                    0.04\n",
       "DiabetesPedigreeFunction 0.15    0.16  1.00                    0.03\n",
       "Age                      0.13    0.04  0.03                    1.00"
      ]
     },
     "metadata": {},
     "output_type": "display_data"
    }
   ],
   "source": [
    "#상관계수 heatmap 그리기..!!\n",
    "temp <- data[, c(1,2,3,4,5,6,7,8)]\n",
    "cormat <- round(cor(temp),2)\n",
    "cormat"
   ]
  },
  {
   "cell_type": "code",
   "execution_count": 117,
   "metadata": {},
   "outputs": [],
   "source": [
    "get_lower_tri <- function(cormat){\n",
    "    cormat[upper.tri(cormat)] <- NA\n",
    "    return(cormat)\n",
    "}\n",
    "get_upper_tri <- function(cormat){\n",
    "    cormat[lower.tri(cormat)] <- NA\n",
    "    return(cormat)\n",
    "}\n",
    "reorder_cormat <- function(cormat){\n",
    "    # Use correlation between variables as distance\n",
    "    dd <- as.dist((1-cormat)/2)\n",
    "    hc <- hclust(dd)\n",
    "    cormat <-cormat[hc$order, hc$order]\n",
    "}\n",
    "upper_tri <- get_upper_tri(cormat)\n",
    "melted_cormat <- melt(upper_tri,na.rm = TRUE)"
   ]
  },
  {
   "cell_type": "code",
   "execution_count": 118,
   "metadata": {},
   "outputs": [],
   "source": [
    "heatmap <- function(melted_data){\n",
    "    graph <- ggplot(data = melted_data, aes(Var2, Var1, fill = value)) +\n",
    "    geom_tile(color = \"white\") + \n",
    "    scale_fill_gradient2(low = \"blue\", high = \"red\", mid = \"white\",\n",
    "                        midpoint = 0, limit = c(-1,1), space = \"Lab\",\n",
    "                        name = \"Pearson\\nCorrelation\") + \n",
    "    theme_minimal() +\n",
    "    theme(axis.text.x = element_text(angle = 45, vjust = 1, size = 12, hjust = 1)) +\n",
    "    coord_fixed()\n",
    "    return(graph)\n",
    "} "
   ]
  },
  {
   "cell_type": "code",
   "execution_count": 119,
   "metadata": {
    "scrolled": false
   },
   "outputs": [
    {
     "data": {
      "image/png": "[encoded data removed]",
      "text/plain": [
       "plot without title"
      ]
     },
     "metadata": {
      "image/png": {
       "height": 420,
       "width": 420
      }
     },
     "output_type": "display_data"
    }
   ],
   "source": [
    "cormat <- reorder_cormat(cormat)\n",
    "upper_tri <- get_upper_tri(cormat)\n",
    "melted_cormat <- melt(upper_tri, na.rm = TRUE)\n",
    "heatmap(melted_cormat) + \n",
    "geom_text(aes(Var2, Var1, label = value), color = \"black\", size = 4) +\n",
    "theme(\n",
    "  axis.title.x = element_blank(),\n",
    "  axis.title.y = element_blank(),\n",
    "  panel.grid.major = element_blank(),\n",
    "  panel.border = element_blank(),\n",
    "  panel.background = element_blank(),\n",
    "  axis.ticks = element_blank(),\n",
    "  legend.justification = c(1, 0),\n",
    "  legend.position = c(0.6, 0.7),\n",
    "  legend.direction = \"horizontal\")+\n",
    "  guides(fill = guide_colorbar(barwidth = 7, barheight = 1,\n",
    "                title.position = \"top\", title.hjust = 0.5))"
   ]
  },
  {
   "cell_type": "markdown",
   "metadata": {},
   "source": [
    "+ 이전에 EDA로 살펴보았던 그래프들이 역시 상관계수가 높게 나왔음.   \n",
    "+ Pregnancy와 Age는 한번 봐볼 필요가 있음."
   ]
  },
  {
   "cell_type": "code",
   "execution_count": 120,
   "metadata": {},
   "outputs": [
    {
     "data": {
      "image/png": "[encoded data removed]",
      "text/plain": [
       "plot without title"
      ]
     },
     "metadata": {
      "image/png": {
       "height": 420,
       "width": 420
      }
     },
     "output_type": "display_data"
    }
   ],
   "source": [
    "scatter_d(data, \"Age\",\"Pregnancies\",\"Outcome\") + \n",
    "    geom_vline(xintercept = 34.5, col = \"green\", size = 1) + \n",
    "    geom_hline(yintercept = 6.5, col = \"green\", size = 1)"
   ]
  },
  {
   "cell_type": "markdown",
   "metadata": {},
   "source": [
    "좌측 하단을 보면 대부분의 데이터가 몰려있는 것을 확인할 수 있고,     \n",
    "당뇨가 아닌 사람들이 집중적으로 포진되어 있음   \n",
    "따라서 이 부분을 새로운 변수로 만들어볼만 함 !!"
   ]
  },
  {
   "cell_type": "markdown",
   "metadata": {},
   "source": [
    "# 추가로 더해줄만한 변수"
   ]
  },
  {
   "cell_type": "code",
   "execution_count": 121,
   "metadata": {
    "scrolled": false
   },
   "outputs": [
    {
     "data": {
      "text/html": [
       "<table>\n",
       "<caption>A data.table: 5 × 1</caption>\n",
       "<thead>\n",
       "\t<tr><th scope=col>N</th></tr>\n",
       "\t<tr><th scope=col>&lt;dbl&gt;</th></tr>\n",
       "</thead>\n",
       "<tbody>\n",
       "\t<tr><td>0.2121212</td></tr>\n",
       "\t<tr><td>0.4606061</td></tr>\n",
       "\t<tr><td>0.5508475</td></tr>\n",
       "\t<tr><td>0.5964912</td></tr>\n",
       "\t<tr><td>0.2500000</td></tr>\n",
       "</tbody>\n",
       "</table>\n"
      ],
      "text/latex": [
       "A data.table: 5 × 1\n",
       "\\begin{tabular}{l}\n",
       " N\\\\\n",
       " <dbl>\\\\\n",
       "\\hline\n",
       "\t 0.2121212\\\\\n",
       "\t 0.4606061\\\\\n",
       "\t 0.5508475\\\\\n",
       "\t 0.5964912\\\\\n",
       "\t 0.2500000\\\\\n",
       "\\end{tabular}\n"
      ],
      "text/markdown": [
       "\n",
       "A data.table: 5 × 1\n",
       "\n",
       "| N &lt;dbl&gt; |\n",
       "|---|\n",
       "| 0.2121212 |\n",
       "| 0.4606061 |\n",
       "| 0.5508475 |\n",
       "| 0.5964912 |\n",
       "| 0.2500000 |\n",
       "\n"
      ],
      "text/plain": [
       "  N        \n",
       "1 0.2121212\n",
       "2 0.4606061\n",
       "3 0.5508475\n",
       "4 0.5964912\n",
       "5 0.2500000"
      ]
     },
     "metadata": {},
     "output_type": "display_data"
    },
    {
     "data": {
      "text/html": [
       "<table>\n",
       "<caption>A data.table: 5 × 2</caption>\n",
       "<thead>\n",
       "\t<tr><th scope=col>AgeGroup</th><th scope=col>N</th></tr>\n",
       "\t<tr><th scope=col>&lt;dbl&gt;</th><th scope=col>&lt;int&gt;</th></tr>\n",
       "</thead>\n",
       "<tbody>\n",
       "\t<tr><td>2</td><td>396</td></tr>\n",
       "\t<tr><td>3</td><td>165</td></tr>\n",
       "\t<tr><td>4</td><td>118</td></tr>\n",
       "\t<tr><td>5</td><td> 57</td></tr>\n",
       "\t<tr><td>6</td><td> 28</td></tr>\n",
       "</tbody>\n",
       "</table>\n"
      ],
      "text/latex": [
       "A data.table: 5 × 2\n",
       "\\begin{tabular}{ll}\n",
       " AgeGroup & N\\\\\n",
       " <dbl> & <int>\\\\\n",
       "\\hline\n",
       "\t 2 & 396\\\\\n",
       "\t 3 & 165\\\\\n",
       "\t 4 & 118\\\\\n",
       "\t 5 &  57\\\\\n",
       "\t 6 &  28\\\\\n",
       "\\end{tabular}\n"
      ],
      "text/markdown": [
       "\n",
       "A data.table: 5 × 2\n",
       "\n",
       "| AgeGroup &lt;dbl&gt; | N &lt;int&gt; |\n",
       "|---|---|\n",
       "| 2 | 396 |\n",
       "| 3 | 165 |\n",
       "| 4 | 118 |\n",
       "| 5 |  57 |\n",
       "| 6 |  28 |\n",
       "\n"
      ],
      "text/plain": [
       "  AgeGroup N  \n",
       "1 2        396\n",
       "2 3        165\n",
       "3 4        118\n",
       "4 5         57\n",
       "5 6         28"
      ]
     },
     "metadata": {},
     "output_type": "display_data"
    }
   ],
   "source": [
    "# 연령별 당뇨병 비율\n",
    "data[Outcome == 1,.N,by = AgeGroup][order(AgeGroup)][,2] / data[,.N,AgeGroup][order(AgeGroup)][,2]\n",
    "data[AgeGroup != 8][,.N,AgeGroup][order(AgeGroup)]"
   ]
  },
  {
   "cell_type": "code",
   "execution_count": 122,
   "metadata": {},
   "outputs": [],
   "source": [
    "#위험군인 30~50대에 1을 부여\n",
    "data[,D1 := ifelse(AgeGroup %in% c(2,6),0,1)]"
   ]
  },
  {
   "cell_type": "markdown",
   "metadata": {},
   "source": [
    "20대와 60대의 당뇨 비율 낮고 30대와 50대 사이  \n",
    "당뇨 비율이 높음 따라서 20,60 과 30\\~50으로 0,1 더미 변수 만듬"
   ]
  },
  {
   "cell_type": "code",
   "execution_count": 123,
   "metadata": {},
   "outputs": [
    {
     "data": {
      "text/html": [
       "<table>\n",
       "<caption>A data.table: 3 × 1</caption>\n",
       "<thead>\n",
       "\t<tr><th scope=col>N</th></tr>\n",
       "\t<tr><th scope=col>&lt;dbl&gt;</th></tr>\n",
       "</thead>\n",
       "<tbody>\n",
       "\t<tr><td>0.06930693</td></tr>\n",
       "\t<tr><td>0.45625000</td></tr>\n",
       "\t<tr><td>0.22346369</td></tr>\n",
       "</tbody>\n",
       "</table>\n"
      ],
      "text/latex": [
       "A data.table: 3 × 1\n",
       "\\begin{tabular}{l}\n",
       " N\\\\\n",
       " <dbl>\\\\\n",
       "\\hline\n",
       "\t 0.06930693\\\\\n",
       "\t 0.45625000\\\\\n",
       "\t 0.22346369\\\\\n",
       "\\end{tabular}\n"
      ],
      "text/markdown": [
       "\n",
       "A data.table: 3 × 1\n",
       "\n",
       "| N &lt;dbl&gt; |\n",
       "|---|\n",
       "| 0.06930693 |\n",
       "| 0.45625000 |\n",
       "| 0.22346369 |\n",
       "\n"
      ],
      "text/plain": [
       "  N         \n",
       "1 0.06930693\n",
       "2 0.45625000\n",
       "3 0.22346369"
      ]
     },
     "metadata": {},
     "output_type": "display_data"
    },
    {
     "data": {
      "text/html": [
       "<table>\n",
       "<caption>A data.table: 4 × 2</caption>\n",
       "<thead>\n",
       "\t<tr><th scope=col>BMI_cat</th><th scope=col>N</th></tr>\n",
       "\t<tr><th scope=col>&lt;chr&gt;</th><th scope=col>&lt;int&gt;</th></tr>\n",
       "</thead>\n",
       "<tbody>\n",
       "\t<tr><td>nm</td><td>101</td></tr>\n",
       "\t<tr><td>ob</td><td>480</td></tr>\n",
       "\t<tr><td>ow</td><td>179</td></tr>\n",
       "\t<tr><td>uw</td><td>  4</td></tr>\n",
       "</tbody>\n",
       "</table>\n"
      ],
      "text/latex": [
       "A data.table: 4 × 2\n",
       "\\begin{tabular}{ll}\n",
       " BMI\\_cat & N\\\\\n",
       " <chr> & <int>\\\\\n",
       "\\hline\n",
       "\t nm & 101\\\\\n",
       "\t ob & 480\\\\\n",
       "\t ow & 179\\\\\n",
       "\t uw &   4\\\\\n",
       "\\end{tabular}\n"
      ],
      "text/markdown": [
       "\n",
       "A data.table: 4 × 2\n",
       "\n",
       "| BMI_cat &lt;chr&gt; | N &lt;int&gt; |\n",
       "|---|---|\n",
       "| nm | 101 |\n",
       "| ob | 480 |\n",
       "| ow | 179 |\n",
       "| uw |   4 |\n",
       "\n"
      ],
      "text/plain": [
       "  BMI_cat N  \n",
       "1 nm      101\n",
       "2 ob      480\n",
       "3 ow      179\n",
       "4 uw        4"
      ]
     },
     "metadata": {},
     "output_type": "display_data"
    }
   ],
   "source": [
    "# BMI별 당뇨병 비율\n",
    "data[Outcome == 1, .N, by = BMI_cat][order(BMI_cat)][,2] / data[BMI_cat!=\"uw\",.N,by = BMI_cat][order(BMI_cat)][,2]\n",
    "data[, .N, by = BMI_cat][order(BMI_cat)]"
   ]
  },
  {
   "cell_type": "code",
   "execution_count": 124,
   "metadata": {},
   "outputs": [],
   "source": [
    "#위험군인 과체중쪽에 1을 부여\n",
    "data[,D2 := ifelse(BMI_cat %in% c(\"uw\",\"nm\"),0,1)]"
   ]
  },
  {
   "cell_type": "markdown",
   "metadata": {},
   "source": [
    "전반적으로 무게가 많이 나가는 사람이 많이 조사되었고,   \n",
    "피마 인디언은 무게가 많이 나가는 사람이 많은가 보다.  \n",
    "비만 --> 과체중 --> 저체중 --> 정상 순으로   \n",
    "당뇨병 비율이 높았음.\n",
    "\n",
    "(OverWeight, Obese) , (normal, underweight)로 더미변수 만들자"
   ]
  },
  {
   "cell_type": "code",
   "execution_count": 125,
   "metadata": {},
   "outputs": [],
   "source": [
    "# 혈당 수치 126 이상인 부분을 1로 코딩한 더미변수 부여\n",
    "data[,D3 := ifelse(Glucose < 126,0,1)]"
   ]
  },
  {
   "cell_type": "code",
   "execution_count": 126,
   "metadata": {},
   "outputs": [],
   "source": [
    "# 임신여부와 나이를 고려한 추가변수.\n",
    "data[,D4 := ifelse(Age < 35,ifelse(Pregnancies < 7,0,1),1)]"
   ]
  },
  {
   "cell_type": "code",
   "execution_count": 127,
   "metadata": {
    "scrolled": true
   },
   "outputs": [
    {
     "data": {
      "text/html": [
       "<table>\n",
       "<caption>A data.table: 6 × 16</caption>\n",
       "<thead>\n",
       "\t<tr><th scope=col>Pregnancies</th><th scope=col>Glucose</th><th scope=col>BloodPressure</th><th scope=col>SkinThickness</th><th scope=col>Insulin</th><th scope=col>BMI</th><th scope=col>DiabetesPedigreeFunction</th><th scope=col>Age</th><th scope=col>Outcome</th><th scope=col>AgeGroup</th><th scope=col>idx</th><th scope=col>BMI_cat</th><th scope=col>D1</th><th scope=col>D2</th><th scope=col>D3</th><th scope=col>D4</th></tr>\n",
       "\t<tr><th scope=col>&lt;int&gt;</th><th scope=col>&lt;int&gt;</th><th scope=col>&lt;int&gt;</th><th scope=col>&lt;int&gt;</th><th scope=col>&lt;int&gt;</th><th scope=col>&lt;dbl&gt;</th><th scope=col>&lt;dbl&gt;</th><th scope=col>&lt;int&gt;</th><th scope=col>&lt;int&gt;</th><th scope=col>&lt;dbl&gt;</th><th scope=col>&lt;int&gt;</th><th scope=col>&lt;chr&gt;</th><th scope=col>&lt;dbl&gt;</th><th scope=col>&lt;dbl&gt;</th><th scope=col>&lt;dbl&gt;</th><th scope=col>&lt;dbl&gt;</th></tr>\n",
       "</thead>\n",
       "<tbody>\n",
       "\t<tr><td>6</td><td>148</td><td>72</td><td>35</td><td>169</td><td>33.6</td><td>0.627</td><td>50</td><td>1</td><td>5</td><td>1</td><td>ob</td><td>1</td><td>1</td><td>1</td><td>1</td></tr>\n",
       "\t<tr><td>1</td><td> 85</td><td>66</td><td>29</td><td>105</td><td>26.6</td><td>0.351</td><td>31</td><td>0</td><td>3</td><td>2</td><td>ow</td><td>1</td><td>1</td><td>0</td><td>0</td></tr>\n",
       "\t<tr><td>8</td><td>183</td><td>64</td><td>20</td><td>169</td><td>23.3</td><td>0.672</td><td>32</td><td>1</td><td>3</td><td>3</td><td>nm</td><td>1</td><td>0</td><td>1</td><td>1</td></tr>\n",
       "\t<tr><td>1</td><td> 89</td><td>66</td><td>23</td><td> 94</td><td>28.1</td><td>0.167</td><td>21</td><td>0</td><td>2</td><td>4</td><td>ow</td><td>0</td><td>1</td><td>0</td><td>0</td></tr>\n",
       "\t<tr><td>0</td><td>137</td><td>40</td><td>35</td><td>168</td><td>43.1</td><td>2.288</td><td>33</td><td>1</td><td>3</td><td>5</td><td>ob</td><td>1</td><td>1</td><td>1</td><td>0</td></tr>\n",
       "\t<tr><td>5</td><td>116</td><td>74</td><td>22</td><td>105</td><td>25.6</td><td>0.201</td><td>30</td><td>0</td><td>3</td><td>6</td><td>ow</td><td>1</td><td>1</td><td>0</td><td>0</td></tr>\n",
       "</tbody>\n",
       "</table>\n"
      ],
      "text/latex": [
       "A data.table: 6 × 16\n",
       "\\begin{tabular}{llllllllllllllll}\n",
       " Pregnancies & Glucose & BloodPressure & SkinThickness & Insulin & BMI & DiabetesPedigreeFunction & Age & Outcome & AgeGroup & idx & BMI\\_cat & D1 & D2 & D3 & D4\\\\\n",
       " <int> & <int> & <int> & <int> & <int> & <dbl> & <dbl> & <int> & <int> & <dbl> & <int> & <chr> & <dbl> & <dbl> & <dbl> & <dbl>\\\\\n",
       "\\hline\n",
       "\t 6 & 148 & 72 & 35 & 169 & 33.6 & 0.627 & 50 & 1 & 5 & 1 & ob & 1 & 1 & 1 & 1\\\\\n",
       "\t 1 &  85 & 66 & 29 & 105 & 26.6 & 0.351 & 31 & 0 & 3 & 2 & ow & 1 & 1 & 0 & 0\\\\\n",
       "\t 8 & 183 & 64 & 20 & 169 & 23.3 & 0.672 & 32 & 1 & 3 & 3 & nm & 1 & 0 & 1 & 1\\\\\n",
       "\t 1 &  89 & 66 & 23 &  94 & 28.1 & 0.167 & 21 & 0 & 2 & 4 & ow & 0 & 1 & 0 & 0\\\\\n",
       "\t 0 & 137 & 40 & 35 & 168 & 43.1 & 2.288 & 33 & 1 & 3 & 5 & ob & 1 & 1 & 1 & 0\\\\\n",
       "\t 5 & 116 & 74 & 22 & 105 & 25.6 & 0.201 & 30 & 0 & 3 & 6 & ow & 1 & 1 & 0 & 0\\\\\n",
       "\\end{tabular}\n"
      ],
      "text/markdown": [
       "\n",
       "A data.table: 6 × 16\n",
       "\n",
       "| Pregnancies &lt;int&gt; | Glucose &lt;int&gt; | BloodPressure &lt;int&gt; | SkinThickness &lt;int&gt; | Insulin &lt;int&gt; | BMI &lt;dbl&gt; | DiabetesPedigreeFunction &lt;dbl&gt; | Age &lt;int&gt; | Outcome &lt;int&gt; | AgeGroup &lt;dbl&gt; | idx &lt;int&gt; | BMI_cat &lt;chr&gt; | D1 &lt;dbl&gt; | D2 &lt;dbl&gt; | D3 &lt;dbl&gt; | D4 &lt;dbl&gt; |\n",
       "|---|---|---|---|---|---|---|---|---|---|---|---|---|---|---|---|\n",
       "| 6 | 148 | 72 | 35 | 169 | 33.6 | 0.627 | 50 | 1 | 5 | 1 | ob | 1 | 1 | 1 | 1 |\n",
       "| 1 |  85 | 66 | 29 | 105 | 26.6 | 0.351 | 31 | 0 | 3 | 2 | ow | 1 | 1 | 0 | 0 |\n",
       "| 8 | 183 | 64 | 20 | 169 | 23.3 | 0.672 | 32 | 1 | 3 | 3 | nm | 1 | 0 | 1 | 1 |\n",
       "| 1 |  89 | 66 | 23 |  94 | 28.1 | 0.167 | 21 | 0 | 2 | 4 | ow | 0 | 1 | 0 | 0 |\n",
       "| 0 | 137 | 40 | 35 | 168 | 43.1 | 2.288 | 33 | 1 | 3 | 5 | ob | 1 | 1 | 1 | 0 |\n",
       "| 5 | 116 | 74 | 22 | 105 | 25.6 | 0.201 | 30 | 0 | 3 | 6 | ow | 1 | 1 | 0 | 0 |\n",
       "\n"
      ],
      "text/plain": [
       "  Pregnancies Glucose BloodPressure SkinThickness Insulin BMI \n",
       "1 6           148     72            35            169     33.6\n",
       "2 1            85     66            29            105     26.6\n",
       "3 8           183     64            20            169     23.3\n",
       "4 1            89     66            23             94     28.1\n",
       "5 0           137     40            35            168     43.1\n",
       "6 5           116     74            22            105     25.6\n",
       "  DiabetesPedigreeFunction Age Outcome AgeGroup idx BMI_cat D1 D2 D3 D4\n",
       "1 0.627                    50  1       5        1   ob      1  1  1  1 \n",
       "2 0.351                    31  0       3        2   ow      1  1  0  0 \n",
       "3 0.672                    32  1       3        3   nm      1  0  1  1 \n",
       "4 0.167                    21  0       2        4   ow      0  1  0  0 \n",
       "5 2.288                    33  1       3        5   ob      1  1  1  0 \n",
       "6 0.201                    30  0       3        6   ow      1  1  0  0 "
      ]
     },
     "metadata": {},
     "output_type": "display_data"
    }
   ],
   "source": [
    "head(data)"
   ]
  },
  {
   "cell_type": "code",
   "execution_count": 128,
   "metadata": {},
   "outputs": [],
   "source": [
    "setcolorder(data, c(11,1,2,3,4,5,6,7,8,13,14,15,16,9))"
   ]
  },
  {
   "cell_type": "code",
   "execution_count": 132,
   "metadata": {},
   "outputs": [],
   "source": [
    "data <- data[,c(2:14)]"
   ]
  },
  {
   "cell_type": "code",
   "execution_count": 133,
   "metadata": {},
   "outputs": [
    {
     "data": {
      "text/html": [
       "<table>\n",
       "<caption>A data.table: 6 × 13</caption>\n",
       "<thead>\n",
       "\t<tr><th scope=col>Pregnancies</th><th scope=col>Glucose</th><th scope=col>BloodPressure</th><th scope=col>SkinThickness</th><th scope=col>Insulin</th><th scope=col>BMI</th><th scope=col>DiabetesPedigreeFunction</th><th scope=col>Age</th><th scope=col>D1</th><th scope=col>D2</th><th scope=col>D3</th><th scope=col>D4</th><th scope=col>Outcome</th></tr>\n",
       "\t<tr><th scope=col>&lt;int&gt;</th><th scope=col>&lt;int&gt;</th><th scope=col>&lt;int&gt;</th><th scope=col>&lt;int&gt;</th><th scope=col>&lt;int&gt;</th><th scope=col>&lt;dbl&gt;</th><th scope=col>&lt;dbl&gt;</th><th scope=col>&lt;int&gt;</th><th scope=col>&lt;dbl&gt;</th><th scope=col>&lt;dbl&gt;</th><th scope=col>&lt;dbl&gt;</th><th scope=col>&lt;dbl&gt;</th><th scope=col>&lt;int&gt;</th></tr>\n",
       "</thead>\n",
       "<tbody>\n",
       "\t<tr><td>6</td><td>148</td><td>72</td><td>35</td><td>169</td><td>33.6</td><td>0.627</td><td>50</td><td>1</td><td>1</td><td>1</td><td>1</td><td>1</td></tr>\n",
       "\t<tr><td>1</td><td> 85</td><td>66</td><td>29</td><td>105</td><td>26.6</td><td>0.351</td><td>31</td><td>1</td><td>1</td><td>0</td><td>0</td><td>0</td></tr>\n",
       "\t<tr><td>8</td><td>183</td><td>64</td><td>20</td><td>169</td><td>23.3</td><td>0.672</td><td>32</td><td>1</td><td>0</td><td>1</td><td>1</td><td>1</td></tr>\n",
       "\t<tr><td>1</td><td> 89</td><td>66</td><td>23</td><td> 94</td><td>28.1</td><td>0.167</td><td>21</td><td>0</td><td>1</td><td>0</td><td>0</td><td>0</td></tr>\n",
       "\t<tr><td>0</td><td>137</td><td>40</td><td>35</td><td>168</td><td>43.1</td><td>2.288</td><td>33</td><td>1</td><td>1</td><td>1</td><td>0</td><td>1</td></tr>\n",
       "\t<tr><td>5</td><td>116</td><td>74</td><td>22</td><td>105</td><td>25.6</td><td>0.201</td><td>30</td><td>1</td><td>1</td><td>0</td><td>0</td><td>0</td></tr>\n",
       "</tbody>\n",
       "</table>\n"
      ],
      "text/latex": [
       "A data.table: 6 × 13\n",
       "\\begin{tabular}{lllllllllllll}\n",
       " Pregnancies & Glucose & BloodPressure & SkinThickness & Insulin & BMI & DiabetesPedigreeFunction & Age & D1 & D2 & D3 & D4 & Outcome\\\\\n",
       " <int> & <int> & <int> & <int> & <int> & <dbl> & <dbl> & <int> & <dbl> & <dbl> & <dbl> & <dbl> & <int>\\\\\n",
       "\\hline\n",
       "\t 6 & 148 & 72 & 35 & 169 & 33.6 & 0.627 & 50 & 1 & 1 & 1 & 1 & 1\\\\\n",
       "\t 1 &  85 & 66 & 29 & 105 & 26.6 & 0.351 & 31 & 1 & 1 & 0 & 0 & 0\\\\\n",
       "\t 8 & 183 & 64 & 20 & 169 & 23.3 & 0.672 & 32 & 1 & 0 & 1 & 1 & 1\\\\\n",
       "\t 1 &  89 & 66 & 23 &  94 & 28.1 & 0.167 & 21 & 0 & 1 & 0 & 0 & 0\\\\\n",
       "\t 0 & 137 & 40 & 35 & 168 & 43.1 & 2.288 & 33 & 1 & 1 & 1 & 0 & 1\\\\\n",
       "\t 5 & 116 & 74 & 22 & 105 & 25.6 & 0.201 & 30 & 1 & 1 & 0 & 0 & 0\\\\\n",
       "\\end{tabular}\n"
      ],
      "text/markdown": [
       "\n",
       "A data.table: 6 × 13\n",
       "\n",
       "| Pregnancies &lt;int&gt; | Glucose &lt;int&gt; | BloodPressure &lt;int&gt; | SkinThickness &lt;int&gt; | Insulin &lt;int&gt; | BMI &lt;dbl&gt; | DiabetesPedigreeFunction &lt;dbl&gt; | Age &lt;int&gt; | D1 &lt;dbl&gt; | D2 &lt;dbl&gt; | D3 &lt;dbl&gt; | D4 &lt;dbl&gt; | Outcome &lt;int&gt; |\n",
       "|---|---|---|---|---|---|---|---|---|---|---|---|---|\n",
       "| 6 | 148 | 72 | 35 | 169 | 33.6 | 0.627 | 50 | 1 | 1 | 1 | 1 | 1 |\n",
       "| 1 |  85 | 66 | 29 | 105 | 26.6 | 0.351 | 31 | 1 | 1 | 0 | 0 | 0 |\n",
       "| 8 | 183 | 64 | 20 | 169 | 23.3 | 0.672 | 32 | 1 | 0 | 1 | 1 | 1 |\n",
       "| 1 |  89 | 66 | 23 |  94 | 28.1 | 0.167 | 21 | 0 | 1 | 0 | 0 | 0 |\n",
       "| 0 | 137 | 40 | 35 | 168 | 43.1 | 2.288 | 33 | 1 | 1 | 1 | 0 | 1 |\n",
       "| 5 | 116 | 74 | 22 | 105 | 25.6 | 0.201 | 30 | 1 | 1 | 0 | 0 | 0 |\n",
       "\n"
      ],
      "text/plain": [
       "  Pregnancies Glucose BloodPressure SkinThickness Insulin BMI \n",
       "1 6           148     72            35            169     33.6\n",
       "2 1            85     66            29            105     26.6\n",
       "3 8           183     64            20            169     23.3\n",
       "4 1            89     66            23             94     28.1\n",
       "5 0           137     40            35            168     43.1\n",
       "6 5           116     74            22            105     25.6\n",
       "  DiabetesPedigreeFunction Age D1 D2 D3 D4 Outcome\n",
       "1 0.627                    50  1  1  1  1  1      \n",
       "2 0.351                    31  1  1  0  0  0      \n",
       "3 0.672                    32  1  0  1  1  1      \n",
       "4 0.167                    21  0  1  0  0  0      \n",
       "5 2.288                    33  1  1  1  0  1      \n",
       "6 0.201                    30  1  1  0  0  0      "
      ]
     },
     "metadata": {},
     "output_type": "display_data"
    }
   ],
   "source": [
    "#전처리 끝 최종 dataset\n",
    "head(data)"
   ]
  },
  {
   "cell_type": "markdown",
   "metadata": {},
   "source": [
    "# 학습 모델용 데이터 분할 및 처리"
   ]
  },
  {
   "cell_type": "code",
   "execution_count": 228,
   "metadata": {},
   "outputs": [
    {
     "ename": "ERROR",
     "evalue": "Error in value[[3L]](cond): Package 'lubridate' version 1.7.9 cannot be unloaded:\n Error in unloadNamespace(package) : namespace 'lubridate' is imported by 'tidyverse' so cannot be unloaded\n\n",
     "output_type": "error",
     "traceback": [
      "Error in value[[3L]](cond): Package 'lubridate' version 1.7.9 cannot be unloaded:\n Error in unloadNamespace(package) : namespace 'lubridate' is imported by 'tidyverse' so cannot be unloaded\n\nTraceback:\n",
      "1. library(lubridate)",
      "2. tryCatch(unloadNamespace(package), error = function(e) {\n .     P <- if (!is.null(cc <- conditionCall(e))) \n .         paste(\"Error in\", deparse(cc)[1L], \": \")\n .     else \"Error : \"\n .     stop(gettextf(\"Package %s version %s cannot be unloaded:\\n %s\", \n .         sQuote(package), oldversion, paste0(P, conditionMessage(e), \n .             \"\\n\")), domain = NA)\n . })",
      "3. tryCatchList(expr, classes, parentenv, handlers)",
      "4. tryCatchOne(expr, names, parentenv, handlers[[1L]])",
      "5. value[[3L]](cond)",
      "6. stop(gettextf(\"Package %s version %s cannot be unloaded:\\n %s\", \n .     sQuote(package), oldversion, paste0(P, conditionMessage(e), \n .         \"\\n\")), domain = NA)"
     ]
    }
   ],
   "source": [
    "library(lubridate)"
   ]
  },
  {
   "cell_type": "code",
   "execution_count": 151,
   "metadata": {
    "collapsed": true
   },
   "outputs": [
    {
     "data": {
      "text/html": [
       "<table>\n",
       "<caption>A data.table: 764 × 13</caption>\n",
       "<thead>\n",
       "\t<tr><th scope=col>Pregnancies</th><th scope=col>Glucose</th><th scope=col>BloodPressure</th><th scope=col>SkinThickness</th><th scope=col>Insulin</th><th scope=col>BMI</th><th scope=col>DiabetesPedigreeFunction</th><th scope=col>Age</th><th scope=col>D1</th><th scope=col>D2</th><th scope=col>D3</th><th scope=col>D4</th><th scope=col>Outcome</th></tr>\n",
       "\t<tr><th scope=col>&lt;dbl&gt;</th><th scope=col>&lt;dbl&gt;</th><th scope=col>&lt;dbl&gt;</th><th scope=col>&lt;dbl&gt;</th><th scope=col>&lt;dbl&gt;</th><th scope=col>&lt;dbl&gt;</th><th scope=col>&lt;dbl&gt;</th><th scope=col>&lt;dbl&gt;</th><th scope=col>&lt;dbl&gt;</th><th scope=col>&lt;dbl&gt;</th><th scope=col>&lt;dbl&gt;</th><th scope=col>&lt;dbl&gt;</th><th scope=col>&lt;fct&gt;</th></tr>\n",
       "</thead>\n",
       "<tbody>\n",
       "\t<tr><td> 0.6397165</td><td> 0.86935618</td><td>-0.02746393</td><td> 0.6938222</td><td> 0.29785633</td><td> 0.16417589</td><td> 0.46835679</td><td> 1.480647754</td><td>1</td><td>1</td><td>1</td><td>1</td><td>1</td></tr>\n",
       "\t<tr><td>-0.8431215</td><td>-1.19945879</td><td>-0.52116855</td><td> 0.0423513</td><td>-0.42202816</td><td>-0.85419942</td><td>-0.36344998</td><td>-0.178281144</td><td>1</td><td>1</td><td>0</td><td>0</td><td>0</td></tr>\n",
       "\t<tr><td> 1.2328518</td><td> 2.01869783</td><td>-0.68573676</td><td>-0.9348551</td><td> 0.29785633</td><td>-1.33429064</td><td> 0.60397746</td><td>-0.090969096</td><td>1</td><td>0</td><td>1</td><td>1</td><td>1</td></tr>\n",
       "\t<tr><td>-0.8431215</td><td>-1.06810546</td><td>-0.52116855</td><td>-0.6091197</td><td>-0.54575831</td><td>-0.63597614</td><td>-0.91798783</td><td>-1.051401616</td><td>0</td><td>1</td><td>0</td><td>0</td><td>0</td></tr>\n",
       "\t<tr><td>-1.1396892</td><td> 0.50813452</td><td>-2.66055524</td><td> 0.6938222</td><td> 0.28660814</td><td> 1.54625666</td><td> 5.47426641</td><td>-0.003657049</td><td>1</td><td>1</td><td>1</td><td>0</td><td>1</td></tr>\n",
       "\t<tr><td> 0.3431489</td><td>-0.18147047</td><td> 0.13710427</td><td>-0.7176981</td><td>-0.42202816</td><td>-0.99968161</td><td>-0.81551888</td><td>-0.265593191</td><td>1</td><td>1</td><td>0</td><td>0</td><td>0</td></tr>\n",
       "\t<tr><td>-0.2499863</td><td>-1.42932712</td><td>-1.83771420</td><td> 0.3680868</td><td>-0.61324748</td><td>-0.21407780</td><td>-0.67387063</td><td>-0.614841380</td><td>0</td><td>1</td><td>0</td><td>0</td><td>1</td></tr>\n",
       "\t<tr><td> 1.8259870</td><td>-0.21430881</td><td>-0.35660035</td><td> 0.2595083</td><td>-0.42202816</td><td> 0.41149560</td><td>-1.01744299</td><td>-0.352905238</td><td>0</td><td>1</td><td>0</td><td>1</td><td>0</td></tr>\n",
       "\t<tr><td>-0.5465539</td><td> 2.47843448</td><td>-0.19203214</td><td> 1.7796072</td><td> 4.50468135</td><td>-0.28681889</td><td>-0.94511197</td><td> 1.742583895</td><td>1</td><td>1</td><td>1</td><td>1</td><td>1</td></tr>\n",
       "\t<tr><td> 1.2328518</td><td> 0.11407452</td><td> 1.94735454</td><td>-0.0662272</td><td> 0.29785633</td><td>-0.08314383</td><td>-0.72209131</td><td> 1.829895943</td><td>1</td><td>1</td><td>0</td><td>1</td><td>1</td></tr>\n",
       "\t<tr><td> 0.0465813</td><td>-0.37850047</td><td> 1.61821813</td><td> 0.5852438</td><td>-0.42202816</td><td> 0.74610463</td><td>-0.84565681</td><td>-0.265593191</td><td>1</td><td>1</td><td>0</td><td>0</td><td>0</td></tr>\n",
       "\t<tr><td> 1.8259870</td><td> 1.52612283</td><td> 0.13710427</td><td> 0.5852438</td><td> 0.29785633</td><td> 0.80429751</td><td> 0.19711545</td><td> 0.083654998</td><td>1</td><td>1</td><td>1</td><td>1</td><td>1</td></tr>\n",
       "\t<tr><td> 1.8259870</td><td> 0.57381118</td><td> 0.63080889</td><td>-0.6091197</td><td>-0.42202816</td><td>-0.78145833</td><td> 2.92158402</td><td> 2.091832084</td><td>1</td><td>1</td><td>1</td><td>1</td><td>0</td></tr>\n",
       "\t<tr><td>-0.8431215</td><td> 2.21572782</td><td>-1.01487317</td><td>-0.6091197</td><td> 7.91288451</td><td>-0.34501177</td><td>-0.22180173</td><td> 2.266456179</td><td>1</td><td>1</td><td>1</td><td>1</td><td>1</td></tr>\n",
       "\t<tr><td> 0.3431489</td><td> 1.46044617</td><td>-0.02746393</td><td>-1.0434336</td><td> 0.36534550</td><td>-0.97058517</td><td> 0.34780509</td><td> 1.567959801</td><td>1</td><td>1</td><td>1</td><td>1</td><td>1</td></tr>\n",
       "\t<tr><td> 0.9362842</td><td>-0.70688380</td><td> 0.13710427</td><td>-0.2833842</td><td> 0.29785633</td><td>-0.35955999</td><td> 0.03738444</td><td>-0.090969096</td><td>1</td><td>1</td><td>0</td><td>1</td><td>1</td></tr>\n",
       "\t<tr><td>-1.1396892</td><td>-0.11579381</td><td> 0.95994530</td><td> 1.9967642</td><td> 0.98399624</td><td> 1.93905857</td><td> 0.23930855</td><td>-0.178281144</td><td>1</td><td>1</td><td>0</td><td>0</td><td>1</td></tr>\n",
       "\t<tr><td> 0.9362842</td><td>-0.47701547</td><td> 0.13710427</td><td>-0.2833842</td><td> 0.29785633</td><td>-0.41775286</td><td>-0.65578787</td><td>-0.178281144</td><td>1</td><td>1</td><td>0</td><td>1</td><td>1</td></tr>\n",
       "\t<tr><td>-0.8431215</td><td>-0.60836880</td><td>-3.48339627</td><td> 1.0195577</td><td>-0.66948846</td><td> 1.57535310</td><td>-0.86976715</td><td>-0.003657049</td><td>1</td><td>1</td><td>0</td><td>0</td><td>0</td></tr>\n",
       "\t<tr><td>-0.8431215</td><td>-0.21430881</td><td>-0.19203214</td><td> 0.1509298</td><td>-0.52326192</td><td> 0.30965807</td><td> 0.17300511</td><td>-0.090969096</td><td>1</td><td>1</td><td>0</td><td>0</td><td>1</td></tr>\n",
       "\t<tr><td>-0.2499863</td><td> 0.14691286</td><td> 1.28908172</td><td> 1.3452932</td><td> 1.04023722</td><td> 0.99342435</td><td> 0.70041883</td><td>-0.527529332</td><td>0</td><td>1</td><td>1</td><td>0</td><td>0</td></tr>\n",
       "\t<tr><td> 1.2328518</td><td>-0.73972213</td><td> 0.95994530</td><td> 0.3680868</td><td>-0.42202816</td><td> 0.42604382</td><td>-0.25193965</td><td> 1.480647754</td><td>1</td><td>1</td><td>0</td><td>1</td><td>0</td></tr>\n",
       "\t<tr><td> 0.9362842</td><td> 2.44559615</td><td> 1.45364992</td><td> 0.8024007</td><td> 0.29785633</td><td> 1.06616545</td><td>-0.06207072</td><td> 0.694839329</td><td>1</td><td>1</td><td>1</td><td>1</td><td>1</td></tr>\n",
       "\t<tr><td> 1.5294194</td><td>-0.08295547</td><td> 0.63080889</td><td> 0.6938222</td><td> 0.29785633</td><td>-0.50504217</td><td>-0.62866374</td><td>-0.352905238</td><td>0</td><td>1</td><td>0</td><td>1</td><td>1</td></tr>\n",
       "\t<tr><td> 2.1225546</td><td> 0.70516451</td><td> 1.78278633</td><td> 0.4766653</td><td> 0.03914784</td><td> 0.60062245</td><td>-0.65578787</td><td> 1.567959801</td><td>1</td><td>1</td><td>1</td><td>1</td><td>1</td></tr>\n",
       "\t<tr><td> 1.8259870</td><td> 0.11407452</td><td>-0.19203214</td><td>-0.2833842</td><td>-0.30954621</td><td>-0.19952958</td><td>-0.80346371</td><td> 0.694839329</td><td>1</td><td>1</td><td>0</td><td>1</td><td>1</td></tr>\n",
       "\t<tr><td> 0.9362842</td><td> 0.83651784</td><td> 0.30167248</td><td> 0.6938222</td><td> 0.29785633</td><td> 1.00797257</td><td>-0.64674649</td><td> 0.869463423</td><td>1</td><td>1</td><td>1</td><td>1</td><td>1</td></tr>\n",
       "\t<tr><td>-0.8431215</td><td>-0.80539880</td><td>-0.52116855</td><td>-1.4777476</td><td>-0.02834133</td><td>-1.34883886</td><td> 0.04642582</td><td>-0.964089569</td><td>0</td><td>0</td><td>0</td><td>0</td><td>0</td></tr>\n",
       "\t<tr><td> 2.7156898</td><td> 0.77084118</td><td> 0.79537710</td><td>-1.0434336</td><td>-0.36578719</td><td>-1.49432105</td><td>-0.68291201</td><td> 2.091832084</td><td>1</td><td>0</td><td>1</td><td>1</td><td>0</td></tr>\n",
       "\t<tr><td> 0.3431489</td><td>-0.14863214</td><td> 1.61821813</td><td> 0.1509298</td><td>-0.42202816</td><td> 0.23691698</td><td>-0.40564308</td><td> 0.432903187</td><td>1</td><td>1</td><td>0</td><td>1</td><td>0</td></tr>\n",
       "\t<tr><td>...</td><td>...</td><td>...</td><td>...</td><td>...</td><td>...</td><td>...</td><td>...</td><td>...</td><td>...</td><td>...</td><td>...</td><td>...</td></tr>\n",
       "\t<tr><td>-0.5465539</td><td>-0.73972213</td><td>-1.01487317</td><td>-1.2605906</td><td> 0.19662258</td><td> 0.60062245</td><td>-0.05604313</td><td>-1.051401616</td><td>0</td><td>1</td><td>0</td><td>0</td><td>0</td></tr>\n",
       "\t<tr><td>-0.8431215</td><td>-0.64120713</td><td> 0.13710427</td><td> 0.8024007</td><td> 0.29785633</td><td> 1.02252079</td><td>-0.53824996</td><td> 0.782151376</td><td>1</td><td>1</td><td>0</td><td>1</td><td>1</td></tr>\n",
       "\t<tr><td> 2.1225546</td><td>-0.05011714</td><td> 0.63080889</td><td> 0.9109792</td><td> 0.08414062</td><td> 1.42987091</td><td> 0.94453603</td><td> 1.306023659</td><td>1</td><td>1</td><td>0</td><td>1</td><td>1</td></tr>\n",
       "\t<tr><td>-0.2499863</td><td>-0.64120713</td><td>-2.33141882</td><td>-0.9348551</td><td>-0.54575831</td><td>-0.24317424</td><td>-0.21577414</td><td>-0.614841380</td><td>0</td><td>1</td><td>0</td><td>0</td><td>0</td></tr>\n",
       "\t<tr><td>-0.8431215</td><td>-0.41133880</td><td>-1.17944138</td><td>-1.1520121</td><td>-0.29829802</td><td>-0.57778327</td><td>-0.76127061</td><td>-0.964089569</td><td>0</td><td>1</td><td>0</td><td>0</td><td>0</td></tr>\n",
       "\t<tr><td> 1.5294194</td><td> 0.60664951</td><td> 1.78278633</td><td> 0.0423513</td><td> 0.29785633</td><td> 0.03324192</td><td> 0.79083261</td><td> 1.044087518</td><td>1</td><td>1</td><td>1</td><td>1</td><td>1</td></tr>\n",
       "\t<tr><td> 2.7156898</td><td> 1.03354784</td><td> 1.28908172</td><td> 0.9109792</td><td>-0.02834133</td><td> 1.18255120</td><td> 2.11690138</td><td> 0.520215234</td><td>1</td><td>1</td><td>1</td><td>1</td><td>0</td></tr>\n",
       "\t<tr><td> 2.4191222</td><td>-0.70688380</td><td> 0.95994530</td><td> 0.4766653</td><td>-0.42202816</td><td>-0.35955999</td><td> 0.04943961</td><td> 1.131399565</td><td>1</td><td>1</td><td>0</td><td>1</td><td>0</td></tr>\n",
       "\t<tr><td>-0.8431215</td><td> 0.83651784</td><td> 1.78278633</td><td> 1.3452932</td><td> 0.29785633</td><td> 2.44824622</td><td>-0.34235343</td><td>-0.527529332</td><td>0</td><td>1</td><td>1</td><td>0</td><td>1</td></tr>\n",
       "\t<tr><td>-0.8431215</td><td>-1.33081212</td><td> 0.13710427</td><td> 1.3452932</td><td>-0.96194153</td><td> 2.01179966</td><td> 1.88182555</td><td>-0.090969096</td><td>1</td><td>1</td><td>0</td><td>0</td><td>0</td></tr>\n",
       "\t<tr><td>-0.2499863</td><td> 2.15005116</td><td>-0.19203214</td><td>-0.7176981</td><td> 0.64655038</td><td> 0.57152601</td><td>-0.19166380</td><td> 0.258279093</td><td>1</td><td>1</td><td>1</td><td>1</td><td>1</td></tr>\n",
       "\t<tr><td> 0.6397165</td><td> 1.32909284</td><td>-0.85030497</td><td>-0.8262766</td><td> 0.29785633</td><td>-1.18880845</td><td>-0.88483611</td><td> 1.480647754</td><td>1</td><td>0</td><td>1</td><td>1</td><td>1</td></tr>\n",
       "\t<tr><td> 0.0465813</td><td> 0.47529618</td><td>-0.19203214</td><td>-0.1748057</td><td> 0.29785633</td><td>-0.18498136</td><td> 2.14101172</td><td>-0.964089569</td><td>0</td><td>1</td><td>1</td><td>0</td><td>1</td></tr>\n",
       "\t<tr><td>-0.8431215</td><td>-0.01727881</td><td> 0.46624068</td><td> 1.1281362</td><td>-0.77072222</td><td> 0.94977970</td><td>-0.63469132</td><td>-0.440217285</td><td>0</td><td>1</td><td>0</td><td>0</td><td>0</td></tr>\n",
       "\t<tr><td>-0.2499863</td><td>-0.44417714</td><td>-0.85030497</td><td>-0.5005412</td><td>-0.42202816</td><td>-0.94148874</td><td>-0.74921544</td><td>-0.702153427</td><td>0</td><td>1</td><td>0</td><td>0</td><td>0</td></tr>\n",
       "\t<tr><td>-1.1396892</td><td> 1.95302116</td><td> 1.28908172</td><td> 1.6710287</td><td> 4.13349091</td><td> 1.57535310</td><td>-0.75222924</td><td>-0.614841380</td><td>0</td><td>1</td><td>1</td><td>0</td><td>1</td></tr>\n",
       "\t<tr><td> 1.2328518</td><td> 1.06638617</td><td> 0.46624068</td><td> 0.3680868</td><td> 0.29785633</td><td>-0.01040274</td><td>-0.08618106</td><td> 1.044087518</td><td>1</td><td>1</td><td>1</td><td>1</td><td>1</td></tr>\n",
       "\t<tr><td>-0.8431215</td><td> 0.21258952</td><td> 1.28908172</td><td> 1.1281362</td><td>-0.36578719</td><td> 0.58607423</td><td> 1.76428764</td><td> 0.345591140</td><td>1</td><td>1</td><td>1</td><td>1</td><td>1</td></tr>\n",
       "\t<tr><td> 0.9362842</td><td> 0.50813452</td><td> 1.45364992</td><td> 1.3452932</td><td>-0.42202816</td><td>-0.06859561</td><td>-0.24289828</td><td> 0.520215234</td><td>1</td><td>1</td><td>1</td><td>1</td><td>0</td></tr>\n",
       "\t<tr><td>-1.1396892</td><td> 0.04839786</td><td>-0.02746393</td><td> 0.3680868</td><td> 0.29785633</td><td> 0.55697779</td><td>-0.64373270</td><td> 1.655271848</td><td>1</td><td>1</td><td>0</td><td>1</td><td>1</td></tr>\n",
       "\t<tr><td>-0.8431215</td><td>-0.50985380</td><td> 0.30167248</td><td> 0.5852438</td><td>-0.42202816</td><td> 0.73155642</td><td>-0.82757405</td><td>-0.614841380</td><td>0</td><td>1</td><td>0</td><td>0</td><td>0</td></tr>\n",
       "\t<tr><td> 0.6397165</td><td> 2.24856615</td><td> 1.61821813</td><td> 0.3680868</td><td> 0.29785633</td><td> 0.44059204</td><td>-0.58345685</td><td> 2.877640509</td><td>0</td><td>1</td><td>1</td><td>1</td><td>1</td></tr>\n",
       "\t<tr><td>-0.5465539</td><td>-1.10094379</td><td>-1.17944138</td><td>-0.2833842</td><td>-1.42311754</td><td>-0.59233149</td><td> 0.88727397</td><td>-0.964089569</td><td>0</td><td>1</td><td>0</td><td>0</td><td>0</td></tr>\n",
       "\t<tr><td> 1.5294194</td><td> 1.59179950</td><td> 0.13710427</td><td> 0.2595083</td><td> 0.29785633</td><td> 1.67719063</td><td>-0.20673276</td><td> 0.869463423</td><td>1</td><td>1</td><td>1</td><td>1</td><td>1</td></tr>\n",
       "\t<tr><td> 1.5294194</td><td>-1.06810546</td><td>-0.85030497</td><td>-1.0434336</td><td>-0.42202816</td><td>-1.45067639</td><td>-0.99333265</td><td>-0.003657049</td><td>1</td><td>0</td><td>0</td><td>1</td><td>0</td></tr>\n",
       "\t<tr><td> 1.8259870</td><td>-0.67404546</td><td> 0.30167248</td><td> 2.1053426</td><td> 0.42158648</td><td> 0.06233836</td><td>-0.90593266</td><td> 2.615704368</td><td>0</td><td>1</td><td>0</td><td>1</td><td>0</td></tr>\n",
       "\t<tr><td>-0.5465539</td><td> 0.01555952</td><td>-0.19203214</td><td>-0.1748057</td><td>-0.42202816</td><td> 0.62971889</td><td>-0.39660170</td><td>-0.527529332</td><td>0</td><td>1</td><td>0</td><td>0</td><td>0</td></tr>\n",
       "\t<tr><td> 0.3431489</td><td>-0.01727881</td><td>-0.02746393</td><td>-0.6091197</td><td>-0.34329080</td><td>-0.91239230</td><td>-0.68291201</td><td>-0.265593191</td><td>1</td><td>1</td><td>0</td><td>0</td><td>0</td></tr>\n",
       "\t<tr><td>-0.8431215</td><td> 0.14691286</td><td>-1.01487317</td><td>-0.2833842</td><td> 0.29785633</td><td>-0.34501177</td><td>-0.36947757</td><td> 1.218711612</td><td>1</td><td>1</td><td>1</td><td>1</td><td>1</td></tr>\n",
       "\t<tr><td>-0.8431215</td><td>-0.93675213</td><td>-0.19203214</td><td> 0.2595083</td><td>-0.42202816</td><td>-0.30136711</td><td>-0.47194652</td><td>-0.876777521</td><td>0</td><td>1</td><td>0</td><td>0</td><td>0</td></tr>\n",
       "</tbody>\n",
       "</table>\n"
      ],
      "text/latex": [
       "A data.table: 764 × 13\n",
       "\\begin{tabular}{lllllllllllll}\n",
       " Pregnancies & Glucose & BloodPressure & SkinThickness & Insulin & BMI & DiabetesPedigreeFunction & Age & D1 & D2 & D3 & D4 & Outcome\\\\\n",
       " <dbl> & <dbl> & <dbl> & <dbl> & <dbl> & <dbl> & <dbl> & <dbl> & <dbl> & <dbl> & <dbl> & <dbl> & <fct>\\\\\n",
       "\\hline\n",
       "\t  0.6397165 &  0.86935618 & -0.02746393 &  0.6938222 &  0.29785633 &  0.16417589 &  0.46835679 &  1.480647754 & 1 & 1 & 1 & 1 & 1\\\\\n",
       "\t -0.8431215 & -1.19945879 & -0.52116855 &  0.0423513 & -0.42202816 & -0.85419942 & -0.36344998 & -0.178281144 & 1 & 1 & 0 & 0 & 0\\\\\n",
       "\t  1.2328518 &  2.01869783 & -0.68573676 & -0.9348551 &  0.29785633 & -1.33429064 &  0.60397746 & -0.090969096 & 1 & 0 & 1 & 1 & 1\\\\\n",
       "\t -0.8431215 & -1.06810546 & -0.52116855 & -0.6091197 & -0.54575831 & -0.63597614 & -0.91798783 & -1.051401616 & 0 & 1 & 0 & 0 & 0\\\\\n",
       "\t -1.1396892 &  0.50813452 & -2.66055524 &  0.6938222 &  0.28660814 &  1.54625666 &  5.47426641 & -0.003657049 & 1 & 1 & 1 & 0 & 1\\\\\n",
       "\t  0.3431489 & -0.18147047 &  0.13710427 & -0.7176981 & -0.42202816 & -0.99968161 & -0.81551888 & -0.265593191 & 1 & 1 & 0 & 0 & 0\\\\\n",
       "\t -0.2499863 & -1.42932712 & -1.83771420 &  0.3680868 & -0.61324748 & -0.21407780 & -0.67387063 & -0.614841380 & 0 & 1 & 0 & 0 & 1\\\\\n",
       "\t  1.8259870 & -0.21430881 & -0.35660035 &  0.2595083 & -0.42202816 &  0.41149560 & -1.01744299 & -0.352905238 & 0 & 1 & 0 & 1 & 0\\\\\n",
       "\t -0.5465539 &  2.47843448 & -0.19203214 &  1.7796072 &  4.50468135 & -0.28681889 & -0.94511197 &  1.742583895 & 1 & 1 & 1 & 1 & 1\\\\\n",
       "\t  1.2328518 &  0.11407452 &  1.94735454 & -0.0662272 &  0.29785633 & -0.08314383 & -0.72209131 &  1.829895943 & 1 & 1 & 0 & 1 & 1\\\\\n",
       "\t  0.0465813 & -0.37850047 &  1.61821813 &  0.5852438 & -0.42202816 &  0.74610463 & -0.84565681 & -0.265593191 & 1 & 1 & 0 & 0 & 0\\\\\n",
       "\t  1.8259870 &  1.52612283 &  0.13710427 &  0.5852438 &  0.29785633 &  0.80429751 &  0.19711545 &  0.083654998 & 1 & 1 & 1 & 1 & 1\\\\\n",
       "\t  1.8259870 &  0.57381118 &  0.63080889 & -0.6091197 & -0.42202816 & -0.78145833 &  2.92158402 &  2.091832084 & 1 & 1 & 1 & 1 & 0\\\\\n",
       "\t -0.8431215 &  2.21572782 & -1.01487317 & -0.6091197 &  7.91288451 & -0.34501177 & -0.22180173 &  2.266456179 & 1 & 1 & 1 & 1 & 1\\\\\n",
       "\t  0.3431489 &  1.46044617 & -0.02746393 & -1.0434336 &  0.36534550 & -0.97058517 &  0.34780509 &  1.567959801 & 1 & 1 & 1 & 1 & 1\\\\\n",
       "\t  0.9362842 & -0.70688380 &  0.13710427 & -0.2833842 &  0.29785633 & -0.35955999 &  0.03738444 & -0.090969096 & 1 & 1 & 0 & 1 & 1\\\\\n",
       "\t -1.1396892 & -0.11579381 &  0.95994530 &  1.9967642 &  0.98399624 &  1.93905857 &  0.23930855 & -0.178281144 & 1 & 1 & 0 & 0 & 1\\\\\n",
       "\t  0.9362842 & -0.47701547 &  0.13710427 & -0.2833842 &  0.29785633 & -0.41775286 & -0.65578787 & -0.178281144 & 1 & 1 & 0 & 1 & 1\\\\\n",
       "\t -0.8431215 & -0.60836880 & -3.48339627 &  1.0195577 & -0.66948846 &  1.57535310 & -0.86976715 & -0.003657049 & 1 & 1 & 0 & 0 & 0\\\\\n",
       "\t -0.8431215 & -0.21430881 & -0.19203214 &  0.1509298 & -0.52326192 &  0.30965807 &  0.17300511 & -0.090969096 & 1 & 1 & 0 & 0 & 1\\\\\n",
       "\t -0.2499863 &  0.14691286 &  1.28908172 &  1.3452932 &  1.04023722 &  0.99342435 &  0.70041883 & -0.527529332 & 0 & 1 & 1 & 0 & 0\\\\\n",
       "\t  1.2328518 & -0.73972213 &  0.95994530 &  0.3680868 & -0.42202816 &  0.42604382 & -0.25193965 &  1.480647754 & 1 & 1 & 0 & 1 & 0\\\\\n",
       "\t  0.9362842 &  2.44559615 &  1.45364992 &  0.8024007 &  0.29785633 &  1.06616545 & -0.06207072 &  0.694839329 & 1 & 1 & 1 & 1 & 1\\\\\n",
       "\t  1.5294194 & -0.08295547 &  0.63080889 &  0.6938222 &  0.29785633 & -0.50504217 & -0.62866374 & -0.352905238 & 0 & 1 & 0 & 1 & 1\\\\\n",
       "\t  2.1225546 &  0.70516451 &  1.78278633 &  0.4766653 &  0.03914784 &  0.60062245 & -0.65578787 &  1.567959801 & 1 & 1 & 1 & 1 & 1\\\\\n",
       "\t  1.8259870 &  0.11407452 & -0.19203214 & -0.2833842 & -0.30954621 & -0.19952958 & -0.80346371 &  0.694839329 & 1 & 1 & 0 & 1 & 1\\\\\n",
       "\t  0.9362842 &  0.83651784 &  0.30167248 &  0.6938222 &  0.29785633 &  1.00797257 & -0.64674649 &  0.869463423 & 1 & 1 & 1 & 1 & 1\\\\\n",
       "\t -0.8431215 & -0.80539880 & -0.52116855 & -1.4777476 & -0.02834133 & -1.34883886 &  0.04642582 & -0.964089569 & 0 & 0 & 0 & 0 & 0\\\\\n",
       "\t  2.7156898 &  0.77084118 &  0.79537710 & -1.0434336 & -0.36578719 & -1.49432105 & -0.68291201 &  2.091832084 & 1 & 0 & 1 & 1 & 0\\\\\n",
       "\t  0.3431489 & -0.14863214 &  1.61821813 &  0.1509298 & -0.42202816 &  0.23691698 & -0.40564308 &  0.432903187 & 1 & 1 & 0 & 1 & 0\\\\\n",
       "\t ... & ... & ... & ... & ... & ... & ... & ... & ... & ... & ... & ... & ...\\\\\n",
       "\t -0.5465539 & -0.73972213 & -1.01487317 & -1.2605906 &  0.19662258 &  0.60062245 & -0.05604313 & -1.051401616 & 0 & 1 & 0 & 0 & 0\\\\\n",
       "\t -0.8431215 & -0.64120713 &  0.13710427 &  0.8024007 &  0.29785633 &  1.02252079 & -0.53824996 &  0.782151376 & 1 & 1 & 0 & 1 & 1\\\\\n",
       "\t  2.1225546 & -0.05011714 &  0.63080889 &  0.9109792 &  0.08414062 &  1.42987091 &  0.94453603 &  1.306023659 & 1 & 1 & 0 & 1 & 1\\\\\n",
       "\t -0.2499863 & -0.64120713 & -2.33141882 & -0.9348551 & -0.54575831 & -0.24317424 & -0.21577414 & -0.614841380 & 0 & 1 & 0 & 0 & 0\\\\\n",
       "\t -0.8431215 & -0.41133880 & -1.17944138 & -1.1520121 & -0.29829802 & -0.57778327 & -0.76127061 & -0.964089569 & 0 & 1 & 0 & 0 & 0\\\\\n",
       "\t  1.5294194 &  0.60664951 &  1.78278633 &  0.0423513 &  0.29785633 &  0.03324192 &  0.79083261 &  1.044087518 & 1 & 1 & 1 & 1 & 1\\\\\n",
       "\t  2.7156898 &  1.03354784 &  1.28908172 &  0.9109792 & -0.02834133 &  1.18255120 &  2.11690138 &  0.520215234 & 1 & 1 & 1 & 1 & 0\\\\\n",
       "\t  2.4191222 & -0.70688380 &  0.95994530 &  0.4766653 & -0.42202816 & -0.35955999 &  0.04943961 &  1.131399565 & 1 & 1 & 0 & 1 & 0\\\\\n",
       "\t -0.8431215 &  0.83651784 &  1.78278633 &  1.3452932 &  0.29785633 &  2.44824622 & -0.34235343 & -0.527529332 & 0 & 1 & 1 & 0 & 1\\\\\n",
       "\t -0.8431215 & -1.33081212 &  0.13710427 &  1.3452932 & -0.96194153 &  2.01179966 &  1.88182555 & -0.090969096 & 1 & 1 & 0 & 0 & 0\\\\\n",
       "\t -0.2499863 &  2.15005116 & -0.19203214 & -0.7176981 &  0.64655038 &  0.57152601 & -0.19166380 &  0.258279093 & 1 & 1 & 1 & 1 & 1\\\\\n",
       "\t  0.6397165 &  1.32909284 & -0.85030497 & -0.8262766 &  0.29785633 & -1.18880845 & -0.88483611 &  1.480647754 & 1 & 0 & 1 & 1 & 1\\\\\n",
       "\t  0.0465813 &  0.47529618 & -0.19203214 & -0.1748057 &  0.29785633 & -0.18498136 &  2.14101172 & -0.964089569 & 0 & 1 & 1 & 0 & 1\\\\\n",
       "\t -0.8431215 & -0.01727881 &  0.46624068 &  1.1281362 & -0.77072222 &  0.94977970 & -0.63469132 & -0.440217285 & 0 & 1 & 0 & 0 & 0\\\\\n",
       "\t -0.2499863 & -0.44417714 & -0.85030497 & -0.5005412 & -0.42202816 & -0.94148874 & -0.74921544 & -0.702153427 & 0 & 1 & 0 & 0 & 0\\\\\n",
       "\t -1.1396892 &  1.95302116 &  1.28908172 &  1.6710287 &  4.13349091 &  1.57535310 & -0.75222924 & -0.614841380 & 0 & 1 & 1 & 0 & 1\\\\\n",
       "\t  1.2328518 &  1.06638617 &  0.46624068 &  0.3680868 &  0.29785633 & -0.01040274 & -0.08618106 &  1.044087518 & 1 & 1 & 1 & 1 & 1\\\\\n",
       "\t -0.8431215 &  0.21258952 &  1.28908172 &  1.1281362 & -0.36578719 &  0.58607423 &  1.76428764 &  0.345591140 & 1 & 1 & 1 & 1 & 1\\\\\n",
       "\t  0.9362842 &  0.50813452 &  1.45364992 &  1.3452932 & -0.42202816 & -0.06859561 & -0.24289828 &  0.520215234 & 1 & 1 & 1 & 1 & 0\\\\\n",
       "\t -1.1396892 &  0.04839786 & -0.02746393 &  0.3680868 &  0.29785633 &  0.55697779 & -0.64373270 &  1.655271848 & 1 & 1 & 0 & 1 & 1\\\\\n",
       "\t -0.8431215 & -0.50985380 &  0.30167248 &  0.5852438 & -0.42202816 &  0.73155642 & -0.82757405 & -0.614841380 & 0 & 1 & 0 & 0 & 0\\\\\n",
       "\t  0.6397165 &  2.24856615 &  1.61821813 &  0.3680868 &  0.29785633 &  0.44059204 & -0.58345685 &  2.877640509 & 0 & 1 & 1 & 1 & 1\\\\\n",
       "\t -0.5465539 & -1.10094379 & -1.17944138 & -0.2833842 & -1.42311754 & -0.59233149 &  0.88727397 & -0.964089569 & 0 & 1 & 0 & 0 & 0\\\\\n",
       "\t  1.5294194 &  1.59179950 &  0.13710427 &  0.2595083 &  0.29785633 &  1.67719063 & -0.20673276 &  0.869463423 & 1 & 1 & 1 & 1 & 1\\\\\n",
       "\t  1.5294194 & -1.06810546 & -0.85030497 & -1.0434336 & -0.42202816 & -1.45067639 & -0.99333265 & -0.003657049 & 1 & 0 & 0 & 1 & 0\\\\\n",
       "\t  1.8259870 & -0.67404546 &  0.30167248 &  2.1053426 &  0.42158648 &  0.06233836 & -0.90593266 &  2.615704368 & 0 & 1 & 0 & 1 & 0\\\\\n",
       "\t -0.5465539 &  0.01555952 & -0.19203214 & -0.1748057 & -0.42202816 &  0.62971889 & -0.39660170 & -0.527529332 & 0 & 1 & 0 & 0 & 0\\\\\n",
       "\t  0.3431489 & -0.01727881 & -0.02746393 & -0.6091197 & -0.34329080 & -0.91239230 & -0.68291201 & -0.265593191 & 1 & 1 & 0 & 0 & 0\\\\\n",
       "\t -0.8431215 &  0.14691286 & -1.01487317 & -0.2833842 &  0.29785633 & -0.34501177 & -0.36947757 &  1.218711612 & 1 & 1 & 1 & 1 & 1\\\\\n",
       "\t -0.8431215 & -0.93675213 & -0.19203214 &  0.2595083 & -0.42202816 & -0.30136711 & -0.47194652 & -0.876777521 & 0 & 1 & 0 & 0 & 0\\\\\n",
       "\\end{tabular}\n"
      ],
      "text/markdown": [
       "\n",
       "A data.table: 764 × 13\n",
       "\n",
       "| Pregnancies &lt;dbl&gt; | Glucose &lt;dbl&gt; | BloodPressure &lt;dbl&gt; | SkinThickness &lt;dbl&gt; | Insulin &lt;dbl&gt; | BMI &lt;dbl&gt; | DiabetesPedigreeFunction &lt;dbl&gt; | Age &lt;dbl&gt; | D1 &lt;dbl&gt; | D2 &lt;dbl&gt; | D3 &lt;dbl&gt; | D4 &lt;dbl&gt; | Outcome &lt;fct&gt; |\n",
       "|---|---|---|---|---|---|---|---|---|---|---|---|---|\n",
       "|  0.6397165 |  0.86935618 | -0.02746393 |  0.6938222 |  0.29785633 |  0.16417589 |  0.46835679 |  1.480647754 | 1 | 1 | 1 | 1 | 1 |\n",
       "| -0.8431215 | -1.19945879 | -0.52116855 |  0.0423513 | -0.42202816 | -0.85419942 | -0.36344998 | -0.178281144 | 1 | 1 | 0 | 0 | 0 |\n",
       "|  1.2328518 |  2.01869783 | -0.68573676 | -0.9348551 |  0.29785633 | -1.33429064 |  0.60397746 | -0.090969096 | 1 | 0 | 1 | 1 | 1 |\n",
       "| -0.8431215 | -1.06810546 | -0.52116855 | -0.6091197 | -0.54575831 | -0.63597614 | -0.91798783 | -1.051401616 | 0 | 1 | 0 | 0 | 0 |\n",
       "| -1.1396892 |  0.50813452 | -2.66055524 |  0.6938222 |  0.28660814 |  1.54625666 |  5.47426641 | -0.003657049 | 1 | 1 | 1 | 0 | 1 |\n",
       "|  0.3431489 | -0.18147047 |  0.13710427 | -0.7176981 | -0.42202816 | -0.99968161 | -0.81551888 | -0.265593191 | 1 | 1 | 0 | 0 | 0 |\n",
       "| -0.2499863 | -1.42932712 | -1.83771420 |  0.3680868 | -0.61324748 | -0.21407780 | -0.67387063 | -0.614841380 | 0 | 1 | 0 | 0 | 1 |\n",
       "|  1.8259870 | -0.21430881 | -0.35660035 |  0.2595083 | -0.42202816 |  0.41149560 | -1.01744299 | -0.352905238 | 0 | 1 | 0 | 1 | 0 |\n",
       "| -0.5465539 |  2.47843448 | -0.19203214 |  1.7796072 |  4.50468135 | -0.28681889 | -0.94511197 |  1.742583895 | 1 | 1 | 1 | 1 | 1 |\n",
       "|  1.2328518 |  0.11407452 |  1.94735454 | -0.0662272 |  0.29785633 | -0.08314383 | -0.72209131 |  1.829895943 | 1 | 1 | 0 | 1 | 1 |\n",
       "|  0.0465813 | -0.37850047 |  1.61821813 |  0.5852438 | -0.42202816 |  0.74610463 | -0.84565681 | -0.265593191 | 1 | 1 | 0 | 0 | 0 |\n",
       "|  1.8259870 |  1.52612283 |  0.13710427 |  0.5852438 |  0.29785633 |  0.80429751 |  0.19711545 |  0.083654998 | 1 | 1 | 1 | 1 | 1 |\n",
       "|  1.8259870 |  0.57381118 |  0.63080889 | -0.6091197 | -0.42202816 | -0.78145833 |  2.92158402 |  2.091832084 | 1 | 1 | 1 | 1 | 0 |\n",
       "| -0.8431215 |  2.21572782 | -1.01487317 | -0.6091197 |  7.91288451 | -0.34501177 | -0.22180173 |  2.266456179 | 1 | 1 | 1 | 1 | 1 |\n",
       "|  0.3431489 |  1.46044617 | -0.02746393 | -1.0434336 |  0.36534550 | -0.97058517 |  0.34780509 |  1.567959801 | 1 | 1 | 1 | 1 | 1 |\n",
       "|  0.9362842 | -0.70688380 |  0.13710427 | -0.2833842 |  0.29785633 | -0.35955999 |  0.03738444 | -0.090969096 | 1 | 1 | 0 | 1 | 1 |\n",
       "| -1.1396892 | -0.11579381 |  0.95994530 |  1.9967642 |  0.98399624 |  1.93905857 |  0.23930855 | -0.178281144 | 1 | 1 | 0 | 0 | 1 |\n",
       "|  0.9362842 | -0.47701547 |  0.13710427 | -0.2833842 |  0.29785633 | -0.41775286 | -0.65578787 | -0.178281144 | 1 | 1 | 0 | 1 | 1 |\n",
       "| -0.8431215 | -0.60836880 | -3.48339627 |  1.0195577 | -0.66948846 |  1.57535310 | -0.86976715 | -0.003657049 | 1 | 1 | 0 | 0 | 0 |\n",
       "| -0.8431215 | -0.21430881 | -0.19203214 |  0.1509298 | -0.52326192 |  0.30965807 |  0.17300511 | -0.090969096 | 1 | 1 | 0 | 0 | 1 |\n",
       "| -0.2499863 |  0.14691286 |  1.28908172 |  1.3452932 |  1.04023722 |  0.99342435 |  0.70041883 | -0.527529332 | 0 | 1 | 1 | 0 | 0 |\n",
       "|  1.2328518 | -0.73972213 |  0.95994530 |  0.3680868 | -0.42202816 |  0.42604382 | -0.25193965 |  1.480647754 | 1 | 1 | 0 | 1 | 0 |\n",
       "|  0.9362842 |  2.44559615 |  1.45364992 |  0.8024007 |  0.29785633 |  1.06616545 | -0.06207072 |  0.694839329 | 1 | 1 | 1 | 1 | 1 |\n",
       "|  1.5294194 | -0.08295547 |  0.63080889 |  0.6938222 |  0.29785633 | -0.50504217 | -0.62866374 | -0.352905238 | 0 | 1 | 0 | 1 | 1 |\n",
       "|  2.1225546 |  0.70516451 |  1.78278633 |  0.4766653 |  0.03914784 |  0.60062245 | -0.65578787 |  1.567959801 | 1 | 1 | 1 | 1 | 1 |\n",
       "|  1.8259870 |  0.11407452 | -0.19203214 | -0.2833842 | -0.30954621 | -0.19952958 | -0.80346371 |  0.694839329 | 1 | 1 | 0 | 1 | 1 |\n",
       "|  0.9362842 |  0.83651784 |  0.30167248 |  0.6938222 |  0.29785633 |  1.00797257 | -0.64674649 |  0.869463423 | 1 | 1 | 1 | 1 | 1 |\n",
       "| -0.8431215 | -0.80539880 | -0.52116855 | -1.4777476 | -0.02834133 | -1.34883886 |  0.04642582 | -0.964089569 | 0 | 0 | 0 | 0 | 0 |\n",
       "|  2.7156898 |  0.77084118 |  0.79537710 | -1.0434336 | -0.36578719 | -1.49432105 | -0.68291201 |  2.091832084 | 1 | 0 | 1 | 1 | 0 |\n",
       "|  0.3431489 | -0.14863214 |  1.61821813 |  0.1509298 | -0.42202816 |  0.23691698 | -0.40564308 |  0.432903187 | 1 | 1 | 0 | 1 | 0 |\n",
       "| ... | ... | ... | ... | ... | ... | ... | ... | ... | ... | ... | ... | ... |\n",
       "| -0.5465539 | -0.73972213 | -1.01487317 | -1.2605906 |  0.19662258 |  0.60062245 | -0.05604313 | -1.051401616 | 0 | 1 | 0 | 0 | 0 |\n",
       "| -0.8431215 | -0.64120713 |  0.13710427 |  0.8024007 |  0.29785633 |  1.02252079 | -0.53824996 |  0.782151376 | 1 | 1 | 0 | 1 | 1 |\n",
       "|  2.1225546 | -0.05011714 |  0.63080889 |  0.9109792 |  0.08414062 |  1.42987091 |  0.94453603 |  1.306023659 | 1 | 1 | 0 | 1 | 1 |\n",
       "| -0.2499863 | -0.64120713 | -2.33141882 | -0.9348551 | -0.54575831 | -0.24317424 | -0.21577414 | -0.614841380 | 0 | 1 | 0 | 0 | 0 |\n",
       "| -0.8431215 | -0.41133880 | -1.17944138 | -1.1520121 | -0.29829802 | -0.57778327 | -0.76127061 | -0.964089569 | 0 | 1 | 0 | 0 | 0 |\n",
       "|  1.5294194 |  0.60664951 |  1.78278633 |  0.0423513 |  0.29785633 |  0.03324192 |  0.79083261 |  1.044087518 | 1 | 1 | 1 | 1 | 1 |\n",
       "|  2.7156898 |  1.03354784 |  1.28908172 |  0.9109792 | -0.02834133 |  1.18255120 |  2.11690138 |  0.520215234 | 1 | 1 | 1 | 1 | 0 |\n",
       "|  2.4191222 | -0.70688380 |  0.95994530 |  0.4766653 | -0.42202816 | -0.35955999 |  0.04943961 |  1.131399565 | 1 | 1 | 0 | 1 | 0 |\n",
       "| -0.8431215 |  0.83651784 |  1.78278633 |  1.3452932 |  0.29785633 |  2.44824622 | -0.34235343 | -0.527529332 | 0 | 1 | 1 | 0 | 1 |\n",
       "| -0.8431215 | -1.33081212 |  0.13710427 |  1.3452932 | -0.96194153 |  2.01179966 |  1.88182555 | -0.090969096 | 1 | 1 | 0 | 0 | 0 |\n",
       "| -0.2499863 |  2.15005116 | -0.19203214 | -0.7176981 |  0.64655038 |  0.57152601 | -0.19166380 |  0.258279093 | 1 | 1 | 1 | 1 | 1 |\n",
       "|  0.6397165 |  1.32909284 | -0.85030497 | -0.8262766 |  0.29785633 | -1.18880845 | -0.88483611 |  1.480647754 | 1 | 0 | 1 | 1 | 1 |\n",
       "|  0.0465813 |  0.47529618 | -0.19203214 | -0.1748057 |  0.29785633 | -0.18498136 |  2.14101172 | -0.964089569 | 0 | 1 | 1 | 0 | 1 |\n",
       "| -0.8431215 | -0.01727881 |  0.46624068 |  1.1281362 | -0.77072222 |  0.94977970 | -0.63469132 | -0.440217285 | 0 | 1 | 0 | 0 | 0 |\n",
       "| -0.2499863 | -0.44417714 | -0.85030497 | -0.5005412 | -0.42202816 | -0.94148874 | -0.74921544 | -0.702153427 | 0 | 1 | 0 | 0 | 0 |\n",
       "| -1.1396892 |  1.95302116 |  1.28908172 |  1.6710287 |  4.13349091 |  1.57535310 | -0.75222924 | -0.614841380 | 0 | 1 | 1 | 0 | 1 |\n",
       "|  1.2328518 |  1.06638617 |  0.46624068 |  0.3680868 |  0.29785633 | -0.01040274 | -0.08618106 |  1.044087518 | 1 | 1 | 1 | 1 | 1 |\n",
       "| -0.8431215 |  0.21258952 |  1.28908172 |  1.1281362 | -0.36578719 |  0.58607423 |  1.76428764 |  0.345591140 | 1 | 1 | 1 | 1 | 1 |\n",
       "|  0.9362842 |  0.50813452 |  1.45364992 |  1.3452932 | -0.42202816 | -0.06859561 | -0.24289828 |  0.520215234 | 1 | 1 | 1 | 1 | 0 |\n",
       "| -1.1396892 |  0.04839786 | -0.02746393 |  0.3680868 |  0.29785633 |  0.55697779 | -0.64373270 |  1.655271848 | 1 | 1 | 0 | 1 | 1 |\n",
       "| -0.8431215 | -0.50985380 |  0.30167248 |  0.5852438 | -0.42202816 |  0.73155642 | -0.82757405 | -0.614841380 | 0 | 1 | 0 | 0 | 0 |\n",
       "|  0.6397165 |  2.24856615 |  1.61821813 |  0.3680868 |  0.29785633 |  0.44059204 | -0.58345685 |  2.877640509 | 0 | 1 | 1 | 1 | 1 |\n",
       "| -0.5465539 | -1.10094379 | -1.17944138 | -0.2833842 | -1.42311754 | -0.59233149 |  0.88727397 | -0.964089569 | 0 | 1 | 0 | 0 | 0 |\n",
       "|  1.5294194 |  1.59179950 |  0.13710427 |  0.2595083 |  0.29785633 |  1.67719063 | -0.20673276 |  0.869463423 | 1 | 1 | 1 | 1 | 1 |\n",
       "|  1.5294194 | -1.06810546 | -0.85030497 | -1.0434336 | -0.42202816 | -1.45067639 | -0.99333265 | -0.003657049 | 1 | 0 | 0 | 1 | 0 |\n",
       "|  1.8259870 | -0.67404546 |  0.30167248 |  2.1053426 |  0.42158648 |  0.06233836 | -0.90593266 |  2.615704368 | 0 | 1 | 0 | 1 | 0 |\n",
       "| -0.5465539 |  0.01555952 | -0.19203214 | -0.1748057 | -0.42202816 |  0.62971889 | -0.39660170 | -0.527529332 | 0 | 1 | 0 | 0 | 0 |\n",
       "|  0.3431489 | -0.01727881 | -0.02746393 | -0.6091197 | -0.34329080 | -0.91239230 | -0.68291201 | -0.265593191 | 1 | 1 | 0 | 0 | 0 |\n",
       "| -0.8431215 |  0.14691286 | -1.01487317 | -0.2833842 |  0.29785633 | -0.34501177 | -0.36947757 |  1.218711612 | 1 | 1 | 1 | 1 | 1 |\n",
       "| -0.8431215 | -0.93675213 | -0.19203214 |  0.2595083 | -0.42202816 | -0.30136711 | -0.47194652 | -0.876777521 | 0 | 1 | 0 | 0 | 0 |\n",
       "\n"
      ],
      "text/plain": [
       "    Pregnancies Glucose     BloodPressure SkinThickness Insulin     BMI        \n",
       "1    0.6397165   0.86935618 -0.02746393    0.6938222     0.29785633  0.16417589\n",
       "2   -0.8431215  -1.19945879 -0.52116855    0.0423513    -0.42202816 -0.85419942\n",
       "3    1.2328518   2.01869783 -0.68573676   -0.9348551     0.29785633 -1.33429064\n",
       "4   -0.8431215  -1.06810546 -0.52116855   -0.6091197    -0.54575831 -0.63597614\n",
       "5   -1.1396892   0.50813452 -2.66055524    0.6938222     0.28660814  1.54625666\n",
       "6    0.3431489  -0.18147047  0.13710427   -0.7176981    -0.42202816 -0.99968161\n",
       "7   -0.2499863  -1.42932712 -1.83771420    0.3680868    -0.61324748 -0.21407780\n",
       "8    1.8259870  -0.21430881 -0.35660035    0.2595083    -0.42202816  0.41149560\n",
       "9   -0.5465539   2.47843448 -0.19203214    1.7796072     4.50468135 -0.28681889\n",
       "10   1.2328518   0.11407452  1.94735454   -0.0662272     0.29785633 -0.08314383\n",
       "11   0.0465813  -0.37850047  1.61821813    0.5852438    -0.42202816  0.74610463\n",
       "12   1.8259870   1.52612283  0.13710427    0.5852438     0.29785633  0.80429751\n",
       "13   1.8259870   0.57381118  0.63080889   -0.6091197    -0.42202816 -0.78145833\n",
       "14  -0.8431215   2.21572782 -1.01487317   -0.6091197     7.91288451 -0.34501177\n",
       "15   0.3431489   1.46044617 -0.02746393   -1.0434336     0.36534550 -0.97058517\n",
       "16   0.9362842  -0.70688380  0.13710427   -0.2833842     0.29785633 -0.35955999\n",
       "17  -1.1396892  -0.11579381  0.95994530    1.9967642     0.98399624  1.93905857\n",
       "18   0.9362842  -0.47701547  0.13710427   -0.2833842     0.29785633 -0.41775286\n",
       "19  -0.8431215  -0.60836880 -3.48339627    1.0195577    -0.66948846  1.57535310\n",
       "20  -0.8431215  -0.21430881 -0.19203214    0.1509298    -0.52326192  0.30965807\n",
       "21  -0.2499863   0.14691286  1.28908172    1.3452932     1.04023722  0.99342435\n",
       "22   1.2328518  -0.73972213  0.95994530    0.3680868    -0.42202816  0.42604382\n",
       "23   0.9362842   2.44559615  1.45364992    0.8024007     0.29785633  1.06616545\n",
       "24   1.5294194  -0.08295547  0.63080889    0.6938222     0.29785633 -0.50504217\n",
       "25   2.1225546   0.70516451  1.78278633    0.4766653     0.03914784  0.60062245\n",
       "26   1.8259870   0.11407452 -0.19203214   -0.2833842    -0.30954621 -0.19952958\n",
       "27   0.9362842   0.83651784  0.30167248    0.6938222     0.29785633  1.00797257\n",
       "28  -0.8431215  -0.80539880 -0.52116855   -1.4777476    -0.02834133 -1.34883886\n",
       "29   2.7156898   0.77084118  0.79537710   -1.0434336    -0.36578719 -1.49432105\n",
       "30   0.3431489  -0.14863214  1.61821813    0.1509298    -0.42202816  0.23691698\n",
       "... ...         ...         ...           ...           ...         ...        \n",
       "735 -0.5465539  -0.73972213 -1.01487317   -1.2605906     0.19662258  0.60062245\n",
       "736 -0.8431215  -0.64120713  0.13710427    0.8024007     0.29785633  1.02252079\n",
       "737  2.1225546  -0.05011714  0.63080889    0.9109792     0.08414062  1.42987091\n",
       "738 -0.2499863  -0.64120713 -2.33141882   -0.9348551    -0.54575831 -0.24317424\n",
       "739 -0.8431215  -0.41133880 -1.17944138   -1.1520121    -0.29829802 -0.57778327\n",
       "740  1.5294194   0.60664951  1.78278633    0.0423513     0.29785633  0.03324192\n",
       "741  2.7156898   1.03354784  1.28908172    0.9109792    -0.02834133  1.18255120\n",
       "742  2.4191222  -0.70688380  0.95994530    0.4766653    -0.42202816 -0.35955999\n",
       "743 -0.8431215   0.83651784  1.78278633    1.3452932     0.29785633  2.44824622\n",
       "744 -0.8431215  -1.33081212  0.13710427    1.3452932    -0.96194153  2.01179966\n",
       "745 -0.2499863   2.15005116 -0.19203214   -0.7176981     0.64655038  0.57152601\n",
       "746  0.6397165   1.32909284 -0.85030497   -0.8262766     0.29785633 -1.18880845\n",
       "747  0.0465813   0.47529618 -0.19203214   -0.1748057     0.29785633 -0.18498136\n",
       "748 -0.8431215  -0.01727881  0.46624068    1.1281362    -0.77072222  0.94977970\n",
       "749 -0.2499863  -0.44417714 -0.85030497   -0.5005412    -0.42202816 -0.94148874\n",
       "750 -1.1396892   1.95302116  1.28908172    1.6710287     4.13349091  1.57535310\n",
       "751  1.2328518   1.06638617  0.46624068    0.3680868     0.29785633 -0.01040274\n",
       "752 -0.8431215   0.21258952  1.28908172    1.1281362    -0.36578719  0.58607423\n",
       "753  0.9362842   0.50813452  1.45364992    1.3452932    -0.42202816 -0.06859561\n",
       "754 -1.1396892   0.04839786 -0.02746393    0.3680868     0.29785633  0.55697779\n",
       "755 -0.8431215  -0.50985380  0.30167248    0.5852438    -0.42202816  0.73155642\n",
       "756  0.6397165   2.24856615  1.61821813    0.3680868     0.29785633  0.44059204\n",
       "757 -0.5465539  -1.10094379 -1.17944138   -0.2833842    -1.42311754 -0.59233149\n",
       "758  1.5294194   1.59179950  0.13710427    0.2595083     0.29785633  1.67719063\n",
       "759  1.5294194  -1.06810546 -0.85030497   -1.0434336    -0.42202816 -1.45067639\n",
       "760  1.8259870  -0.67404546  0.30167248    2.1053426     0.42158648  0.06233836\n",
       "761 -0.5465539   0.01555952 -0.19203214   -0.1748057    -0.42202816  0.62971889\n",
       "762  0.3431489  -0.01727881 -0.02746393   -0.6091197    -0.34329080 -0.91239230\n",
       "763 -0.8431215   0.14691286 -1.01487317   -0.2833842     0.29785633 -0.34501177\n",
       "764 -0.8431215  -0.93675213 -0.19203214    0.2595083    -0.42202816 -0.30136711\n",
       "    DiabetesPedigreeFunction Age          D1  D2  D3  D4  Outcome\n",
       "1    0.46835679               1.480647754 1   1   1   1   1      \n",
       "2   -0.36344998              -0.178281144 1   1   0   0   0      \n",
       "3    0.60397746              -0.090969096 1   0   1   1   1      \n",
       "4   -0.91798783              -1.051401616 0   1   0   0   0      \n",
       "5    5.47426641              -0.003657049 1   1   1   0   1      \n",
       "6   -0.81551888              -0.265593191 1   1   0   0   0      \n",
       "7   -0.67387063              -0.614841380 0   1   0   0   1      \n",
       "8   -1.01744299              -0.352905238 0   1   0   1   0      \n",
       "9   -0.94511197               1.742583895 1   1   1   1   1      \n",
       "10  -0.72209131               1.829895943 1   1   0   1   1      \n",
       "11  -0.84565681              -0.265593191 1   1   0   0   0      \n",
       "12   0.19711545               0.083654998 1   1   1   1   1      \n",
       "13   2.92158402               2.091832084 1   1   1   1   0      \n",
       "14  -0.22180173               2.266456179 1   1   1   1   1      \n",
       "15   0.34780509               1.567959801 1   1   1   1   1      \n",
       "16   0.03738444              -0.090969096 1   1   0   1   1      \n",
       "17   0.23930855              -0.178281144 1   1   0   0   1      \n",
       "18  -0.65578787              -0.178281144 1   1   0   1   1      \n",
       "19  -0.86976715              -0.003657049 1   1   0   0   0      \n",
       "20   0.17300511              -0.090969096 1   1   0   0   1      \n",
       "21   0.70041883              -0.527529332 0   1   1   0   0      \n",
       "22  -0.25193965               1.480647754 1   1   0   1   0      \n",
       "23  -0.06207072               0.694839329 1   1   1   1   1      \n",
       "24  -0.62866374              -0.352905238 0   1   0   1   1      \n",
       "25  -0.65578787               1.567959801 1   1   1   1   1      \n",
       "26  -0.80346371               0.694839329 1   1   0   1   1      \n",
       "27  -0.64674649               0.869463423 1   1   1   1   1      \n",
       "28   0.04642582              -0.964089569 0   0   0   0   0      \n",
       "29  -0.68291201               2.091832084 1   0   1   1   0      \n",
       "30  -0.40564308               0.432903187 1   1   0   1   0      \n",
       "... ...                      ...          ... ... ... ... ...    \n",
       "735 -0.05604313              -1.051401616 0   1   0   0   0      \n",
       "736 -0.53824996               0.782151376 1   1   0   1   1      \n",
       "737  0.94453603               1.306023659 1   1   0   1   1      \n",
       "738 -0.21577414              -0.614841380 0   1   0   0   0      \n",
       "739 -0.76127061              -0.964089569 0   1   0   0   0      \n",
       "740  0.79083261               1.044087518 1   1   1   1   1      \n",
       "741  2.11690138               0.520215234 1   1   1   1   0      \n",
       "742  0.04943961               1.131399565 1   1   0   1   0      \n",
       "743 -0.34235343              -0.527529332 0   1   1   0   1      \n",
       "744  1.88182555              -0.090969096 1   1   0   0   0      \n",
       "745 -0.19166380               0.258279093 1   1   1   1   1      \n",
       "746 -0.88483611               1.480647754 1   0   1   1   1      \n",
       "747  2.14101172              -0.964089569 0   1   1   0   1      \n",
       "748 -0.63469132              -0.440217285 0   1   0   0   0      \n",
       "749 -0.74921544              -0.702153427 0   1   0   0   0      \n",
       "750 -0.75222924              -0.614841380 0   1   1   0   1      \n",
       "751 -0.08618106               1.044087518 1   1   1   1   1      \n",
       "752  1.76428764               0.345591140 1   1   1   1   1      \n",
       "753 -0.24289828               0.520215234 1   1   1   1   0      \n",
       "754 -0.64373270               1.655271848 1   1   0   1   1      \n",
       "755 -0.82757405              -0.614841380 0   1   0   0   0      \n",
       "756 -0.58345685               2.877640509 0   1   1   1   1      \n",
       "757  0.88727397              -0.964089569 0   1   0   0   0      \n",
       "758 -0.20673276               0.869463423 1   1   1   1   1      \n",
       "759 -0.99333265              -0.003657049 1   0   0   1   0      \n",
       "760 -0.90593266               2.615704368 0   1   0   1   0      \n",
       "761 -0.39660170              -0.527529332 0   1   0   0   0      \n",
       "762 -0.68291201              -0.265593191 1   1   0   0   0      \n",
       "763 -0.36947757               1.218711612 1   1   1   1   1      \n",
       "764 -0.47194652              -0.876777521 0   1   0   0   0      "
      ]
     },
     "metadata": {},
     "output_type": "display_data"
    }
   ],
   "source": [
    "#copy datatable\n",
    "data.copy <- copy(data)\n",
    "\n",
    "# whitening\n",
    "data[,c(1:8) := lapply(.SD,'scale'), .SDcols = c(1:8)]\n",
    "data[,Outcome:=as.factor(Outcome)]\n",
    "data"
   ]
  },
  {
   "cell_type": "code",
   "execution_count": 156,
   "metadata": {},
   "outputs": [],
   "source": [
    "# train_test split\n",
    "sample_size <- floor(0.7*nrow(data))\n",
    "\n",
    "set.seed(123)\n",
    "train_ind <- sample(seq_len(nrow(data)),size = sample_size)\n",
    "\n",
    "train <- data[train_ind, 1:13]\n",
    "test_x <- data[-train_ind, 1:12]\n",
    "test_y <- data[-train_ind, 13]"
   ]
  },
  {
   "cell_type": "code",
   "execution_count": 161,
   "metadata": {},
   "outputs": [
    {
     "name": "stdout",
     "output_type": "stream",
     "text": [
      "\n",
      "Call:\n",
      " randomForest(formula = Outcome ~ ., data = train, mtry = 5, importance = TRUE) \n",
      "               Type of random forest: classification\n",
      "                     Number of trees: 500\n",
      "No. of variables tried at each split: 5\n",
      "\n",
      "        OOB estimate of  error rate: 12.17%\n",
      "Confusion matrix:\n",
      "    0   1 class.error\n",
      "0 314  33  0.09510086\n",
      "1  32 155  0.17112299\n"
     ]
    }
   ],
   "source": [
    "rf_model1 <- randomForest(Outcome~., train, mtry = 5, importance = TRUE)\n",
    "print(rf_model1)"
   ]
  },
  {
   "cell_type": "code",
   "execution_count": 162,
   "metadata": {},
   "outputs": [
    {
     "ename": "ERROR",
     "evalue": "Error in confusionMatrix(y_pred, test_y): 함수 \"confusionMatrix\"를 찾을 수 없습니다\n",
     "output_type": "error",
     "traceback": [
      "Error in confusionMatrix(y_pred, test_y): 함수 \"confusionMatrix\"를 찾을 수 없습니다\nTraceback:\n"
     ]
    }
   ],
   "source": [
    "y_pred = predict(rf_model1, test_x)\n",
    "confusionMatrix(y_pred, test_y)"
   ]
  }
 ],
 "metadata": {
  "kernelspec": {
   "display_name": "R",
   "language": "R",
   "name": "ir"
  },
  "language_info": {
   "codemirror_mode": "r",
   "file_extension": ".r",
   "mimetype": "text/x-r-source",
   "name": "R",
   "pygments_lexer": "r",
   "version": "4.0.3"
  }
 },
 "nbformat": 4,
 "nbformat_minor": 4
}
